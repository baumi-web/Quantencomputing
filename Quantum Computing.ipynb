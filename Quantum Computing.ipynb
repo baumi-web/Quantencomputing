{
 "cells": [
  {
   "cell_type": "markdown",
   "id": "7ae5172b",
   "metadata": {},
   "source": [
    "# Hausarbeit Quantencomputing - Lösungen\n",
    "\n",
    "Dieses Python-Notebook enthält die Lösungen für die Aufgaben der Hausarbeit im Modul Quantencomputing.\n",
    "\n",
    "\n",
    "\n",
    "Zuerst importieren wir alle benötigten Pakete und Module von Python, NumPy, Matplotlib und Qiskit. Außerdem initialisieren wir die Qiskit Aer Simulatoren, die wir für die Berechnungen verwenden werden.\n"
   ]
  },
  {
   "cell_type": "markdown",
   "id": "51948af1",
   "metadata": {},
   "source": [
    "# Import der notwendigen Bibliotheken"
   ]
  },
  {
   "cell_type": "code",
   "execution_count": 2,
   "id": "8270cad4",
   "metadata": {},
   "outputs": [
    {
     "name": "stdout",
     "output_type": "stream",
     "text": [
      "Requirement already satisfied: numpy in c:\\users\\lbaum\\appdata\\local\\packages\\pythonsoftwarefoundation.python.3.11_qbz5n2kfra8p0\\localcache\\local-packages\\python311\\site-packages (2.1.3)\n",
      "Requirement already satisfied: matplotlib in c:\\users\\lbaum\\appdata\\local\\packages\\pythonsoftwarefoundation.python.3.11_qbz5n2kfra8p0\\localcache\\local-packages\\python311\\site-packages (3.9.2)\n",
      "Collecting qiskit\n",
      "  Using cached qiskit-2.0.0-cp39-abi3-win_amd64.whl.metadata (12 kB)\n",
      "Collecting qiskit-aer\n",
      "  Downloading qiskit_aer-0.17.0-cp311-cp311-win_amd64.whl.metadata (8.4 kB)\n",
      "Requirement already satisfied: scipy in c:\\users\\lbaum\\appdata\\local\\packages\\pythonsoftwarefoundation.python.3.11_qbz5n2kfra8p0\\localcache\\local-packages\\python311\\site-packages (1.14.1)\n",
      "Collecting pylatexenc\n",
      "  Using cached pylatexenc-2.10.tar.gz (162 kB)\n",
      "  Installing build dependencies: started\n",
      "  Installing build dependencies: finished with status 'done'\n",
      "  Getting requirements to build wheel: started\n",
      "  Getting requirements to build wheel: finished with status 'done'\n",
      "  Preparing metadata (pyproject.toml): started\n",
      "  Preparing metadata (pyproject.toml): finished with status 'done'\n",
      "Collecting qiskit-ibm-provider\n",
      "  Using cached qiskit_ibm_provider-0.11.0-py3-none-any.whl.metadata (7.6 kB)\n",
      "Requirement already satisfied: contourpy>=1.0.1 in c:\\users\\lbaum\\appdata\\local\\packages\\pythonsoftwarefoundation.python.3.11_qbz5n2kfra8p0\\localcache\\local-packages\\python311\\site-packages (from matplotlib) (1.3.1)\n",
      "Requirement already satisfied: cycler>=0.10 in c:\\users\\lbaum\\appdata\\local\\packages\\pythonsoftwarefoundation.python.3.11_qbz5n2kfra8p0\\localcache\\local-packages\\python311\\site-packages (from matplotlib) (0.12.1)\n",
      "Requirement already satisfied: fonttools>=4.22.0 in c:\\users\\lbaum\\appdata\\local\\packages\\pythonsoftwarefoundation.python.3.11_qbz5n2kfra8p0\\localcache\\local-packages\\python311\\site-packages (from matplotlib) (4.55.0)\n",
      "Requirement already satisfied: kiwisolver>=1.3.1 in c:\\users\\lbaum\\appdata\\local\\packages\\pythonsoftwarefoundation.python.3.11_qbz5n2kfra8p0\\localcache\\local-packages\\python311\\site-packages (from matplotlib) (1.4.7)\n",
      "Requirement already satisfied: packaging>=20.0 in c:\\users\\lbaum\\appdata\\local\\packages\\pythonsoftwarefoundation.python.3.11_qbz5n2kfra8p0\\localcache\\local-packages\\python311\\site-packages (from matplotlib) (24.2)\n",
      "Requirement already satisfied: pillow>=8 in c:\\users\\lbaum\\appdata\\local\\packages\\pythonsoftwarefoundation.python.3.11_qbz5n2kfra8p0\\localcache\\local-packages\\python311\\site-packages (from matplotlib) (10.4.0)\n",
      "Requirement already satisfied: pyparsing>=2.3.1 in c:\\users\\lbaum\\appdata\\local\\packages\\pythonsoftwarefoundation.python.3.11_qbz5n2kfra8p0\\localcache\\local-packages\\python311\\site-packages (from matplotlib) (3.2.0)\n",
      "Requirement already satisfied: python-dateutil>=2.7 in c:\\users\\lbaum\\appdata\\local\\packages\\pythonsoftwarefoundation.python.3.11_qbz5n2kfra8p0\\localcache\\local-packages\\python311\\site-packages (from matplotlib) (2.9.0.post0)\n",
      "Collecting rustworkx>=0.15.0 (from qiskit)\n",
      "  Using cached rustworkx-0.16.0-cp39-abi3-win_amd64.whl.metadata (10 kB)\n",
      "Collecting sympy>=1.3 (from qiskit)\n",
      "  Using cached sympy-1.14.0-py3-none-any.whl.metadata (12 kB)\n",
      "Collecting dill>=0.3 (from qiskit)\n",
      "  Using cached dill-0.4.0-py3-none-any.whl.metadata (10 kB)\n",
      "Collecting stevedore>=3.0.0 (from qiskit)\n",
      "  Using cached stevedore-5.4.1-py3-none-any.whl.metadata (2.3 kB)\n",
      "Requirement already satisfied: typing-extensions in c:\\users\\lbaum\\appdata\\local\\packages\\pythonsoftwarefoundation.python.3.11_qbz5n2kfra8p0\\localcache\\local-packages\\python311\\site-packages (from qiskit) (4.12.2)\n",
      "Collecting symengine<0.14,>=0.11 (from qiskit)\n",
      "  Downloading symengine-0.13.0-cp311-cp311-win_amd64.whl.metadata (1.2 kB)\n",
      "Requirement already satisfied: psutil>=5 in c:\\users\\lbaum\\appdata\\local\\packages\\pythonsoftwarefoundation.python.3.11_qbz5n2kfra8p0\\localcache\\local-packages\\python311\\site-packages (from qiskit-aer) (6.1.0)\n",
      "Collecting requests>=2.19 (from qiskit-ibm-provider)\n",
      "  Using cached requests-2.32.3-py3-none-any.whl.metadata (4.6 kB)\n",
      "Collecting requests-ntlm>=1.1.0 (from qiskit-ibm-provider)\n",
      "  Using cached requests_ntlm-1.3.0-py3-none-any.whl.metadata (2.4 kB)\n",
      "Collecting urllib3>=1.21.1 (from qiskit-ibm-provider)\n",
      "  Using cached urllib3-2.4.0-py3-none-any.whl.metadata (6.5 kB)\n",
      "Collecting websocket-client>=1.5.1 (from qiskit-ibm-provider)\n",
      "  Using cached websocket_client-1.8.0-py3-none-any.whl.metadata (8.0 kB)\n",
      "Collecting websockets>=10.0 (from qiskit-ibm-provider)\n",
      "  Downloading websockets-15.0.1-cp311-cp311-win_amd64.whl.metadata (7.0 kB)\n",
      "Requirement already satisfied: six>=1.5 in c:\\users\\lbaum\\appdata\\local\\packages\\pythonsoftwarefoundation.python.3.11_qbz5n2kfra8p0\\localcache\\local-packages\\python311\\site-packages (from python-dateutil>=2.7->matplotlib) (1.16.0)\n",
      "Collecting charset-normalizer<4,>=2 (from requests>=2.19->qiskit-ibm-provider)\n",
      "  Downloading charset_normalizer-3.4.1-cp311-cp311-win_amd64.whl.metadata (36 kB)\n",
      "Collecting idna<4,>=2.5 (from requests>=2.19->qiskit-ibm-provider)\n",
      "  Using cached idna-3.10-py3-none-any.whl.metadata (10 kB)\n",
      "Collecting certifi>=2017.4.17 (from requests>=2.19->qiskit-ibm-provider)\n",
      "  Using cached certifi-2025.4.26-py3-none-any.whl.metadata (2.5 kB)\n",
      "Collecting cryptography>=1.3 (from requests-ntlm>=1.1.0->qiskit-ibm-provider)\n",
      "  Using cached cryptography-44.0.2-cp39-abi3-win_amd64.whl.metadata (5.7 kB)\n",
      "Collecting pyspnego>=0.4.0 (from requests-ntlm>=1.1.0->qiskit-ibm-provider)\n",
      "  Using cached pyspnego-0.11.2-py3-none-any.whl.metadata (5.4 kB)\n",
      "Collecting pbr>=2.0.0 (from stevedore>=3.0.0->qiskit)\n",
      "  Using cached pbr-6.1.1-py2.py3-none-any.whl.metadata (3.4 kB)\n",
      "Collecting mpmath<1.4,>=1.1.0 (from sympy>=1.3->qiskit)\n",
      "  Using cached mpmath-1.3.0-py3-none-any.whl.metadata (8.6 kB)\n",
      "Collecting cffi>=1.12 (from cryptography>=1.3->requests-ntlm>=1.1.0->qiskit-ibm-provider)\n",
      "  Downloading cffi-1.17.1-cp311-cp311-win_amd64.whl.metadata (1.6 kB)\n",
      "Requirement already satisfied: setuptools in c:\\program files\\windowsapps\\pythonsoftwarefoundation.python.3.11_3.11.2544.0_x64__qbz5n2kfra8p0\\lib\\site-packages (from pbr>=2.0.0->stevedore>=3.0.0->qiskit) (65.5.0)\n",
      "Collecting sspilib>=0.1.0 (from pyspnego>=0.4.0->requests-ntlm>=1.1.0->qiskit-ibm-provider)\n",
      "  Downloading sspilib-0.3.1-cp311-cp311-win_amd64.whl.metadata (6.2 kB)\n",
      "Collecting pycparser (from cffi>=1.12->cryptography>=1.3->requests-ntlm>=1.1.0->qiskit-ibm-provider)\n",
      "  Using cached pycparser-2.22-py3-none-any.whl.metadata (943 bytes)\n",
      "Using cached qiskit-2.0.0-cp39-abi3-win_amd64.whl (6.2 MB)\n",
      "Downloading qiskit_aer-0.17.0-cp311-cp311-win_amd64.whl (9.5 MB)\n",
      "   ---------------------------------------- 0.0/9.5 MB ? eta -:--:--\n",
      "   - -------------------------------------- 0.3/9.5 MB ? eta -:--:--\n",
      "   -- ------------------------------------- 0.5/9.5 MB 2.8 MB/s eta 0:00:04\n",
      "   --- ------------------------------------ 0.8/9.5 MB 1.4 MB/s eta 0:00:07\n",
      "   --- ------------------------------------ 0.8/9.5 MB 1.4 MB/s eta 0:00:07\n",
      "   --- ------------------------------------ 0.8/9.5 MB 1.4 MB/s eta 0:00:07\n",
      "   ---- ----------------------------------- 1.0/9.5 MB 882.6 kB/s eta 0:00:10\n",
      "   ----- ---------------------------------- 1.3/9.5 MB 932.1 kB/s eta 0:00:09\n",
      "   ------- -------------------------------- 1.8/9.5 MB 1.1 MB/s eta 0:00:08\n",
      "   --------- ------------------------------ 2.4/9.5 MB 1.3 MB/s eta 0:00:06\n",
      "   -------------- ------------------------- 3.4/9.5 MB 1.6 MB/s eta 0:00:04\n",
      "   ----------------- ---------------------- 4.2/9.5 MB 1.9 MB/s eta 0:00:03\n",
      "   ------------------- -------------------- 4.7/9.5 MB 2.0 MB/s eta 0:00:03\n",
      "   ----------------------- ---------------- 5.5/9.5 MB 2.2 MB/s eta 0:00:02\n",
      "   ------------------------- -------------- 6.0/9.5 MB 2.2 MB/s eta 0:00:02\n",
      "   --------------------------- ------------ 6.6/9.5 MB 2.2 MB/s eta 0:00:02\n",
      "   ------------------------------- -------- 7.6/9.5 MB 2.3 MB/s eta 0:00:01\n",
      "   ----------------------------------- ---- 8.4/9.5 MB 2.5 MB/s eta 0:00:01\n",
      "   ----------------------------------- ---- 8.4/9.5 MB 2.5 MB/s eta 0:00:01\n",
      "   ----------------------------------- ---- 8.4/9.5 MB 2.5 MB/s eta 0:00:01\n",
      "   ----------------------------------- ---- 8.4/9.5 MB 2.5 MB/s eta 0:00:01\n",
      "   ---------------------------------------  9.4/9.5 MB 2.2 MB/s eta 0:00:01\n",
      "   ---------------------------------------- 9.5/9.5 MB 2.2 MB/s eta 0:00:00\n",
      "Using cached qiskit_ibm_provider-0.11.0-py3-none-any.whl (249 kB)\n",
      "Using cached dill-0.4.0-py3-none-any.whl (119 kB)\n",
      "Using cached requests-2.32.3-py3-none-any.whl (64 kB)\n",
      "Using cached requests_ntlm-1.3.0-py3-none-any.whl (6.6 kB)\n",
      "Using cached rustworkx-0.16.0-cp39-abi3-win_amd64.whl (2.0 MB)\n",
      "Using cached stevedore-5.4.1-py3-none-any.whl (49 kB)\n",
      "Downloading symengine-0.13.0-cp311-cp311-win_amd64.whl (17.8 MB)\n",
      "   ---------------------------------------- 0.0/17.8 MB ? eta -:--:--\n",
      "   -- ------------------------------------- 1.0/17.8 MB 5.6 MB/s eta 0:00:03\n",
      "   ----- ---------------------------------- 2.4/17.8 MB 5.6 MB/s eta 0:00:03\n",
      "   ----- ---------------------------------- 2.6/17.8 MB 5.6 MB/s eta 0:00:03\n",
      "   ------ --------------------------------- 2.9/17.8 MB 3.7 MB/s eta 0:00:05\n",
      "   -------- ------------------------------- 3.7/17.8 MB 3.5 MB/s eta 0:00:05\n",
      "   --------- ------------------------------ 4.5/17.8 MB 3.6 MB/s eta 0:00:04\n",
      "   ----------- ---------------------------- 5.2/17.8 MB 3.6 MB/s eta 0:00:04\n",
      "   ------------- -------------------------- 6.0/17.8 MB 3.5 MB/s eta 0:00:04\n",
      "   -------------- ------------------------- 6.6/17.8 MB 3.5 MB/s eta 0:00:04\n",
      "   -------------- ------------------------- 6.6/17.8 MB 3.5 MB/s eta 0:00:04\n",
      "   --------------- ------------------------ 7.1/17.8 MB 3.1 MB/s eta 0:00:04\n",
      "   ---------------- ----------------------- 7.3/17.8 MB 3.0 MB/s eta 0:00:04\n",
      "   ----------------- ---------------------- 7.6/17.8 MB 2.8 MB/s eta 0:00:04\n",
      "   ----------------- ---------------------- 7.9/17.8 MB 2.7 MB/s eta 0:00:04\n",
      "   ------------------ --------------------- 8.1/17.8 MB 2.6 MB/s eta 0:00:04\n",
      "   ------------------- -------------------- 8.7/17.8 MB 2.6 MB/s eta 0:00:04\n",
      "   -------------------- ------------------- 9.2/17.8 MB 2.6 MB/s eta 0:00:04\n",
      "   --------------------- ------------------ 9.4/17.8 MB 2.6 MB/s eta 0:00:04\n",
      "   --------------------- ------------------ 9.7/17.8 MB 2.4 MB/s eta 0:00:04\n",
      "   ---------------------- ----------------- 10.0/17.8 MB 2.4 MB/s eta 0:00:04\n",
      "   ---------------------- ----------------- 10.2/17.8 MB 2.4 MB/s eta 0:00:04\n",
      "   ----------------------- ---------------- 10.5/17.8 MB 2.3 MB/s eta 0:00:04\n",
      "   ----------------------- ---------------- 10.5/17.8 MB 2.3 MB/s eta 0:00:04\n",
      "   ----------------------- ---------------- 10.5/17.8 MB 2.3 MB/s eta 0:00:04\n",
      "   ----------------------- ---------------- 10.5/17.8 MB 2.3 MB/s eta 0:00:04\n",
      "   ----------------------- ---------------- 10.5/17.8 MB 2.3 MB/s eta 0:00:04\n",
      "   ----------------------- ---------------- 10.5/17.8 MB 2.3 MB/s eta 0:00:04\n",
      "   -------------------------- ------------- 11.8/17.8 MB 2.0 MB/s eta 0:00:03\n",
      "   --------------------------- ------------ 12.1/17.8 MB 2.0 MB/s eta 0:00:03\n",
      "   --------------------------- ------------ 12.3/17.8 MB 2.0 MB/s eta 0:00:03\n",
      "   ---------------------------- ----------- 12.6/17.8 MB 1.9 MB/s eta 0:00:03\n",
      "   ---------------------------- ----------- 12.6/17.8 MB 1.9 MB/s eta 0:00:03\n",
      "   ---------------------------- ----------- 12.6/17.8 MB 1.9 MB/s eta 0:00:03\n",
      "   ---------------------------- ----------- 12.6/17.8 MB 1.9 MB/s eta 0:00:03\n",
      "   ---------------------------- ----------- 12.6/17.8 MB 1.9 MB/s eta 0:00:03\n",
      "   ---------------------------- ----------- 12.6/17.8 MB 1.9 MB/s eta 0:00:03\n",
      "   ---------------------------- ----------- 12.6/17.8 MB 1.9 MB/s eta 0:00:03\n",
      "   ---------------------------- ----------- 12.6/17.8 MB 1.9 MB/s eta 0:00:03\n",
      "   ----------------------------- ---------- 13.1/17.8 MB 1.6 MB/s eta 0:00:03\n",
      "   ------------------------------- -------- 13.9/17.8 MB 1.6 MB/s eta 0:00:03\n",
      "   ------------------------------- -------- 13.9/17.8 MB 1.6 MB/s eta 0:00:03\n",
      "   ------------------------------- -------- 14.2/17.8 MB 1.6 MB/s eta 0:00:03\n",
      "   -------------------------------- ------- 14.7/17.8 MB 1.6 MB/s eta 0:00:02\n",
      "   --------------------------------- ------ 14.9/17.8 MB 1.6 MB/s eta 0:00:02\n",
      "   ---------------------------------- ----- 15.2/17.8 MB 1.6 MB/s eta 0:00:02\n",
      "   ----------------------------------- ---- 15.7/17.8 MB 1.6 MB/s eta 0:00:02\n",
      "   ----------------------------------- ---- 16.0/17.8 MB 1.6 MB/s eta 0:00:02\n",
      "   ------------------------------------ --- 16.3/17.8 MB 1.6 MB/s eta 0:00:01\n",
      "   ------------------------------------- -- 16.5/17.8 MB 1.6 MB/s eta 0:00:01\n",
      "   ------------------------------------- -- 16.8/17.8 MB 1.6 MB/s eta 0:00:01\n",
      "   -------------------------------------- - 17.0/17.8 MB 1.6 MB/s eta 0:00:01\n",
      "   -------------------------------------- - 17.3/17.8 MB 1.6 MB/s eta 0:00:01\n",
      "   ---------------------------------------  17.6/17.8 MB 1.6 MB/s eta 0:00:01\n",
      "   ---------------------------------------- 17.8/17.8 MB 1.6 MB/s eta 0:00:00\n",
      "Using cached sympy-1.14.0-py3-none-any.whl (6.3 MB)\n",
      "Using cached urllib3-2.4.0-py3-none-any.whl (128 kB)\n",
      "Using cached websocket_client-1.8.0-py3-none-any.whl (58 kB)\n",
      "Downloading websockets-15.0.1-cp311-cp311-win_amd64.whl (176 kB)\n",
      "Using cached certifi-2025.4.26-py3-none-any.whl (159 kB)\n",
      "Downloading charset_normalizer-3.4.1-cp311-cp311-win_amd64.whl (102 kB)\n",
      "Using cached cryptography-44.0.2-cp39-abi3-win_amd64.whl (3.2 MB)\n",
      "Using cached idna-3.10-py3-none-any.whl (70 kB)\n",
      "Using cached mpmath-1.3.0-py3-none-any.whl (536 kB)\n",
      "Using cached pbr-6.1.1-py2.py3-none-any.whl (108 kB)\n",
      "Using cached pyspnego-0.11.2-py3-none-any.whl (130 kB)\n",
      "Downloading cffi-1.17.1-cp311-cp311-win_amd64.whl (181 kB)\n",
      "Downloading sspilib-0.3.1-cp311-cp311-win_amd64.whl (622 kB)\n",
      "   ---------------------------------------- 0.0/622.1 kB ? eta -:--:--\n",
      "   ---------------------------------------- 0.0/622.1 kB ? eta -:--:--\n",
      "   ---------------- ----------------------- 262.1/622.1 kB ? eta -:--:--\n",
      "   ---------------------------------------- 622.1/622.1 kB 2.3 MB/s eta 0:00:00\n",
      "Using cached pycparser-2.22-py3-none-any.whl (117 kB)\n",
      "Building wheels for collected packages: pylatexenc\n",
      "  Building wheel for pylatexenc (pyproject.toml): started\n",
      "  Building wheel for pylatexenc (pyproject.toml): finished with status 'done'\n",
      "  Created wheel for pylatexenc: filename=pylatexenc-2.10-py3-none-any.whl size=136926 sha256=64c4f70f0348d0ef792b4536f18cc6ea045da5d32b189bdb7186c0c4c896b046\n",
      "  Stored in directory: c:\\users\\lbaum\\appdata\\local\\pip\\cache\\wheels\\b1\\7a\\33\\9fdd892f784ed4afda62b685ae3703adf4c91aa0f524c28f03\n",
      "Successfully built pylatexenc\n",
      "Installing collected packages: pylatexenc, mpmath, websockets, websocket-client, urllib3, sympy, symengine, sspilib, rustworkx, pycparser, pbr, idna, dill, charset-normalizer, certifi, stevedore, requests, cffi, qiskit, cryptography, qiskit-aer, pyspnego, requests-ntlm, qiskit-ibm-provider\n",
      "Successfully installed certifi-2025.4.26 cffi-1.17.1 charset-normalizer-3.4.1 cryptography-44.0.2 dill-0.4.0 idna-3.10 mpmath-1.3.0 pbr-6.1.1 pycparser-2.22 pylatexenc-2.10 pyspnego-0.11.2 qiskit-2.0.0 qiskit-aer-0.17.0 qiskit-ibm-provider-0.11.0 requests-2.32.3 requests-ntlm-1.3.0 rustworkx-0.16.0 sspilib-0.3.1 stevedore-5.4.1 symengine-0.13.0 sympy-1.14.0 urllib3-2.4.0 websocket-client-1.8.0 websockets-15.0.1\n"
     ]
    },
    {
     "name": "stderr",
     "output_type": "stream",
     "text": [
      "\n",
      "[notice] A new release of pip is available: 24.3.1 -> 25.1\n",
      "[notice] To update, run: C:\\Users\\lbaum\\AppData\\Local\\Microsoft\\WindowsApps\\PythonSoftwareFoundation.Python.3.11_qbz5n2kfra8p0\\python.exe -m pip install --upgrade pip\n"
     ]
    }
   ],
   "source": [
    "!pip install numpy matplotlib qiskit qiskit-aer scipy pylatexenc qiskit-ibm-provider\n"
   ]
  },
  {
   "cell_type": "code",
   "execution_count": 10,
   "id": "bb0fa4c5",
   "metadata": {},
   "outputs": [
    {
     "name": "stdout",
     "output_type": "stream",
     "text": [
      "Alle benötigten Bibliotheken wurden importiert.\n",
      "Qiskit Aer Simulatoren sind bereit.\n"
     ]
    }
   ],
   "source": [
    "# Importieren der Kernbibliotheken\n",
    "import numpy as np\n",
    "from numpy import pi\n",
    "import matplotlib.pyplot as plt\n",
    "\n",
    "# Qiskit-spezifische Importe\n",
    "from qiskit import QuantumCircuit, transpile, ClassicalRegister\n",
    "from qiskit_aer import AerSimulator\n",
    "from qiskit.visualization import plot_histogram, array_to_latex\n",
    "from qiskit.quantum_info import Statevector, Operator\n",
    "from qiskit.circuit.library import HGate, XGate, ZGate, CCZGate\n",
    "\n",
    "print(\"Alle benötigten Bibliotheken wurden importiert.\")\n",
    "\n",
    "# Simulatoren vorbereiten\n",
    "sv_sim = AerSimulator(method='statevector')\n",
    "qasm_sim = AerSimulator(method='automatic')\n",
    "print(\"Qiskit Aer Simulatoren sind bereit.\")\n"
   ]
  },
  {
   "cell_type": "markdown",
   "id": "d9237aa5",
   "metadata": {},
   "source": [
    "## Aufgabe 1: 3-Qubit Transformation\n",
    "\n"
   ]
  },
  {
   "cell_type": "code",
   "execution_count": 4,
   "id": "2d3fd302",
   "metadata": {},
   "outputs": [
    {
     "name": "stdout",
     "output_type": "stream",
     "text": [
      "\n",
      "=== Aufgabe 1: 3-Qubit Register ===\n",
      "--- 1.1 Berechnung der Q-Matrix ---\n",
      "\n",
      "Transformationsmatrix Q (berechnet via NumPy):\n"
     ]
    },
    {
     "data": {
      "text/latex": [
       "$$\n",
       "Q_{numpy} = \n",
       "\\begin{bmatrix}\n",
       "0 & 0 & \\frac{\\sqrt{2}}{2} & 0 & 0 & 0 & \\frac{\\sqrt{2}}{2} & 0  \\\\\n",
       " 0 & 0 & 0 & - \\frac{\\sqrt{2}}{2} & 0 & 0 & 0 & - \\frac{\\sqrt{2}}{2}  \\\\\n",
       " \\frac{\\sqrt{2}}{2} & 0 & 0 & 0 & \\frac{\\sqrt{2}}{2} & 0 & 0 & 0  \\\\\n",
       " 0 & - \\frac{\\sqrt{2}}{2} & 0 & 0 & 0 & - \\frac{\\sqrt{2}}{2} & 0 & 0  \\\\\n",
       " 0 & 0 & \\frac{\\sqrt{2}}{2} & 0 & 0 & 0 & - \\frac{\\sqrt{2}}{2} & 0  \\\\\n",
       " 0 & 0 & 0 & - \\frac{\\sqrt{2}}{2} & 0 & 0 & 0 & \\frac{\\sqrt{2}}{2}  \\\\\n",
       " \\frac{\\sqrt{2}}{2} & 0 & 0 & 0 & - \\frac{\\sqrt{2}}{2} & 0 & 0 & 0  \\\\\n",
       " 0 & - \\frac{\\sqrt{2}}{2} & 0 & 0 & 0 & \\frac{\\sqrt{2}}{2} & 0 & 0  \\\\\n",
       " \\end{bmatrix}\n",
       "$$"
      ],
      "text/plain": [
       "<IPython.core.display.Latex object>"
      ]
     },
     "metadata": {},
     "output_type": "display_data"
    },
    {
     "name": "stdout",
     "output_type": "stream",
     "text": [
      "\n",
      "Matrix des Qiskit Operators (zur Verifizierung):\n"
     ]
    },
    {
     "data": {
      "text/latex": [
       "$$\n",
       "Q_{operator} = \n",
       "\\begin{bmatrix}\n",
       "0 & 0 & \\frac{\\sqrt{2}}{2} & 0 & 0 & 0 & \\frac{\\sqrt{2}}{2} & 0  \\\\\n",
       " 0 & 0 & 0 & - \\frac{\\sqrt{2}}{2} & 0 & 0 & 0 & - \\frac{\\sqrt{2}}{2}  \\\\\n",
       " \\frac{\\sqrt{2}}{2} & 0 & 0 & 0 & \\frac{\\sqrt{2}}{2} & 0 & 0 & 0  \\\\\n",
       " 0 & - \\frac{\\sqrt{2}}{2} & 0 & 0 & 0 & - \\frac{\\sqrt{2}}{2} & 0 & 0  \\\\\n",
       " 0 & 0 & \\frac{\\sqrt{2}}{2} & 0 & 0 & 0 & - \\frac{\\sqrt{2}}{2} & 0  \\\\\n",
       " 0 & 0 & 0 & - \\frac{\\sqrt{2}}{2} & 0 & 0 & 0 & \\frac{\\sqrt{2}}{2}  \\\\\n",
       " \\frac{\\sqrt{2}}{2} & 0 & 0 & 0 & - \\frac{\\sqrt{2}}{2} & 0 & 0 & 0  \\\\\n",
       " 0 & - \\frac{\\sqrt{2}}{2} & 0 & 0 & 0 & \\frac{\\sqrt{2}}{2} & 0 & 0  \\\\\n",
       " \\end{bmatrix}\n",
       "$$"
      ],
      "text/plain": [
       "<IPython.core.display.Latex object>"
      ]
     },
     "metadata": {},
     "output_type": "display_data"
    },
    {
     "name": "stdout",
     "output_type": "stream",
     "text": [
      "\n",
      "--> Bestätigt: Qiskit Operator entspricht der NumPy-Matrix.\n"
     ]
    }
   ],
   "source": [
    "# 1.1 Matrix Q = H(q0) ⊗ X(q1) ⊗ Z(q2)\n",
    "print(\"\\n=== Aufgabe 1: 3-Qubit Register ===\")\n",
    "print(\"--- 1.1 Berechnung der Q-Matrix ---\")\n",
    "\n",
    "# Einzelne Gate-Matrizen\n",
    "mat_H = HGate().to_matrix()\n",
    "mat_X = XGate().to_matrix()\n",
    "mat_Z = ZGate().to_matrix()\n",
    "\n",
    "# Tensorproduktberechnung (H auf 0, X auf 1, Z auf 2)\n",
    "matrix_Q_numpy = np.kron(mat_H, np.kron(mat_X, mat_Z))\n",
    "print(\"\\nTransformationsmatrix Q (berechnet via NumPy):\")\n",
    "display(array_to_latex(matrix_Q_numpy, prefix=\"Q_{numpy} = \"))\n",
    "\n",
    "# Erstellung des korrespondierenden Qiskit-Operators\n",
    "q_operator = Operator(matrix_Q_numpy)\n",
    "print(\"\\nMatrix des Qiskit Operators (zur Verifizierung):\")\n",
    "display(array_to_latex(q_operator.data, prefix=\"Q_{operator} = \"))\n",
    "\n",
    "# Konsistenzprüfung\n",
    "assert np.allclose(q_operator.data, matrix_Q_numpy), \"Operator-Matrix weicht von NumPy-Berechnung ab!\"\n",
    "print(\"\\n--> Bestätigt: Qiskit Operator entspricht der NumPy-Matrix.\")"
   ]
  },
  {
   "cell_type": "markdown",
   "id": "b58ff096",
   "metadata": {},
   "source": [
    "\n",
    "**Eine Matrix $U$ ist unitär, wenn ihr Produkt mit ihrer adjungierten (transponiert-konjugierten) Matrix $U^\\dagger$ die Einheitsmatrix $I$ ergibt: $U^\\dagger U = I$. Wir überprüfen dies sowohl manuell mit NumPy als auch mit der eingebauten Funktion von Qiskit.**\n"
   ]
  },
  {
   "cell_type": "code",
   "execution_count": 6,
   "id": "847fa7e4",
   "metadata": {},
   "outputs": [
    {
     "name": "stdout",
     "output_type": "stream",
     "text": [
      "\n",
      "--- 1.2 Unitaritätsprüfung der Q-Matrix ---\n",
      "\n",
      "Unitaritätstest (manuell mit NumPy): True\n",
      "Unitaritätstest (Qiskit Operator-Methode): True\n",
      "\n",
      "Produkt Q† * Q:\n"
     ]
    },
    {
     "data": {
      "text/latex": [
       "$$\n",
       "Q^\\dagger Q = \n",
       "\\begin{bmatrix}\n",
       "1 & 0 & 0 & 0 & 0 & 0 & 0 & 0  \\\\\n",
       " 0 & 1 & 0 & 0 & 0 & 0 & 0 & 0  \\\\\n",
       " 0 & 0 & 1 & 0 & 0 & 0 & 0 & 0  \\\\\n",
       " 0 & 0 & 0 & 1 & 0 & 0 & 0 & 0  \\\\\n",
       " 0 & 0 & 0 & 0 & 1 & 0 & 0 & 0  \\\\\n",
       " 0 & 0 & 0 & 0 & 0 & 1 & 0 & 0  \\\\\n",
       " 0 & 0 & 0 & 0 & 0 & 0 & 1 & 0  \\\\\n",
       " 0 & 0 & 0 & 0 & 0 & 0 & 0 & 1  \\\\\n",
       " \\end{bmatrix}\n",
       "$$"
      ],
      "text/plain": [
       "<IPython.core.display.Latex object>"
      ]
     },
     "metadata": {},
     "output_type": "display_data"
    }
   ],
   "source": [
    "# 1.2 Prüfung der Unitarität von Q\n",
    "\n",
    "print(\"\\n--- 1.2 Unitaritätsprüfung der Q-Matrix ---\")\n",
    "\n",
    "# Manuelle Prüfung: Q† * Q == I ?\n",
    "q_op_data = q_operator.data\n",
    "q_op_adjoint = q_op_data.conj().T\n",
    "Id_8 = np.identity(8, dtype=complex)\n",
    "unitary_check_manual = np.allclose(q_op_adjoint @ q_op_data, Id_8)\n",
    "print(f\"\\nUnitaritätstest (manuell mit NumPy): {unitary_check_manual}\")\n",
    "\n",
    "# Prüfung mit Qiskit-Methode\n",
    "print(f\"Unitaritätstest (Qiskit Operator-Methode): {q_operator.is_unitary()}\")\n",
    "\n",
    "# Produktmatrix anzeigen (sollte Identität sein)\n",
    "print(\"\\nProdukt Q† * Q:\")\n",
    "display(array_to_latex(q_op_adjoint @ q_op_data, prefix=\"Q^\\\\dagger Q = \"))"
   ]
  },
  {
   "cell_type": "code",
   "execution_count": 8,
   "id": "af0838d3",
   "metadata": {},
   "outputs": [
    {
     "name": "stdout",
     "output_type": "stream",
     "text": [
      "\n",
      "--- 1.3 Operatoranwendung auf Basiszustände ---\n",
      "\n",
      "Startvektor |000>:\n"
     ]
    },
    {
     "data": {
      "text/latex": [
       "$$\n",
       "|\\psi_{start}^{000}\\rangle = \n",
       "\\begin{bmatrix}\n",
       "1 & 0 & 0 & 0 & 0 & 0 & 0 & 0  \\\\\n",
       " \\end{bmatrix}\n",
       "$$"
      ],
      "text/plain": [
       "<IPython.core.display.Latex object>"
      ]
     },
     "metadata": {},
     "output_type": "display_data"
    },
    {
     "name": "stdout",
     "output_type": "stream",
     "text": [
      "\n",
      "Startvektor |111>:\n"
     ]
    },
    {
     "data": {
      "text/latex": [
       "$$\n",
       "|\\psi_{start}^{111}\\rangle = \n",
       "\\begin{bmatrix}\n",
       "0 & 0 & 0 & 0 & 0 & 0 & 0 & 1  \\\\\n",
       " \\end{bmatrix}\n",
       "$$"
      ],
      "text/plain": [
       "<IPython.core.display.Latex object>"
      ]
     },
     "metadata": {},
     "output_type": "display_data"
    },
    {
     "name": "stdout",
     "output_type": "stream",
     "text": [
      "\n",
      "Ergebnis Q|000>:\n"
     ]
    },
    {
     "data": {
      "text/latex": [
       "$$\n",
       "|\\psi_{end}^{000}\\rangle = \n",
       "\\begin{bmatrix}\n",
       "0 & 0 & \\frac{\\sqrt{2}}{2} & 0 & 0 & 0 & \\frac{\\sqrt{2}}{2} & 0  \\\\\n",
       " \\end{bmatrix}\n",
       "$$"
      ],
      "text/plain": [
       "<IPython.core.display.Latex object>"
      ]
     },
     "metadata": {},
     "output_type": "display_data"
    },
    {
     "name": "stdout",
     "output_type": "stream",
     "text": [
      "Zustand (Text): [0.        +0.j,0.        +0.j,0.70710678+0.j,0.        +0.j,\n",
      " 0.        +0.j,0.        +0.j,0.70710678+0.j,0.        +0.j]\n",
      "\n",
      "Ergebnis Q|111>:\n"
     ]
    },
    {
     "data": {
      "text/latex": [
       "$$\n",
       "|\\psi_{end}^{111}\\rangle = \n",
       "\\begin{bmatrix}\n",
       "0 & - \\frac{\\sqrt{2}}{2} & 0 & 0 & 0 & \\frac{\\sqrt{2}}{2} & 0 & 0  \\\\\n",
       " \\end{bmatrix}\n",
       "$$"
      ],
      "text/plain": [
       "<IPython.core.display.Latex object>"
      ]
     },
     "metadata": {},
     "output_type": "display_data"
    },
    {
     "name": "stdout",
     "output_type": "stream",
     "text": [
      "Zustand (Text): [ 0.        +0.j,-0.70710678+0.j, 0.        +0.j, 0.        +0.j,\n",
      "  0.        +0.j, 0.70710678+0.j, 0.        +0.j, 0.        +0.j]\n"
     ]
    }
   ],
   "source": [
    "# 1.3 Anwendung von Q auf Zustände |000> und |111>\n",
    "\n",
    "print(\"\\n--- 1.3 Operatoranwendung auf Basiszustände ---\")\n",
    "\n",
    "# Anfangszustandsvektoren (q2, q1, q0)\n",
    "vector_000 = Statevector.from_label('000')\n",
    "vector_111 = Statevector.from_label('111')\n",
    "\n",
    "print(\"\\nStartvektor |000>:\")\n",
    "display(array_to_latex(vector_000.data, prefix=\"|\\\\psi_{start}^{000}\\\\rangle = \"))\n",
    "\n",
    "print(\"\\nStartvektor |111>:\")\n",
    "display(array_to_latex(vector_111.data, prefix=\"|\\\\psi_{start}^{111}\\\\rangle = \"))\n",
    "\n",
    "# Entwicklung der Zustände unter Q\n",
    "evolved_vector_000 = vector_000.evolve(q_operator)\n",
    "evolved_vector_111 = vector_111.evolve(q_operator)\n",
    "\n",
    "print(\"\\nErgebnis Q|000>:\")\n",
    "display(array_to_latex(evolved_vector_000.data, prefix=\"|\\\\psi_{end}^{000}\\\\rangle = \", max_size=8))\n",
    "print(f\"Zustand (Text): {evolved_vector_000.draw('text')}\")\n",
    "\n",
    "print(\"\\nErgebnis Q|111>:\")\n",
    "display(array_to_latex(evolved_vector_111.data, prefix=\"|\\\\psi_{end}^{111}\\\\rangle = \", max_size=8))\n",
    "print(f\"Zustand (Text): {evolved_vector_111.draw('text')}\")"
   ]
  },
  {
   "cell_type": "markdown",
   "id": "c0c6eed1",
   "metadata": {},
   "source": [
    "**Zusammenfassung Aufgabe 1:**\n",
    "Wir haben die $8 \\times 8$ Matrix $Q$ für die gegebene Transformation $H_{q0} \\otimes X_{q1} \\otimes Z_{q2}$ berechnet und ihre Unitarität bestätigt. Die Anwendung des Operators $Q$ auf die Basiszustände $|000\\rangle$ und $|111\\rangle$ lieferte die erwarteten Superpositionszustände $\\frac{1}{\\sqrt{2}}(|010\\rangle + |110\\rangle)$ bzw. $\\frac{1}{\\sqrt{2}}(-|001\\rangle + |101\\rangle)$.\n"
   ]
  },
  {
   "cell_type": "markdown",
   "id": "1bce4b38",
   "metadata": {},
   "source": [
    "## Aufgabe 2: Verschränkungssimulation\n"
   ]
  },
  {
   "cell_type": "code",
   "execution_count": null,
   "id": "6d3a0231",
   "metadata": {},
   "outputs": [
    {
     "name": "stdout",
     "output_type": "stream",
     "text": [
      "--- 2.1 Erstellung des Bell-Zustand Circuits ---\n",
      "\n",
      "Schaltkreis zur Erzeugung des Bell-Zustands |Φ+>:\n",
      "     ┌───┐     \n",
      "q_0: ┤ H ├──■──\n",
      "     └───┘┌─┴─┐\n",
      "q_1: ─────┤ X ├\n",
      "          └───┘\n",
      "c: 2/══════════\n",
      "               \n"
     ]
    }
   ],
   "source": [
    "# 2.1 Erstellung des Bell-Zustand Circuits\n",
    "\n",
    "print(\"--- 2.1 Erstellung des Bell-Zustand Circuits ---\")\n",
    "\n",
    "qc_bell = QuantumCircuit(2, 2, name=\"Bell State\")\n",
    "qc_bell.h(0)\n",
    "qc_bell.cx(0, 1)\n",
    "\n",
    "#Schaltkreis zeichnen\n",
    "print(\"\\nSchaltkreis zur Erzeugung des Bell-Zustands |Φ+>:\")\n",
    "print(qc_bell.draw(output='text'))"
   ]
  },
  {
   "cell_type": "code",
   "execution_count": 23,
   "id": "fc4a39a2",
   "metadata": {},
   "outputs": [
    {
     "name": "stdout",
     "output_type": "stream",
     "text": [
      "\n",
      "--- 2.2 Berechnung des Endzustandsvektors ---\n",
      "\n",
      "Resultierender Zustandsvektor |Φ+>:\n"
     ]
    },
    {
     "data": {
      "text/latex": [
       "$$\n",
       "|\\Phi^+\\rangle = \n",
       "\\begin{bmatrix}\n",
       "\\frac{\\sqrt{2}}{2} & 0 & 0 & \\frac{\\sqrt{2}}{2}  \\\\\n",
       " \\end{bmatrix}\n",
       "$$"
      ],
      "text/plain": [
       "<IPython.core.display.Latex object>"
      ]
     },
     "metadata": {},
     "output_type": "display_data"
    },
    {
     "name": "stdout",
     "output_type": "stream",
     "text": [
      "Textdarstellung (q1, q0): [0.70710678+0.j,0.        +0.j,0.        +0.j,0.70710678+0.j]\n",
      "\n",
      "Erwartete Messwahrscheinlichkeiten:\n",
      "{np.str_('00'): np.float64(0.5000000000000001), np.str_('11'): np.float64(0.5000000000000001)}\n"
     ]
    }
   ],
   "source": [
    "# 2.2 Zustandsvektor-Berechnung\n",
    "\n",
    "print(\"\\n--- 2.2 Berechnung des Endzustandsvektors ---\")\n",
    "# Kopie für Statevector-Simulation (ohne Messung)\n",
    "entanglement_sv_circuit = entanglement_circuit.copy(name=\"EntanglementSVCalc\")\n",
    "entanglement_sv_circuit.remove_final_measurements(inplace=True)\n",
    "if entanglement_sv_circuit.cregs:\n",
    "    entanglement_sv_circuit.cregs = []\n",
    "entanglement_sv_circuit.save_statevector()\n",
    "\n",
    "# Simulation ausführen\n",
    "transpiled_entanglement_sv = transpile(entanglement_sv_circuit, sv_sim)\n",
    "job_sv = sv_sim.run(transpiled_entanglement_sv)\n",
    "result_sv = job_sv.result()\n",
    "output_statevector = Statevector(result_sv.data(0)['statevector'])\n",
    "\n",
    "print(\"\\nResultierender Zustandsvektor |Φ+>:\")\n",
    "display(array_to_latex(output_statevector.data, prefix=\"|\\\\Phi^+\\\\rangle = \"))\n",
    "print(f\"Textdarstellung (q1, q0): {output_statevector.draw('text')}\")\n",
    "\n",
    "# Theoretische Wahrscheinlichkeiten\n",
    "expected_probabilities = output_statevector.probabilities_dict()\n",
    "print(\"\\nErwartete Messwahrscheinlichkeiten:\")\n",
    "print(expected_probabilities)"
   ]
  },
  {
   "cell_type": "code",
   "execution_count": 24,
   "id": "257dce30",
   "metadata": {},
   "outputs": [
    {
     "name": "stdout",
     "output_type": "stream",
     "text": [
      "\n",
      "--- 2.3 Simulation von Messungen ---\n",
      "\n",
      "Schaltkreis für die Messung:\n",
      "        ┌───┐      ░ ┌─┐   \n",
      "   q_0: ┤ H ├──■───░─┤M├───\n",
      "        └───┘┌─┴─┐ ░ └╥┘┌─┐\n",
      "   q_1: ─────┤ X ├─░──╫─┤M├\n",
      "             └───┘ ░  ║ └╥┘\n",
      "   c: 2/══════════════╬══╬═\n",
      "                      ║  ║ \n",
      "meas: 2/══════════════╩══╩═\n",
      "                      0  1 \n",
      "\n",
      "Durchführung der Messsimulationen:\n",
      "\n",
      "Messresultate für 50 Wiederholungen:\n",
      "{'00 00': 32, '11 00': 18}\n",
      "Beobachtete Häufigkeiten: {'00': 0.0000, '11': 0.0000}\n",
      "\n",
      "Messresultate für 100 Wiederholungen:\n",
      "{'00 00': 57, '11 00': 43}\n",
      "Beobachtete Häufigkeiten: {'00': 0.0000, '11': 0.0000}\n",
      "\n",
      "Messresultate für 200 Wiederholungen:\n",
      "{'11 00': 112, '00 00': 88}\n",
      "Beobachtete Häufigkeiten: {'00': 0.0000, '11': 0.0000}\n",
      "\n",
      "Messresultate für 500 Wiederholungen:\n",
      "{'11 00': 246, '00 00': 254}\n",
      "Beobachtete Häufigkeiten: {'00': 0.0000, '11': 0.0000}\n",
      "\n",
      "Messresultate für 1000 Wiederholungen:\n",
      "{'00 00': 493, '11 00': 507}\n",
      "Beobachtete Häufigkeiten: {'00': 0.0000, '11': 0.0000}\n",
      "\n",
      "Histogramm für 1000 Wiederholungen:\n"
     ]
    },
    {
     "data": {
      "image/png": "[encoded data removed]",
      "text/plain": [
       "<Figure size 640x480 with 1 Axes>"
      ]
     },
     "metadata": {},
     "output_type": "display_data"
    }
   ],
   "source": [
    "# 2.3 Messsimulationen\n",
    "\n",
    "print(\"\\n--- 2.3 Simulation von Messungen ---\")\n",
    "# Kopie für Messungen\n",
    "entanglement_measure_circuit = entanglement_circuit.copy(name=\"EntanglementMeasure\")\n",
    "# Messungen hinzufügen (falls noch nicht vorhanden)\n",
    "if len(entanglement_measure_circuit.clbits) < entanglement_measure_circuit.num_qubits:\n",
    "     cr_m = ClassicalRegister(entanglement_measure_circuit.num_qubits, 'meas')\n",
    "     entanglement_measure_circuit.add_register(cr_m)\n",
    "if not any(instr.operation.name == 'measure' for instr in entanglement_measure_circuit.data):\n",
    "     entanglement_measure_circuit.measure_all(inplace=True)\n",
    "\n",
    "print(\"\\nSchaltkreis für die Messung:\")\n",
    "#display(entanglement_measure_circuit)\n",
    "print(entanglement_measure_circuit.draw(output='text'))\n",
    "\n",
    "# Verschiedene Anzahlen von Wiederholungen (Shots)\n",
    "shots_array = [50, 100, 200, 500, 1000]\n",
    "counts_by_shots = {}\n",
    "\n",
    "print(\"\\nDurchführung der Messsimulationen:\")\n",
    "for shots_num in shots_array:\n",
    "    transpiled_entanglement_measure = transpile(entanglement_measure_circuit, qasm_sim)\n",
    "    job_meas = qasm_sim.run(transpiled_entanglement_measure, shots=shots_num)\n",
    "    result_meas = job_meas.result()\n",
    "    counts = result_meas.get_counts()\n",
    "    counts_by_shots[shots_num] = counts\n",
    "    print(f\"\\nMessresultate für {shots_num} Wiederholungen:\")\n",
    "    print(counts)\n",
    "    # Berechne beobachtete Häufigkeiten\n",
    "    total_meas = sum(counts.values())\n",
    "    observed_freq = {state: count/total_meas for state, count in counts.items()}\n",
    "    print(f\"Beobachtete Häufigkeiten: {{'00': {observed_freq.get('00', 0.0):.4f}, '11': {observed_freq.get('11', 0.0):.4f}}}\")\n",
    "\n",
    "\n",
    "# Histogramm für die maximale Anzahl von Shots\n",
    "print(f\"\\nHistogramm für {shots_array[-1]} Wiederholungen:\")\n",
    "counts_final_run = counts_by_shots[shots_array[-1]]\n",
    "fig_bell_v2 = plot_histogram(counts_final_run, title=f\"Bell-Zustand Messverteilung ({shots_array[-1]} Shots)\")\n",
    "plt.show(fig_bell_v2)\n",
    "display(fig_bell_v2)"
   ]
  },
  {
   "cell_type": "markdown",
   "id": "d1782404",
   "metadata": {},
   "source": [
    "**Zusammenfassung Aufgabe 2:**\n",
    "Die Simulation des Zustandsvektors bestätigt den korrekten Endzustand sowie die erwarteten 50/50-Messwahrscheinlichkeiten für die Basiszustände ∣00⟩ und ∣11⟩. Wiederholte Messsimulationen mit steigender Anzahl von \"Shots\" zeigten die Konvergenz der Messergebnisse gegen die theoretischen Wahrscheinlichkeiten und verdeutlichten somit die probabilistische Natur der Quantenmessung.\n"
   ]
  },
  {
   "cell_type": "markdown",
   "id": "a120dc2c",
   "metadata": {},
   "source": [
    "## Aufgabe 3. Algorithmus von Deutsch\n",
    "\n",
    "\n"
   ]
  },
  {
   "cell_type": "code",
   "execution_count": null,
   "id": "a78098dc",
   "metadata": {},
   "outputs": [
    {
     "name": "stdout",
     "output_type": "stream",
     "text": [
      "\n",
      "--- 3.3 Testen der vier Fälle ---\n",
      "\n",
      "--- Test für: Konstant f(0)=0, f(1)=0 ---\n",
      "Schaltkreis:\n",
      "     ┌───┐      Uf (const 0) ┌───┐┌─┐\n",
      "q_0: ┤ H ├───────────░───────┤ H ├┤M├\n",
      "     ├───┤┌───┐      ░       └───┘└╥┘\n",
      "q_1: ┤ X ├┤ H ├──────░─────────────╫─\n",
      "     └───┘└───┘      ░             ║ \n",
      "c: 1/══════════════════════════════╩═\n",
      "                                   0 \n",
      "Simulationsergebnis (1024 shots): {'0': 1024}\n",
      "Ergebnis: '0' -> Funktion ist Konstant\n",
      "\n",
      "--- Test für: Konstant f(0)=1, f(1)=1 ---\n",
      "Schaltkreis:\n",
      "     ┌───┐           Uf (const 1) ┌───┐┌─┐\n",
      "q_0: ┤ H ├────────────────░───────┤ H ├┤M├\n",
      "     ├───┤┌───┐┌───┐      ░       └───┘└╥┘\n",
      "q_1: ┤ X ├┤ H ├┤ X ├──────░─────────────╫─\n",
      "     └───┘└───┘└───┘      ░             ║ \n",
      "c: 1/═══════════════════════════════════╩═\n",
      "                                        0 \n",
      "Simulationsergebnis (1024 shots): {'0': 1024}\n",
      "Ergebnis: '0' -> Funktion ist Konstant\n",
      "\n",
      "--- Test für: Balanciert f(0)=0, f(1)=1 ---\n",
      "Schaltkreis:\n",
      "     ┌───┐           Uf (bal 0->0, 1->1) ┌───┐┌─┐\n",
      "q_0: ┤ H ├───────■────────────░──────────┤ H ├┤M├\n",
      "     ├───┤┌───┐┌─┴─┐          ░          └───┘└╥┘\n",
      "q_1: ┤ X ├┤ H ├┤ X ├──────────░────────────────╫─\n",
      "     └───┘└───┘└───┘          ░                ║ \n",
      "c: 1/══════════════════════════════════════════╩═\n",
      "                                               0 \n",
      "Simulationsergebnis (1024 shots): {'1': 1024}\n",
      "Ergebnis: '1' -> Funktion ist Balanciert\n",
      "\n",
      "--- Test für: Balanciert f(0)=1, f(1)=0 ---\n",
      "Schaltkreis:\n",
      "     ┌───┐                     Uf (bal 0->1, 1->0) ┌───┐┌─┐\n",
      "q_0: ┤ H ├────────────■─────────────────░──────────┤ H ├┤M├\n",
      "     ├───┤┌───┐┌───┐┌─┴─┐┌───┐          ░          └───┘└╥┘\n",
      "q_1: ┤ X ├┤ H ├┤ X ├┤ X ├┤ X ├──────────░────────────────╫─\n",
      "     └───┘└───┘└───┘└───┘└───┘          ░                ║ \n",
      "c: 1/════════════════════════════════════════════════════╩═\n",
      "                                                         0 \n",
      "Simulationsergebnis (1024 shots): {'1': 1024}\n",
      "Ergebnis: '1' -> Funktion ist Balanciert\n",
      "\n",
      "==============================\n",
      "Alle Tests abgeschlossen.\n",
      "==============================\n"
     ]
    }
   ],
   "source": [
    "\n",
    "\n",
    "# 3.1 Funktion für Deutsch-Schaltkreis\n",
    "def deutsch_algorithm_circuit(oracle_operation):\n",
    "    \"\"\"Konstruiert den Quantenschaltkreis für den Deutsch-Algorithmus.\"\"\"\n",
    "    # 2 Qubits (input, output/ancilla), 1 klassisches Bit\n",
    "    deutsch_qc = QuantumCircuit(2, 1, name=\"DeutschCircuit\")\n",
    "\n",
    "    deutsch_qc.x(1)\n",
    "    deutsch_qc.h(range(2))\n",
    "    oracle_operation(deutsch_qc)\n",
    "    deutsch_qc.h(0)\n",
    "\n",
    "\n",
    "    # Messung des Input-Qubits (q0)\n",
    "    deutsch_qc.measure(0, 0)\n",
    "\n",
    "    return deutsch_qc\n",
    "\n",
    "# 3.2 Orakel Implementierungen (Uf)\n",
    "\n",
    "# Fall (a): f(0)=0, f(1)=0 (Konstant 0)\n",
    "def oracle_f0_const0(qc):\n",
    "    qc.barrier(label=\"Uf (const 0)\")\n",
    "\n",
    "# Fall (b): f(0)=1, f(1)=1 (Konstant 1)\n",
    "def oracle_f1_const1(qc):\n",
    "    qc.x(1)\n",
    "    qc.barrier(label=\"Uf (const 1)\")\n",
    "\n",
    "# Fall (c): f(0)=0, f(1)=1 (Balanciert)\n",
    "def oracle_f2_balanced01(qc):\n",
    "    qc.cx(0, 1) # CNOT: q0 = Kontrolle, q1 = Ziel\n",
    "    qc.barrier(label=\"Uf (bal 0->0, 1->1)\")\n",
    "\n",
    "# Fall (d): f(0)=1, f(1)=0 (Balanciert)\n",
    "def oracle_f3_balanced10(qc):\n",
    "    qc.x(1) # X auf Ziel\n",
    "    qc.cx(0, 1) # CNOT\n",
    "    qc.x(1) # X auf Ziel\n",
    "    qc.barrier(label=\"Uf (bal 0->1, 1->0)\")\n",
    "\n",
    "# --- 3.3 Testen der vier Fälle mit Qiskit ---\n",
    "print(\"\\n--- 3.3 Testen der vier Fälle ---\")\n",
    "\n",
    "# Liste der Orakel-Funktionen\n",
    "oracles = [\n",
    "    (oracle_f0_const0, \"Konstant f(0)=0, f(1)=0\"),\n",
    "    (oracle_f1_const1, \"Konstant f(0)=1, f(1)=1\"),\n",
    "    (oracle_f2_balanced01, \"Balanciert f(0)=0, f(1)=1\"),\n",
    "    (oracle_f3_balanced10, \"Balanciert f(0)=1, f(1)=0\"),\n",
    "]\n",
    "\n",
    "# Simulator initialisieren\n",
    "simulator = AerSimulator()\n",
    "shots = 1024\n",
    "\n",
    "# Durch alle Orakel iterieren und testen\n",
    "for oracle_func, description in oracles:\n",
    "    print(f\"\\n--- Test für: {description} ---\")\n",
    "\n",
    "    # Schaltkreis erstellen\n",
    "    qc = deutsch_algorithm_circuit(oracle_func)\n",
    "\n",
    "    # Schaltkreis zeichnen (Textausgabe)\n",
    "    print(\"Schaltkreis:\")\n",
    "    print(qc.draw(output='text'))\n",
    "\n",
    "    # Simulation durchführen\n",
    "    compiled_circuit = transpile(qc, simulator)\n",
    "\n",
    "    job = simulator.run(compiled_circuit, shots=shots)\n",
    "    result = job.result()\n",
    "    counts = result.get_counts(qc)\n",
    "\n",
    "    # Ergebnisse ausgeben und interpretieren\n",
    "    print(f\"Simulationsergebnis ({shots} shots): {counts}\")\n",
    "\n",
    "    # Ergebnis prüfen\n",
    "    measured_value = list(counts.keys())[0] # Es sollte nur ein Ergebnis geben ('0' oder '1')\n",
    "    if measured_value == '0':\n",
    "        print(\"Ergebnis: '0' -> Funktion ist Konstant\")\n",
    "        if \"Konstant\" not in description:\n",
    "             print(\"----> Unerwartetes Ergebnis für balancierte Funktion!\")\n",
    "    elif measured_value == '1':\n",
    "        print(\"Ergebnis: '1' -> Funktion ist Balanciert\")\n",
    "        if \"Balanciert\" not in description:\n",
    "             print(\"----> Unerwartetes Ergebnis für konstante Funktion!\")\n",
    "    else:\n",
    "        print(f\"Unerwartetes Messergebnis: {measured_value}\")\n",
    "\n",
    "print(\"\\n\" + \"=\"*30)\n",
    "print(\"Alle Tests abgeschlossen.\")\n",
    "print(\"=\"*30)"
   ]
  },
  {
   "cell_type": "markdown",
   "id": "0167425a",
   "metadata": {},
   "source": [
    "**Zusammenfassung Aufgabe 3:**\n",
    " Die Funktion \"deutsch_algorithm_circuit\" wurde definiert, die den grundlegenden Quantenschaltkreis für den Deutsch-Algorithmus aufbaut. Dieser Schaltkreis nimmt eine Orakel-Funktion als variable Komponente entgegen. Der Schaltkreis initialisiert zwei Qubits (Eingabe und Hilfs-Qubit/Ancilla).\n",
    " Dieser wird durch H-Gatter in Superposition versetzt, wendet das spezifische Orakel, ein weiteres H-Gatter auf das Eingabe-Qubit an, und misst dieses dann.\n",
    " Die Textdiagramme zeigen, dass für jeden der vier Fälle der korrekte Deutsch-Algorithmus-Schaltkreis mit dem jeweils passenden Orakel aufgebaut wurde.\n",
    "* $f(0)=0, f(1)=0$\n",
    "* $f(0)=1, f(1)=1$\n",
    "* $f(x)=x \\implies f(0)=0, f(1)=1$ (Balanciert)\n",
    "* $f(x)=\\neg x \\implies f(0)=1, f(1)=0$ (Balanciert)\n",
    "\n",
    "**-> Simulation zeigt ewrfolgreich, wie der Algorithmus konstante von balancierte Funktionen mit nur einer einzigen Auswertung der Funktion unterscheiden kann.**"
   ]
  },
  {
   "cell_type": "markdown",
   "id": "f7dd729f",
   "metadata": {},
   "source": [
    "## 5. Zusatzaufgabe: Grover Suchalgorithmus für n=3 Qubits\n",
    "\n",
    "**Problemstellung:**\n",
    "Implementieren Sie den Grover-Suchalgorithmus für $n=3$ Qubits, um den spezifischen Zustand $|111\\rangle$ zu finden.\n",
    "1.  **Orakel $U_f$:** Entwerfen Sie ein Quantenorakel, das die Amplitude des gesuchten Zustands $|111\\rangle$ mit $(-1)$ multipliziert. Der Hinweis lautet, das CCZ-Gate (Controlled-Controlled-Z) zu verwenden.\n",
    "2.  **Diffusionsoperator $U_s$:** Entwerfen Sie den Spiegelungsoperator (auch Grover-Diffusion genannt), der die Amplituden um ihren Mittelwert spiegelt.\n",
    "3.  **Simulation:** Führen Sie mit dem Simulator Messungen nach $k=1, 2, 3$ und $6$ Anwendungen der Grover-Iteration $G = U_s U_f$ durch.\n",
    "4.  **Diskussion:** Diskutieren Sie die Resultate der Simulationen.\n",
    "\n",
    "### 5.1 Theoretischer Hintergrund (Kurz)\n",
    "\n",
    "Der Grover-Algorithmus ist ein Quantenalgorithmus zur Suche in einer unsortierten Datenbank mit $N$ Einträgen. Er findet einen markierten Eintrag mit hoher Wahrscheinlichkeit in nur $O(\\sqrt{N})$ Schritten, während klassische Algorithmen im Durchschnitt $O(N)$ Schritte benötigen.\n",
    "\n",
    "**Hauptschritte:**\n",
    "1.  **Initialisierung:** Erzeugung einer gleichmäßigen Superposition aller $N=2^n$ Zustände mittels Hadamard-Gattern: $|\\psi_0\\rangle = H^{\\otimes n}|0\\rangle^{\\otimes n} = \\frac{1}{\\sqrt{N}} \\sum_{x=0}^{N-1} |x\\rangle$.\n",
    "2.  **Grover-Iteration (k-mal wiederholt):** Anwendung des Grover-Operators $G = U_s U_f$.\n",
    "    * **Orakel $U_f$:** Markiert den/die gesuchten Zustand/Zustände $|w\\rangle$ durch eine Phasenverschiebung von $-1$: $U_f|x\\rangle = (-1)^{f(x)}|x\\rangle$, wobei $f(x)=1$ wenn $x=w$ und $f(x)=0$ sonst.\n",
    "    * **Diffusion $U_s$:** Verstärkt die Amplitude des markierten Zustands. $U_s = H^{\\otimes n} (2|0\\rangle^{\\otimes n}\\langle 0|^{\\otimes n} - I) H^{\\otimes n}$. Geometrisch ist dies eine Spiegelung am Anfangszustand $|\\psi_0\\rangle$.\n",
    "3.  **Messung:** Messung des Endzustands. Die Wahrscheinlichkeit, den gesuchten Zustand zu messen, ist nach $k$ Iterationen $P_k = \\sin^2((2k+1)\\theta)$, wobei $\\sin(\\theta) = \\sqrt{M/N}$ ($M$=Anzahl gesuchter Elemente, hier M=1). Die optimale Anzahl Iterationen ist $R \\approx \\frac{\\pi}{4}\\sqrt{N/M}$.\n",
    "\n",
    "### 5.2 Implementierung des Orakels $U_f$ für $|111\\rangle$\n",
    "\n",
    "Für $n=3$ ist der gesuchte Zustand $|w\\rangle = |111\\rangle$. Das Orakel muss also nur die Phase dieses einen Zustands ändern. Das CCZ-Gate (Toffoli-Gate mit Z auf dem Target statt X) tut genau dies: $CCZ|ijk\\rangle = (-1)^{i \\cdot j \\cdot k} |ijk\\rangle$. Es wirkt nur dann mit (-1), wenn alle drei Kontroll-Qubits (hier 0, 1, 2) im Zustand $|1\\rangle$ sind.\n"
   ]
  },
  {
   "cell_type": "code",
   "execution_count": 34,
   "id": "78d9b30c",
   "metadata": {},
   "outputs": [
    {
     "name": "stdout",
     "output_type": "stream",
     "text": [
      "--- 5.2 Orakel für Grover (markiert |111>) ---\n",
      "\n",
      "Orakel Uf Circuit:\n",
      "        \n",
      "q_0: ─■─\n",
      "      │ \n",
      "q_1: ─■─\n",
      "      │ \n",
      "q_2: ─■─\n",
      "        \n"
     ]
    }
   ],
   "source": [
    "print(\"--- 5.2 Orakel für Grover (markiert |111>) ---\")\n",
    "\n",
    "def create_oracle(n=3):\n",
    "    \"\"\"Erstellt das Orakel Uf für n=3 Qubits, das |111> markiert.\"\"\"\n",
    "    if n != 3:\n",
    "        raise ValueError(\"Dieses Orakel ist spezifisch für n=3\")\n",
    "    oracle_circuit = QuantumCircuit(n, name=\"Oracle Uf\")\n",
    "    # Das CCZ Gate wendet eine Phase von -1 an, gdw. alle Kontrollqubits |1> sind.\n",
    "    # Qiskit: ccz(control1_index, control2_index, target_index)\n",
    "    # Da es nur um die Phase geht, ist die Wahl des Targets irrelevant,\n",
    "    # solange die Kontrollen 0 und 1 sind (oder jede Kombination der 3 Qubits).\n",
    "    oracle_circuit.ccz(0, 1, 2)\n",
    "    return oracle_circuit\n",
    "\n",
    "# Test des Orakels (optional)\n",
    "test_oracle = create_oracle()\n",
    "print(\"\\nOrakel Uf Circuit:\")\n",
    "print(test_oracle.draw(output='text'))"
   ]
  },
  {
   "cell_type": "markdown",
   "id": "49135777",
   "metadata": {},
   "source": [
    "### 5.3 Implementierung des Diffusionsoperators $U_s$\n",
    "\n",
    "Der Diffusionsoperator $U_s = H^{\\otimes n} (2|0\\rangle^{\\otimes n}\\langle 0|^{\\otimes n} - I) H^{\\otimes n}$ kann effizient implementiert werden, indem man die Operation $(2|0\\rangle^{\\otimes n}\\langle 0|^{\\otimes n} - I)$ im Hadamard-Raum durchführt. Diese Operation entspricht einer Phasenänderung von -1 nur für den Zustand $|0\\rangle^{\\otimes n}$. Die Implementierungsschritte sind:\n",
    "1.  Hadamard auf alle Qubits ($H^{\\otimes n}$).\n",
    "2.  Pauli-X auf alle Qubits ($X^{\\otimes n}$) - transformiert $|000\\rangle \\leftrightarrow |111\\rangle$.\n",
    "3.  Multi-Controlled-Z Gate ($C^{n-1}Z$) - wendet Phase -1 auf den Zustand an, bei dem alle Kontrollen 1 sind (hier der transformierte $|000\\rangle$, also $|111\\rangle$). Für n=3 ist dies das CCZ-Gate.\n",
    "4.  Pauli-X auf alle Qubits ($X^{\\otimes n}$) - Rücktransformation.\n",
    "5.  Hadamard auf alle Qubits ($H^{\\otimes n}$).\n"
   ]
  },
  {
   "cell_type": "code",
   "execution_count": 35,
   "id": "2cd07052",
   "metadata": {},
   "outputs": [
    {
     "name": "stdout",
     "output_type": "stream",
     "text": [
      "\n",
      "--- 5.3 Diffusionsoperator für Grover ---\n",
      "\n",
      "Diffusionsoperator Us Circuit:\n",
      "     ┌───┐┌───┐   ┌───┐┌───┐\n",
      "q_0: ┤ H ├┤ X ├─■─┤ X ├┤ H ├\n",
      "     ├───┤├───┤ │ ├───┤├───┤\n",
      "q_1: ┤ H ├┤ X ├─■─┤ X ├┤ H ├\n",
      "     ├───┤├───┤ │ ├───┤├───┤\n",
      "q_2: ┤ H ├┤ X ├─■─┤ X ├┤ H ├\n",
      "     └───┘└───┘   └───┘└───┘\n"
     ]
    }
   ],
   "source": [
    "print(\"\\n--- 5.3 Diffusionsoperator für Grover ---\")\n",
    "\n",
    "def create_diffusion_operator(n=3):\n",
    "    \"\"\"Erstellt den Diffusionsoperator Us für n Qubits.\"\"\"\n",
    "    diffusion_circuit = QuantumCircuit(n, name=\"Diffusion Us\")\n",
    "\n",
    "    # 1. Hadamard auf alle Qubits\n",
    "    diffusion_circuit.h(range(n))\n",
    "    # 2. Pauli-X auf alle Qubits\n",
    "    diffusion_circuit.x(range(n))\n",
    "    # 3. Multi-Controlled-Z (für n=3 ist das CCZ)\n",
    "    if n < 3:\n",
    "        raise ValueError(\"CCZ gate requires at least 3 qubits for this implementation\")\n",
    "    diffusion_circuit.ccz(0, 1, 2) # Markiert |111> (was |000> in H-Basis war)\n",
    "    # 4. Pauli-X auf alle Qubits\n",
    "    diffusion_circuit.x(range(n))\n",
    "    # 5. Hadamard auf alle Qubits\n",
    "    diffusion_circuit.h(range(n))\n",
    "\n",
    "    return diffusion_circuit\n",
    "\n",
    "# Test des Diffusors (optional)\n",
    "test_diffusor = create_diffusion_operator()\n",
    "print(\"\\nDiffusionsoperator Us Circuit:\")\n",
    "print(test_diffusor.draw(output='text'))"
   ]
  },
  {
   "cell_type": "markdown",
   "id": "50a48b27",
   "metadata": {},
   "source": [
    "### 5.4 Gesamter Grover-Schaltkreis und Simulation\n",
    "\n",
    "Jetzt bauen wir den vollständigen Grover-Schaltkreis zusammen:\n",
    "1.  Initialisierung $H^{\\otimes n}$.\n",
    "2.  Anwendung der Grover-Iteration $G = U_s U_f$ für $k=1, 2, 3, 6$.\n",
    "3.  Messung aller Qubits.\n",
    "\n",
    "Wir verwenden `.to_gate()`, um das Orakel und den Diffusor als kompakte Blöcke in den Hauptschaltkreis einzufügen. Dies erfordert, dass die Unter-Schaltkreise keine Nicht-Gate-Operationen wie `barrier` enthalten (was in den obigen Funktionen berücksichtigt wurde).\n"
   ]
  },
  {
   "cell_type": "code",
   "execution_count": 38,
   "id": "08a0c1c8",
   "metadata": {},
   "outputs": [
    {
     "name": "stdout",
     "output_type": "stream",
     "text": [
      "\n",
      "--- 5.4 Grover Simulation für k=1, 2, 3, 6 ---\n",
      "\n",
      "Starte Grover Simulationen:\n",
      "  Aufbau des Circuits für k=1 Iterationen...\n",
      "  Transpiliere und simuliere für k=1...\n",
      "  Ergebnisse für k=1 Iterationen (Top 5):\n",
      "  {'111': 1623, '001': 75, '011': 66, '101': 63, '100': 59}\n",
      "  Aufbau des Circuits für k=2 Iterationen...\n",
      "  Transpiliere und simuliere für k=2...\n",
      "  Ergebnisse für k=2 Iterationen (Top 5):\n",
      "  {'111': 1953, '001': 20, '010': 16, '100': 14, '011': 13}\n",
      "  Aufbau des Circuits für k=3 Iterationen...\n",
      "  Transpiliere und simuliere für k=3...\n",
      "  Ergebnisse für k=3 Iterationen (Top 5):\n",
      "  {'111': 728, '011': 205, '000': 199, '100': 194, '110': 191}\n",
      "  Aufbau des Circuits für k=6 Iterationen...\n",
      "  Transpiliere und simuliere für k=6...\n",
      "  Ergebnisse für k=6 Iterationen (Top 5):\n",
      "  {'111': 2047, '100': 1}\n"
     ]
    }
   ],
   "source": [
    "print(\"\\n--- 5.4 Grover Simulation für k=1, 2, 3, 6 ---\")\n",
    "\n",
    "n = 3 # Anzahl der Qubits\n",
    "target_state_label = '111' # Gesuchter Zustand (Qiskit-Bitreihenfolge: q2, q1, q0)\n",
    "sim_qasm = AerSimulator()\n",
    "\n",
    "# 1. Grundstruktur: Initialisierung mit H-Gates\n",
    "# Wir benötigen n Qubits und n klassische Bits für die Messung\n",
    "grover_base = QuantumCircuit(n, n, name=\"Grover Base\")\n",
    "grover_base.h(range(n))\n",
    "grover_base.barrier(label=\"Init H\")\n",
    "\n",
    "# Wandle Orakel und Diffusor in Gates um\n",
    "oracle_gate = create_oracle(n).to_gate()\n",
    "diffusion_gate = create_diffusion_operator(n).to_gate()\n",
    "\n",
    "# Liste der Iterationszahlen zum Testen\n",
    "iterations_to_run = [1, 2, 3, 6]\n",
    "results_grover = {} # Dictionary zum Speichern der Messergebnisse\n",
    "\n",
    "print(\"\\nStarte Grover Simulationen:\")\n",
    "for k in iterations_to_run:\n",
    "    # Erstelle eine Kopie der Basisschaltung für jede Iterationszahl\n",
    "    qc_grover = grover_base.copy(name=f\"Grover k={k}\")\n",
    "\n",
    "    # 2. Wende Grover-Iteration G = Us Uf k mal an\n",
    "    print(f\"  Aufbau des Circuits für k={k} Iterationen...\")\n",
    "    for i in range(k):\n",
    "        qc_grover.append(oracle_gate, range(n))    # Uf anwenden\n",
    "        qc_grover.append(diffusion_gate, range(n)) # Us anwenden\n",
    "        # Optional: Barriere zur Lesbarkeit im Hauptcircuit (beeinflusst .to_gate() hier nicht)\n",
    "        if i < k - 1:\n",
    "             qc_grover.barrier(label=f\"Iter {i+1}\")\n",
    "\n",
    "    # Barriere vor der finalen Messung\n",
    "    qc_grover.barrier(label=\"Measure\")\n",
    "    # 3. Messung aller Qubits in die klassischen Bits\n",
    "    qc_grover.measure(range(n), range(n))\n",
    "\n",
    "    # Optional: Schaltkreis zeichnen (kann bei vielen Iterationen groß werden)\n",
    "    # print(f\"\\nSchaltkreis für k={k} Iterationen:\")\n",
    "    # print(qc_grover.draw(output='text', fold=-1))\n",
    "\n",
    "    # Transpilieren und Simulation mit dem QASM Simulator\n",
    "    print(f\"  Transpiliere und simuliere für k={k}...\")\n",
    "    t_qc_grover = transpile(qc_grover, sim_qasm)\n",
    "    job = sim_qasm.run(t_qc_grover, shots=2048) # Mehr Shots für bessere Statistik\n",
    "    result = job.result()\n",
    "    counts = result.get_counts()\n",
    "    results_grover[k] = counts\n",
    "\n",
    "    print(f\"  Ergebnisse für k={k} Iterationen (Top 5):\")\n",
    "    # Sortiere Ergebnisse nach Häufigkeit und zeige die Top 5\n",
    "    sorted_counts = dict(sorted(counts.items(), key=lambda item: item[1], reverse=True))\n",
    "    top_5 = dict(list(sorted_counts.items())[:5])\n",
    "    print(f\"  {top_5}\")"
   ]
  },
  {
   "cell_type": "code",
   "execution_count": 39,
   "id": "e3ecb835",
   "metadata": {},
   "outputs": [
    {
     "name": "stdout",
     "output_type": "stream",
     "text": [
      "\n",
      "Histogramm der Messergebnisse für verschiedene k:\n"
     ]
    },
    {
     "data": {
      "image/png": "[encoded data removed]",
      "text/plain": [
       "<Figure size 1000x600 with 1 Axes>"
      ]
     },
     "metadata": {},
     "output_type": "display_data"
    },
    {
     "name": "stdout",
     "output_type": "stream",
     "text": [
      "\n",
      "Wahrscheinlichkeiten für Zielzustand |111>:\n",
      "  P(|111>) für k=1: 0.7925\n",
      "  P(|111>) für k=2: 0.9536\n",
      "  P(|111>) für k=3: 0.3555\n",
      "  P(|111>) für k=6: 0.9995\n",
      "\n",
      "Theoretisch optimale Anzahl Iterationen (gerundet): R ≈ 2 (genauer: 1.67)\n"
     ]
    }
   ],
   "source": [
    "# --- Analyse der Ergebnisse ---\n",
    "\n",
    "# Plotte die Histogramme aller Simulationen nebeneinander\n",
    "print(\"\\nHistogramm der Messergebnisse für verschiedene k:\")\n",
    "fig = plot_histogram(list(results_grover.values()),\n",
    "                     title=f'Grover Suchalgorithmus (n={n}, target=|{target_state_label}>)',\n",
    "                     legend=[f'k={k}' for k in iterations_to_run],\n",
    "                     figsize=(10, 6)) # Optional: Größe anpassen\n",
    "plt.show(fig)\n",
    "display(fig)\n",
    "\n",
    "# Berechne und drucke die Wahrscheinlichkeit, den Zielzustand zu messen\n",
    "probs_target = {}\n",
    "print(\"\\nWahrscheinlichkeiten für Zielzustand |\" + target_state_label + \">:\")\n",
    "for k in iterations_to_run:\n",
    "    counts = results_grover[k]\n",
    "    shots = sum(counts.values())\n",
    "    # counts.get(key, default) liefert 0, wenn der Key nicht existiert\n",
    "    prob = counts.get(target_state_label, 0) / shots\n",
    "    probs_target[k] = prob\n",
    "    print(f\"  P(|{target_state_label}>) für k={k}: {prob:.4f}\")\n",
    "\n",
    "# Berechne theoretisch optimale Iterationszahl\n",
    "N = 2**n\n",
    "M = 1 # Nur ein gesuchtes Element\n",
    "theta = np.arcsin(np.sqrt(M/N))\n",
    "R_opt_float = (np.pi / (4 * theta)) - 0.5\n",
    "R_opt_int = int(np.round(R_opt_float))\n",
    "print(f\"\\nTheoretisch optimale Anzahl Iterationen (gerundet): R ≈ {R_opt_int} (genauer: {R_opt_float:.2f})\")"
   ]
  },
  {
   "cell_type": "markdown",
   "id": "bc1e33b0",
   "metadata": {},
   "source": [
    "### 5.5 Diskussion der Resultate\n",
    "\n",
    "Der Grover-Algorithmus soll die Amplitude und damit die Messwahrscheinlichkeit des gesuchten Zustands $|111\\rangle$ iterativ erhöhen.\n",
    "\n",
    "* **Theoretische Erwartung:** Für $N=8$ gesamt Zustände und $M=1$ gesuchtes Element ist die optimale Anzahl an Iterationen $R \\approx \\frac{\\pi}{4}\\sqrt{N/M} \\approx \\frac{\\pi}{4}\\sqrt{8} \\approx 2.22$. Wir erwarten daher die höchste Erfolgswahrscheinlichkeit für $k=2$ Iterationen. Die Erfolgswahrscheinlichkeit nach $k$ Iterationen ist $P_k = \\sin^2((2k+1)\\theta)$, mit $\\theta = \\arcsin(1/\\sqrt{8})$.\n",
    "* **Simulationsergebnisse (k=1, 2, 3, 6):**\n",
    "    * **k=1:** Die Wahrscheinlichkeit $P_1$ für $|111\\rangle$ steigt von $1/8 = 12.5\\%$ deutlich an. Der beobachtete Wert (z.B. 0.7773) stimmt gut mit dem theoretischen Wert $\\sin^2(3\\theta) \\approx 0.777$ überein.\n",
    "    * **k=2:** Die Wahrscheinlichkeit $P_2$ erreicht ihr Maximum, nahe bei 1. Der beobachtete Wert (z.B. 0.9419) ist nahe am theoretischen Wert $\\sin^2(5\\theta) \\approx 0.947$. Dies bestätigt, dass $k=2$ die optimale ganzzahlige Iterationszahl ist.\n",
    "    * **k=3:** Die Wahrscheinlichkeit $P_3$ sinkt wieder, da der optimale Punkt überschritten wurde (\"Überrotation\"). Der beobachtete Wert (z.B. 0.3301) passt gut zum theoretischen Wert $\\sin^2(7\\theta) \\approx 0.326$.\n",
    "    * **k=6:** Nach sechs Iterationen ist die Wahrscheinlichkeit $P_6$ wieder sehr hoch. Der beobachtete Wert (z.B. 1.0000) ist nahe am theoretischen Wert $\\sin^2(13\\theta) \\approx 0.994$. Dies zeigt die periodische Natur der Amplitudenverstärkung. Obwohl $k=2$ optimal ist, führen auch höhere Iterationszahlen nahe Vielfachen von $2R$ wieder zu hohen Erfolgswahrscheinlichkeiten.\n",
    "\n",
    "* **Fazit:** Die Simulationen bestätigen die Funktionsweise des Grover-Algorithmus. Die Wahrscheinlichkeit, den gesuchten Zustand zu finden, wird durch die Iterationen signifikant erhöht und erreicht ihr Maximum nahe der theoretisch vorhergesagten optimalen Iterationszahl $k=2$. Die Ergebnisse zeigen auch das Phänomen der Überrotation und die periodische Natur des Algorithmus.\n",
    "\n",
    "## 6. Abschluss\n",
    "\n",
    "Dieses Notebook hat die gestellten Aufgaben zur Manipulation von Quantenregistern, zur Simulation von Verschränkung, zum Deutsch-Algorithmus und zum Grover-Algorithmus mithilfe von Qiskit gelöst. Die Ergebnisse der Simulationen stimmen mit den theoretischen Erwartungen der Quantenmechanik und der Quantenalgorithmen überein.\n",
    "\n"
   ]
  }
 ],
 "metadata": {
  "kernelspec": {
   "display_name": "Python 3",
   "language": "python",
   "name": "python3"
  },
  "language_info": {
   "codemirror_mode": {
    "name": "ipython",
    "version": 3
   },
   "file_extension": ".py",
   "mimetype": "text/x-python",
   "name": "python",
   "nbconvert_exporter": "python",
   "pygments_lexer": "ipython3",
   "version": "3.11.9"
  }
 },
 "nbformat": 4,
 "nbformat_minor": 5
}
