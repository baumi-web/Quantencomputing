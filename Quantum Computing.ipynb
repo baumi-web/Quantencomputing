{
 "cells": [
  {
   "cell_type": "markdown",
   "id": "7ae5172b",
   "metadata": {},
   "source": [
    "# Hausarbeit Quantencomputing - Lösungen\n",
    "\n",
    "Dieses Python-Notebook enthält die Lösungen für die Aufgaben der Hausarbeit im Modul Quantencomputing.\n",
    "\n",
    "\n",
    "\n",
    "Zuerst importieren wir alle benötigten Pakete und Module von Python, NumPy, Matplotlib und Qiskit. Außerdem initialisieren wir die Qiskit Aer Simulatoren, die wir für die Berechnungen verwenden werden.\n"
   ]
  },
  {
   "cell_type": "markdown",
   "id": "51948af1",
   "metadata": {},
   "source": [
    "# Import der notwendigen Bibliotheken"
   ]
  },
  {
   "cell_type": "code",
   "execution_count": 2,
   "id": "8270cad4",
   "metadata": {},
   "outputs": [],
   "source": [
    "!pip install -q numpy matplotlib qiskit qiskit-aer scipy pylatexenc qiskit-ibm-provider rich\n"
   ]
  },
  {
   "cell_type": "code",
   "execution_count": 3,
   "id": "bb0fa4c5",
   "metadata": {},
   "outputs": [
    {
     "data": {
      "text/html": [
       "<pre style=\"white-space:pre;overflow-x:auto;line-height:normal;font-family:Menlo,'DejaVu Sans Mono',consolas,'Courier New',monospace\">Alle benötigten Bibliotheken wurden importiert.\n",
       "</pre>\n"
      ],
      "text/plain": [
       "Alle benötigten Bibliotheken wurden importiert.\n"
      ]
     },
     "metadata": {},
     "output_type": "display_data"
    },
    {
     "data": {
      "text/html": [
       "<pre style=\"white-space:pre;overflow-x:auto;line-height:normal;font-family:Menlo,'DejaVu Sans Mono',consolas,'Courier New',monospace\">Qiskit Aer Simulatoren sind bereit.\n",
       "</pre>\n"
      ],
      "text/plain": [
       "Qiskit Aer Simulatoren sind bereit.\n"
      ]
     },
     "metadata": {},
     "output_type": "display_data"
    }
   ],
   "source": [
    "# Importieren der Kernbibliotheken\n",
    "import numpy as np\n",
    "from numpy import pi\n",
    "import matplotlib.pyplot as plt\n",
    "from rich import print\n",
    "\n",
    "\n",
    "# Qiskit-spezifische Importe\n",
    "from qiskit import QuantumCircuit, transpile, ClassicalRegister\n",
    "from qiskit_aer import AerSimulator\n",
    "from qiskit.visualization import plot_histogram, array_to_latex\n",
    "from qiskit.quantum_info import Statevector, Operator\n",
    "from qiskit.circuit.library import HGate, XGate, ZGate, CCZGate\n",
    "\n",
    "print(\"Alle benötigten Bibliotheken wurden importiert.\")\n",
    "\n",
    "# Simulatoren vorbereiten\n",
    "sv_sim = AerSimulator(method='statevector')\n",
    "qasm_sim = AerSimulator(method='automatic')\n",
    "print(\"Qiskit Aer Simulatoren sind bereit.\")\n"
   ]
  },
  {
   "cell_type": "markdown",
   "id": "d9237aa5",
   "metadata": {},
   "source": [
    "## Aufgabe 1: 3-Qubit Transformation\n",
    "\n"
   ]
  },
  {
   "cell_type": "code",
   "execution_count": 4,
   "id": "2d3fd302",
   "metadata": {},
   "outputs": [
    {
     "data": {
      "text/html": [
       "<pre style=\"white-space:pre;overflow-x:auto;line-height:normal;font-family:Menlo,'DejaVu Sans Mono',consolas,'Courier New',monospace\">\n",
       "<span style=\"font-weight: bold\">=== Aufgabe </span><span style=\"color: #008080; text-decoration-color: #008080; font-weight: bold\">1</span><span style=\"font-weight: bold\">: </span><span style=\"color: #008080; text-decoration-color: #008080; font-weight: bold\">3</span><span style=\"font-weight: bold\">-Qubit Register ===</span>\n",
       "\n",
       "</pre>\n"
      ],
      "text/plain": [
       "\n",
       "\u001b[1m=== Aufgabe \u001b[0m\u001b[1;36m1\u001b[0m\u001b[1m: \u001b[0m\u001b[1;36m3\u001b[0m\u001b[1m-Qubit Register ===\u001b[0m\n",
       "\n"
      ]
     },
     "metadata": {},
     "output_type": "display_data"
    },
    {
     "data": {
      "text/html": [
       "<pre style=\"white-space:pre;overflow-x:auto;line-height:normal;font-family:Menlo,'DejaVu Sans Mono',consolas,'Courier New',monospace\">--- <span style=\"color: #008080; text-decoration-color: #008080; font-weight: bold\">1.1</span> Berechnung der Q-Matrix ---\n",
       "</pre>\n"
      ],
      "text/plain": [
       "--- \u001b[1;36m1.1\u001b[0m Berechnung der Q-Matrix ---\n"
      ]
     },
     "metadata": {},
     "output_type": "display_data"
    },
    {
     "data": {
      "text/html": [
       "<pre style=\"white-space:pre;overflow-x:auto;line-height:normal;font-family:Menlo,'DejaVu Sans Mono',consolas,'Courier New',monospace\">\n",
       "<span style=\"font-weight: bold\">Transformationsmatrix Q (berechnet via NumPy):</span>\n",
       "</pre>\n"
      ],
      "text/plain": [
       "\n",
       "\u001b[1mTransformationsmatrix Q \u001b[0m\u001b[1m(\u001b[0m\u001b[1mberechnet via NumPy\u001b[0m\u001b[1m)\u001b[0m\u001b[1m:\u001b[0m\n"
      ]
     },
     "metadata": {},
     "output_type": "display_data"
    },
    {
     "data": {
      "text/latex": [
       "$$\n",
       "Q_{numpy} = \n",
       "\\begin{bmatrix}\n",
       "0 & 0 & \\frac{\\sqrt{2}}{2} & 0 & 0 & 0 & \\frac{\\sqrt{2}}{2} & 0  \\\\\n",
       " 0 & 0 & 0 & - \\frac{\\sqrt{2}}{2} & 0 & 0 & 0 & - \\frac{\\sqrt{2}}{2}  \\\\\n",
       " \\frac{\\sqrt{2}}{2} & 0 & 0 & 0 & \\frac{\\sqrt{2}}{2} & 0 & 0 & 0  \\\\\n",
       " 0 & - \\frac{\\sqrt{2}}{2} & 0 & 0 & 0 & - \\frac{\\sqrt{2}}{2} & 0 & 0  \\\\\n",
       " 0 & 0 & \\frac{\\sqrt{2}}{2} & 0 & 0 & 0 & - \\frac{\\sqrt{2}}{2} & 0  \\\\\n",
       " 0 & 0 & 0 & - \\frac{\\sqrt{2}}{2} & 0 & 0 & 0 & \\frac{\\sqrt{2}}{2}  \\\\\n",
       " \\frac{\\sqrt{2}}{2} & 0 & 0 & 0 & - \\frac{\\sqrt{2}}{2} & 0 & 0 & 0  \\\\\n",
       " 0 & - \\frac{\\sqrt{2}}{2} & 0 & 0 & 0 & \\frac{\\sqrt{2}}{2} & 0 & 0  \\\\\n",
       " \\end{bmatrix}\n",
       "$$"
      ],
      "text/plain": [
       "<IPython.core.display.Latex object>"
      ]
     },
     "metadata": {},
     "output_type": "display_data"
    },
    {
     "data": {
      "text/html": [
       "<pre style=\"white-space:pre;overflow-x:auto;line-height:normal;font-family:Menlo,'DejaVu Sans Mono',consolas,'Courier New',monospace\">\n",
       "<span style=\"font-weight: bold\">Matrix des Qiskit Operators (zur Verifizierung):</span>\n",
       "</pre>\n"
      ],
      "text/plain": [
       "\n",
       "\u001b[1mMatrix des Qiskit Operators \u001b[0m\u001b[1m(\u001b[0m\u001b[1mzur Verifizierung\u001b[0m\u001b[1m)\u001b[0m\u001b[1m:\u001b[0m\n"
      ]
     },
     "metadata": {},
     "output_type": "display_data"
    },
    {
     "data": {
      "text/latex": [
       "$$\n",
       "Q_{operator} = \n",
       "\\begin{bmatrix}\n",
       "0 & 0 & \\frac{\\sqrt{2}}{2} & 0 & 0 & 0 & \\frac{\\sqrt{2}}{2} & 0  \\\\\n",
       " 0 & 0 & 0 & - \\frac{\\sqrt{2}}{2} & 0 & 0 & 0 & - \\frac{\\sqrt{2}}{2}  \\\\\n",
       " \\frac{\\sqrt{2}}{2} & 0 & 0 & 0 & \\frac{\\sqrt{2}}{2} & 0 & 0 & 0  \\\\\n",
       " 0 & - \\frac{\\sqrt{2}}{2} & 0 & 0 & 0 & - \\frac{\\sqrt{2}}{2} & 0 & 0  \\\\\n",
       " 0 & 0 & \\frac{\\sqrt{2}}{2} & 0 & 0 & 0 & - \\frac{\\sqrt{2}}{2} & 0  \\\\\n",
       " 0 & 0 & 0 & - \\frac{\\sqrt{2}}{2} & 0 & 0 & 0 & \\frac{\\sqrt{2}}{2}  \\\\\n",
       " \\frac{\\sqrt{2}}{2} & 0 & 0 & 0 & - \\frac{\\sqrt{2}}{2} & 0 & 0 & 0  \\\\\n",
       " 0 & - \\frac{\\sqrt{2}}{2} & 0 & 0 & 0 & \\frac{\\sqrt{2}}{2} & 0 & 0  \\\\\n",
       " \\end{bmatrix}\n",
       "$$"
      ],
      "text/plain": [
       "<IPython.core.display.Latex object>"
      ]
     },
     "metadata": {},
     "output_type": "display_data"
    },
    {
     "data": {
      "text/html": [
       "<pre style=\"white-space:pre;overflow-x:auto;line-height:normal;font-family:Menlo,'DejaVu Sans Mono',consolas,'Courier New',monospace\">\n",
       "<span style=\"font-weight: bold\">--&gt; Bestätigt: Qiskit Operator entspricht der NumPy-Matrix.</span>\n",
       "</pre>\n"
      ],
      "text/plain": [
       "\n",
       "\u001b[1m--> Bestätigt: Qiskit Operator entspricht der NumPy-Matrix.\u001b[0m\n"
      ]
     },
     "metadata": {},
     "output_type": "display_data"
    }
   ],
   "source": [
    "# 1.1 Matrix Q = H(q0) ⊗ X(q1) ⊗ Z(q2)\n",
    "print(\"[bold]\\n=== Aufgabe 1: 3-Qubit Register ===[/bold]\\n\")\n",
    "print(\"--- 1.1 Berechnung der Q-Matrix ---\")\n",
    "\n",
    "# Einzelne Gate-Matrizen\n",
    "mat_H = HGate().to_matrix()\n",
    "mat_X = XGate().to_matrix()\n",
    "mat_Z = ZGate().to_matrix()\n",
    "\n",
    "# Tensorproduktberechnung (H auf 0, X auf 1, Z auf 2)\n",
    "matrix_Q_numpy = np.kron(mat_H, np.kron(mat_X, mat_Z))\n",
    "print(\"[bold]\\nTransformationsmatrix Q (berechnet via NumPy):[/bold]\")\n",
    "display(array_to_latex(matrix_Q_numpy, prefix=\"Q_{numpy} = \"))\n",
    "\n",
    "# Erstellung des korrespondierenden Qiskit-Operators\n",
    "q_operator = Operator(matrix_Q_numpy)\n",
    "print(\"[bold]\\nMatrix des Qiskit Operators (zur Verifizierung):[/bold]\")\n",
    "display(array_to_latex(q_operator.data, prefix=\"Q_{operator} = \"))\n",
    "\n",
    "# Konsistenzprüfung\n",
    "assert np.allclose(q_operator.data, matrix_Q_numpy), \"Operator-Matrix weicht von NumPy-Berechnung ab!\"\n",
    "print(\"[bold]\\n--> Bestätigt: Qiskit Operator entspricht der NumPy-Matrix.[/bold]\")"
   ]
  },
  {
   "cell_type": "markdown",
   "id": "b58ff096",
   "metadata": {},
   "source": [
    "\n",
    "**Eine Matrix $U$ ist unitär, wenn ihr Produkt mit ihrer adjungierten (transponiert-konjugierten) Matrix $U^\\dagger$ die Einheitsmatrix $I$ ergibt: $U^\\dagger U = I$. Wir überprüfen dies sowohl manuell mit NumPy als auch mit der eingebauten Funktion von Qiskit.**\n"
   ]
  },
  {
   "cell_type": "code",
   "execution_count": 5,
   "id": "847fa7e4",
   "metadata": {},
   "outputs": [
    {
     "data": {
      "text/html": [
       "<pre style=\"white-space:pre;overflow-x:auto;line-height:normal;font-family:Menlo,'DejaVu Sans Mono',consolas,'Courier New',monospace\">\n",
       "<span style=\"font-weight: bold\">--- </span><span style=\"color: #008080; text-decoration-color: #008080; font-weight: bold\">1.2</span><span style=\"font-weight: bold\"> Unitaritätsprüfung der Q-Matrix ---</span>\n",
       "</pre>\n"
      ],
      "text/plain": [
       "\n",
       "\u001b[1m--- \u001b[0m\u001b[1;36m1.2\u001b[0m\u001b[1m Unitaritätsprüfung der Q-Matrix ---\u001b[0m\n"
      ]
     },
     "metadata": {},
     "output_type": "display_data"
    },
    {
     "data": {
      "text/html": [
       "<pre style=\"white-space:pre;overflow-x:auto;line-height:normal;font-family:Menlo,'DejaVu Sans Mono',consolas,'Courier New',monospace\">\n",
       "Unitaritätstest <span style=\"font-weight: bold\">(</span>manuell mit NumPy<span style=\"font-weight: bold\">)</span>: <span style=\"color: #00ff00; text-decoration-color: #00ff00; font-style: italic\">True</span>\n",
       "</pre>\n"
      ],
      "text/plain": [
       "\n",
       "Unitaritätstest \u001b[1m(\u001b[0mmanuell mit NumPy\u001b[1m)\u001b[0m: \u001b[3;92mTrue\u001b[0m\n"
      ]
     },
     "metadata": {},
     "output_type": "display_data"
    },
    {
     "data": {
      "text/html": [
       "<pre style=\"white-space:pre;overflow-x:auto;line-height:normal;font-family:Menlo,'DejaVu Sans Mono',consolas,'Courier New',monospace\">Unitaritätstest <span style=\"font-weight: bold\">(</span>Qiskit Operator-Methode<span style=\"font-weight: bold\">)</span>: <span style=\"color: #00ff00; text-decoration-color: #00ff00; font-style: italic\">True</span>\n",
       "</pre>\n"
      ],
      "text/plain": [
       "Unitaritätstest \u001b[1m(\u001b[0mQiskit Operator-Methode\u001b[1m)\u001b[0m: \u001b[3;92mTrue\u001b[0m\n"
      ]
     },
     "metadata": {},
     "output_type": "display_data"
    },
    {
     "data": {
      "text/html": [
       "<pre style=\"white-space:pre;overflow-x:auto;line-height:normal;font-family:Menlo,'DejaVu Sans Mono',consolas,'Courier New',monospace\">\n",
       "Produkt Q† * Q:\n",
       "</pre>\n"
      ],
      "text/plain": [
       "\n",
       "Produkt Q† * Q:\n"
      ]
     },
     "metadata": {},
     "output_type": "display_data"
    },
    {
     "data": {
      "text/latex": [
       "$$\n",
       "Q^\\dagger Q = \n",
       "\\begin{bmatrix}\n",
       "1 & 0 & 0 & 0 & 0 & 0 & 0 & 0  \\\\\n",
       " 0 & 1 & 0 & 0 & 0 & 0 & 0 & 0  \\\\\n",
       " 0 & 0 & 1 & 0 & 0 & 0 & 0 & 0  \\\\\n",
       " 0 & 0 & 0 & 1 & 0 & 0 & 0 & 0  \\\\\n",
       " 0 & 0 & 0 & 0 & 1 & 0 & 0 & 0  \\\\\n",
       " 0 & 0 & 0 & 0 & 0 & 1 & 0 & 0  \\\\\n",
       " 0 & 0 & 0 & 0 & 0 & 0 & 1 & 0  \\\\\n",
       " 0 & 0 & 0 & 0 & 0 & 0 & 0 & 1  \\\\\n",
       " \\end{bmatrix}\n",
       "$$"
      ],
      "text/plain": [
       "<IPython.core.display.Latex object>"
      ]
     },
     "metadata": {},
     "output_type": "display_data"
    }
   ],
   "source": [
    "# 1.2 Prüfung der Unitarität von Q\n",
    "\n",
    "print(\"\\n[bold]--- 1.2 Unitaritätsprüfung der Q-Matrix ---[/bold]\")\n",
    "\n",
    "# Manuelle Prüfung: Q† * Q == I ?\n",
    "q_op_data = q_operator.data\n",
    "q_op_adjoint = q_op_data.conj().T\n",
    "Id_8 = np.identity(8, dtype=complex)\n",
    "unitary_check_manual = np.allclose(q_op_adjoint @ q_op_data, Id_8)\n",
    "print(f\"\\nUnitaritätstest (manuell mit NumPy): {unitary_check_manual}\")\n",
    "\n",
    "# Prüfung mit Qiskit-Methode\n",
    "print(f\"Unitaritätstest (Qiskit Operator-Methode): {q_operator.is_unitary()}\")\n",
    "\n",
    "# Produktmatrix anzeigen (sollte Identität sein)\n",
    "print(\"\\nProdukt Q† * Q:\")\n",
    "display(array_to_latex(q_op_adjoint @ q_op_data, prefix=\"Q^\\\\dagger Q = \"))"
   ]
  },
  {
   "cell_type": "code",
   "execution_count": 6,
   "id": "af0838d3",
   "metadata": {},
   "outputs": [
    {
     "data": {
      "text/html": [
       "<pre style=\"white-space:pre;overflow-x:auto;line-height:normal;font-family:Menlo,'DejaVu Sans Mono',consolas,'Courier New',monospace\">\n",
       "<span style=\"font-weight: bold\">--- </span><span style=\"color: #008080; text-decoration-color: #008080; font-weight: bold\">1.3</span><span style=\"font-weight: bold\"> Operatoranwendung auf Basiszustände ---</span>\n",
       "</pre>\n"
      ],
      "text/plain": [
       "\n",
       "\u001b[1m--- \u001b[0m\u001b[1;36m1.3\u001b[0m\u001b[1m Operatoranwendung auf Basiszustände ---\u001b[0m\n"
      ]
     },
     "metadata": {},
     "output_type": "display_data"
    },
    {
     "data": {
      "text/html": [
       "<pre style=\"white-space:pre;overflow-x:auto;line-height:normal;font-family:Menlo,'DejaVu Sans Mono',consolas,'Courier New',monospace\">\n",
       "Startvektor |<span style=\"color: #008080; text-decoration-color: #008080; font-weight: bold\">000</span>&gt;:\n",
       "</pre>\n"
      ],
      "text/plain": [
       "\n",
       "Startvektor |\u001b[1;36m000\u001b[0m>:\n"
      ]
     },
     "metadata": {},
     "output_type": "display_data"
    },
    {
     "data": {
      "text/latex": [
       "$$\n",
       "|\\psi_{start}^{000}\\rangle = \n",
       "\\begin{bmatrix}\n",
       "1 & 0 & 0 & 0 & 0 & 0 & 0 & 0  \\\\\n",
       " \\end{bmatrix}\n",
       "$$"
      ],
      "text/plain": [
       "<IPython.core.display.Latex object>"
      ]
     },
     "metadata": {},
     "output_type": "display_data"
    },
    {
     "data": {
      "text/html": [
       "<pre style=\"white-space:pre;overflow-x:auto;line-height:normal;font-family:Menlo,'DejaVu Sans Mono',consolas,'Courier New',monospace\">\n",
       "Startvektor |<span style=\"color: #008080; text-decoration-color: #008080; font-weight: bold\">111</span>&gt;:\n",
       "</pre>\n"
      ],
      "text/plain": [
       "\n",
       "Startvektor |\u001b[1;36m111\u001b[0m>:\n"
      ]
     },
     "metadata": {},
     "output_type": "display_data"
    },
    {
     "data": {
      "text/latex": [
       "$$\n",
       "|\\psi_{start}^{111}\\rangle = \n",
       "\\begin{bmatrix}\n",
       "0 & 0 & 0 & 0 & 0 & 0 & 0 & 1  \\\\\n",
       " \\end{bmatrix}\n",
       "$$"
      ],
      "text/plain": [
       "<IPython.core.display.Latex object>"
      ]
     },
     "metadata": {},
     "output_type": "display_data"
    },
    {
     "data": {
      "text/html": [
       "<pre style=\"white-space:pre;overflow-x:auto;line-height:normal;font-family:Menlo,'DejaVu Sans Mono',consolas,'Courier New',monospace\">\n",
       "<span style=\"font-weight: bold\">Ergebnis Q|</span><span style=\"color: #008080; text-decoration-color: #008080; font-weight: bold\">000</span><span style=\"font-weight: bold\">&gt;:</span>\n",
       "</pre>\n"
      ],
      "text/plain": [
       "\n",
       "\u001b[1mErgebnis Q|\u001b[0m\u001b[1;36m000\u001b[0m\u001b[1m>:\u001b[0m\n"
      ]
     },
     "metadata": {},
     "output_type": "display_data"
    },
    {
     "data": {
      "text/latex": [
       "$$\n",
       "|\\psi_{end}^{000}\\rangle = \n",
       "\\begin{bmatrix}\n",
       "0 & 0 & \\frac{\\sqrt{2}}{2} & 0 & 0 & 0 & \\frac{\\sqrt{2}}{2} & 0  \\\\\n",
       " \\end{bmatrix}\n",
       "$$"
      ],
      "text/plain": [
       "<IPython.core.display.Latex object>"
      ]
     },
     "metadata": {},
     "output_type": "display_data"
    },
    {
     "data": {
      "text/html": [
       "<pre style=\"white-space:pre;overflow-x:auto;line-height:normal;font-family:Menlo,'DejaVu Sans Mono',consolas,'Courier New',monospace\"><span style=\"font-weight: bold\">Zustand:</span> <span style=\"font-weight: bold\">[</span><span style=\"color: #008080; text-decoration-color: #008080; font-weight: bold\">0</span>.        +<span style=\"color: #008080; text-decoration-color: #008080; font-weight: bold\">0.j</span>,<span style=\"color: #008080; text-decoration-color: #008080; font-weight: bold\">0</span>.        +<span style=\"color: #008080; text-decoration-color: #008080; font-weight: bold\">0.j</span>,<span style=\"color: #008080; text-decoration-color: #008080; font-weight: bold\">0.70710678+0.j</span>,<span style=\"color: #008080; text-decoration-color: #008080; font-weight: bold\">0</span>.        +<span style=\"color: #008080; text-decoration-color: #008080; font-weight: bold\">0.j</span>,\n",
       " <span style=\"color: #008080; text-decoration-color: #008080; font-weight: bold\">0</span>.        +<span style=\"color: #008080; text-decoration-color: #008080; font-weight: bold\">0.j</span>,<span style=\"color: #008080; text-decoration-color: #008080; font-weight: bold\">0</span>.        +<span style=\"color: #008080; text-decoration-color: #008080; font-weight: bold\">0.j</span>,<span style=\"color: #008080; text-decoration-color: #008080; font-weight: bold\">0.70710678+0.j</span>,<span style=\"color: #008080; text-decoration-color: #008080; font-weight: bold\">0</span>.        +<span style=\"color: #008080; text-decoration-color: #008080; font-weight: bold\">0.j</span><span style=\"font-weight: bold\">]</span>\n",
       "</pre>\n"
      ],
      "text/plain": [
       "\u001b[1mZustand:\u001b[0m \u001b[1m[\u001b[0m\u001b[1;36m0\u001b[0m.        +\u001b[1;36m0.j\u001b[0m,\u001b[1;36m0\u001b[0m.        +\u001b[1;36m0.j\u001b[0m,\u001b[1;36m0.70710678+0.j\u001b[0m,\u001b[1;36m0\u001b[0m.        +\u001b[1;36m0.j\u001b[0m,\n",
       " \u001b[1;36m0\u001b[0m.        +\u001b[1;36m0.j\u001b[0m,\u001b[1;36m0\u001b[0m.        +\u001b[1;36m0.j\u001b[0m,\u001b[1;36m0.70710678+0.j\u001b[0m,\u001b[1;36m0\u001b[0m.        +\u001b[1;36m0.j\u001b[0m\u001b[1m]\u001b[0m\n"
      ]
     },
     "metadata": {},
     "output_type": "display_data"
    },
    {
     "data": {
      "text/html": [
       "<pre style=\"white-space:pre;overflow-x:auto;line-height:normal;font-family:Menlo,'DejaVu Sans Mono',consolas,'Courier New',monospace\">\n",
       "<span style=\"font-weight: bold\">Ergebnis Q|</span><span style=\"color: #008080; text-decoration-color: #008080; font-weight: bold\">111</span><span style=\"font-weight: bold\">&gt;:</span>\n",
       "</pre>\n"
      ],
      "text/plain": [
       "\n",
       "\u001b[1mErgebnis Q|\u001b[0m\u001b[1;36m111\u001b[0m\u001b[1m>:\u001b[0m\n"
      ]
     },
     "metadata": {},
     "output_type": "display_data"
    },
    {
     "data": {
      "text/latex": [
       "$$\n",
       "|\\psi_{end}^{111}\\rangle = \n",
       "\\begin{bmatrix}\n",
       "0 & - \\frac{\\sqrt{2}}{2} & 0 & 0 & 0 & \\frac{\\sqrt{2}}{2} & 0 & 0  \\\\\n",
       " \\end{bmatrix}\n",
       "$$"
      ],
      "text/plain": [
       "<IPython.core.display.Latex object>"
      ]
     },
     "metadata": {},
     "output_type": "display_data"
    },
    {
     "data": {
      "text/html": [
       "<pre style=\"white-space:pre;overflow-x:auto;line-height:normal;font-family:Menlo,'DejaVu Sans Mono',consolas,'Courier New',monospace\"><span style=\"font-weight: bold\">Zustand:</span> <span style=\"font-weight: bold\">[</span> <span style=\"color: #008080; text-decoration-color: #008080; font-weight: bold\">0</span>.        +<span style=\"color: #008080; text-decoration-color: #008080; font-weight: bold\">0.j</span>,<span style=\"color: #008080; text-decoration-color: #008080; font-weight: bold\">-0.70710678+0.j</span>, <span style=\"color: #008080; text-decoration-color: #008080; font-weight: bold\">0</span>.        +<span style=\"color: #008080; text-decoration-color: #008080; font-weight: bold\">0.j</span>, <span style=\"color: #008080; text-decoration-color: #008080; font-weight: bold\">0</span>.        +<span style=\"color: #008080; text-decoration-color: #008080; font-weight: bold\">0.j</span>,\n",
       "  <span style=\"color: #008080; text-decoration-color: #008080; font-weight: bold\">0</span>.        +<span style=\"color: #008080; text-decoration-color: #008080; font-weight: bold\">0.j</span>, <span style=\"color: #008080; text-decoration-color: #008080; font-weight: bold\">0.70710678+0.j</span>, <span style=\"color: #008080; text-decoration-color: #008080; font-weight: bold\">0</span>.        +<span style=\"color: #008080; text-decoration-color: #008080; font-weight: bold\">0.j</span>, <span style=\"color: #008080; text-decoration-color: #008080; font-weight: bold\">0</span>.        +<span style=\"color: #008080; text-decoration-color: #008080; font-weight: bold\">0.j</span><span style=\"font-weight: bold\">]</span>\n",
       "</pre>\n"
      ],
      "text/plain": [
       "\u001b[1mZustand:\u001b[0m \u001b[1m[\u001b[0m \u001b[1;36m0\u001b[0m.        +\u001b[1;36m0.j\u001b[0m,\u001b[1;36m-0.70710678+0.j\u001b[0m, \u001b[1;36m0\u001b[0m.        +\u001b[1;36m0.j\u001b[0m, \u001b[1;36m0\u001b[0m.        +\u001b[1;36m0.j\u001b[0m,\n",
       "  \u001b[1;36m0\u001b[0m.        +\u001b[1;36m0.j\u001b[0m, \u001b[1;36m0.70710678+0.j\u001b[0m, \u001b[1;36m0\u001b[0m.        +\u001b[1;36m0.j\u001b[0m, \u001b[1;36m0\u001b[0m.        +\u001b[1;36m0.j\u001b[0m\u001b[1m]\u001b[0m\n"
      ]
     },
     "metadata": {},
     "output_type": "display_data"
    }
   ],
   "source": [
    "# 1.3 Anwendung von Q auf Zustände |000> und |111>\n",
    "\n",
    "print(\"\\n[bold]--- 1.3 Operatoranwendung auf Basiszustände ---[/bold]\")\n",
    "\n",
    "# Anfangszustandsvektoren (q2, q1, q0)\n",
    "vector_000 = Statevector.from_label('000')\n",
    "vector_111 = Statevector.from_label('111')\n",
    "\n",
    "print(\"\\nStartvektor |000>:\")\n",
    "display(array_to_latex(vector_000.data, prefix=\"|\\\\psi_{start}^{000}\\\\rangle = \"))\n",
    "\n",
    "print(\"\\nStartvektor |111>:\")\n",
    "display(array_to_latex(vector_111.data, prefix=\"|\\\\psi_{start}^{111}\\\\rangle = \"))\n",
    "\n",
    "# Entwicklung der Zustände unter Q\n",
    "evolved_vector_000 = vector_000.evolve(q_operator)\n",
    "evolved_vector_111 = vector_111.evolve(q_operator)\n",
    "\n",
    "print(\"[bold]\\nErgebnis Q|000>:[/bold]\")\n",
    "display(array_to_latex(evolved_vector_000.data, prefix=\"|\\\\psi_{end}^{000}\\\\rangle = \", max_size=8))\n",
    "print(f\"[bold]Zustand:[/bold] {evolved_vector_000.draw('text')}\")\n",
    "\n",
    "print(\"[bold]\\nErgebnis Q|111>:[/bold]\")\n",
    "display(array_to_latex(evolved_vector_111.data, prefix=\"|\\\\psi_{end}^{111}\\\\rangle = \", max_size=8))\n",
    "print(f\"[bold]Zustand:[/bold] {evolved_vector_111.draw('text')}\")"
   ]
  },
  {
   "cell_type": "markdown",
   "id": "c0c6eed1",
   "metadata": {},
   "source": [
    "**Zusammenfassung Aufgabe 1:**\n",
    "Wir haben die $8 \\times 8$ Matrix $Q$ für die gegebene Transformation $H_{q0} \\otimes X_{q1} \\otimes Z_{q2}$ berechnet und ihre Unitarität bestätigt. Die Anwendung des Operators $Q$ auf die Basiszustände $|000\\rangle$ und $|111\\rangle$ lieferte die erwarteten Superpositionszustände $\\frac{1}{\\sqrt{2}}(|010\\rangle + |110\\rangle)$ bzw. $\\frac{1}{\\sqrt{2}}(-|001\\rangle + |101\\rangle)$.\n"
   ]
  },
  {
   "cell_type": "markdown",
   "id": "1bce4b38",
   "metadata": {},
   "source": [
    "## Aufgabe 2: Verschränkungssimulation\n"
   ]
  },
  {
   "cell_type": "code",
   "execution_count": 13,
   "id": "6d3a0231",
   "metadata": {},
   "outputs": [
    {
     "data": {
      "text/html": [
       "<pre style=\"white-space:pre;overflow-x:auto;line-height:normal;font-family:Menlo,'DejaVu Sans Mono',consolas,'Courier New',monospace\"><span style=\"font-weight: bold\">--- </span><span style=\"color: #008080; text-decoration-color: #008080; font-weight: bold\">2.1</span><span style=\"font-weight: bold\"> Erstellung des Bell-Zustand Circuits ---</span>\n",
       "</pre>\n"
      ],
      "text/plain": [
       "\u001b[1m--- \u001b[0m\u001b[1;36m2.1\u001b[0m\u001b[1m Erstellung des Bell-Zustand Circuits ---\u001b[0m\n"
      ]
     },
     "metadata": {},
     "output_type": "display_data"
    },
    {
     "data": {
      "text/html": [
       "<pre style=\"white-space:pre;overflow-x:auto;line-height:normal;font-family:Menlo,'DejaVu Sans Mono',consolas,'Courier New',monospace\">\n",
       "Schaltkreis zur Erzeugung des Bell-Zustands |Φ+&gt;:\n",
       "</pre>\n"
      ],
      "text/plain": [
       "\n",
       "Schaltkreis zur Erzeugung des Bell-Zustands |Φ+>:\n"
      ]
     },
     "metadata": {},
     "output_type": "display_data"
    },
    {
     "data": {
      "text/html": [
       "<pre style=\"white-space:pre;overflow-x:auto;line-height:normal;font-family:Menlo,'DejaVu Sans Mono',consolas,'Courier New',monospace\">     ┌───┐     \n",
       "q_0: ┤ H ├──■──\n",
       "     └───┘┌─┴─┐\n",
       "q_1: ─────┤ X ├\n",
       "          └───┘\n",
       "c: <span style=\"color: #008080; text-decoration-color: #008080; font-weight: bold\">2</span>/══════════\n",
       "               \n",
       "</pre>\n"
      ],
      "text/plain": [
       "     ┌───┐     \n",
       "q_0: ┤ H ├──■──\n",
       "     └───┘┌─┴─┐\n",
       "q_1: ─────┤ X ├\n",
       "          └───┘\n",
       "c: \u001b[1;36m2\u001b[0m/══════════\n",
       "               \n"
      ]
     },
     "metadata": {},
     "output_type": "display_data"
    }
   ],
   "source": [
    "# 2.1 Erstellung des Bell-Zustand Circuits\n",
    "\n",
    "print(\"[bold]--- 2.1 Erstellung des Bell-Zustand Circuits ---[/bold]\")\n",
    "\n",
    "entanglement_sv_circuit = QuantumCircuit(2, 2, name=\"Bell State\")\n",
    "entanglement_sv_circuit.h(0)\n",
    "entanglement_sv_circuit.cx(0, 1)\n",
    "\n",
    "#Schaltkreis zeichnen\n",
    "print(\"\\nSchaltkreis zur Erzeugung des Bell-Zustands |Φ+>:\")\n",
    "print(entanglement_sv_circuit.draw(output='text'))"
   ]
  },
  {
   "cell_type": "code",
   "execution_count": 17,
   "id": "fc4a39a2",
   "metadata": {},
   "outputs": [
    {
     "data": {
      "text/html": [
       "<pre style=\"white-space:pre;overflow-x:auto;line-height:normal;font-family:Menlo,'DejaVu Sans Mono',consolas,'Courier New',monospace\">\n",
       "<span style=\"font-weight: bold\">--- </span><span style=\"color: #008080; text-decoration-color: #008080; font-weight: bold\">2.2</span><span style=\"font-weight: bold\"> Berechnung des Endzustandsvektors ---</span>\n",
       "</pre>\n"
      ],
      "text/plain": [
       "\n",
       "\u001b[1m--- \u001b[0m\u001b[1;36m2.2\u001b[0m\u001b[1m Berechnung des Endzustandsvektors ---\u001b[0m\n"
      ]
     },
     "metadata": {},
     "output_type": "display_data"
    },
    {
     "data": {
      "text/html": [
       "<pre style=\"white-space:pre;overflow-x:auto;line-height:normal;font-family:Menlo,'DejaVu Sans Mono',consolas,'Courier New',monospace\">\n",
       "Resultierender Zustandsvektor |Φ+&gt;:\n",
       "</pre>\n"
      ],
      "text/plain": [
       "\n",
       "Resultierender Zustandsvektor |Φ+>:\n"
      ]
     },
     "metadata": {},
     "output_type": "display_data"
    },
    {
     "data": {
      "text/latex": [
       "$$\n",
       "|\\Phi^+\\rangle = \n",
       "\\begin{bmatrix}\n",
       "\\frac{\\sqrt{2}}{2} & 0 & 0 & \\frac{\\sqrt{2}}{2}  \\\\\n",
       " \\end{bmatrix}\n",
       "$$"
      ],
      "text/plain": [
       "<IPython.core.display.Latex object>"
      ]
     },
     "metadata": {},
     "output_type": "display_data"
    },
    {
     "data": {
      "text/html": [
       "<pre style=\"white-space:pre;overflow-x:auto;line-height:normal;font-family:Menlo,'DejaVu Sans Mono',consolas,'Courier New',monospace\">Textdarstellung <span style=\"font-weight: bold\">(</span>q1, q0<span style=\"font-weight: bold\">)</span>: <span style=\"font-weight: bold\">[</span><span style=\"color: #008080; text-decoration-color: #008080; font-weight: bold\">0.70710678+0.j</span>,<span style=\"color: #008080; text-decoration-color: #008080; font-weight: bold\">0</span>.        +<span style=\"color: #008080; text-decoration-color: #008080; font-weight: bold\">0.j</span>,<span style=\"color: #008080; text-decoration-color: #008080; font-weight: bold\">0</span>.        +<span style=\"color: #008080; text-decoration-color: #008080; font-weight: bold\">0.j</span>,<span style=\"color: #008080; text-decoration-color: #008080; font-weight: bold\">0.70710678+0.j</span><span style=\"font-weight: bold\">]</span>\n",
       "</pre>\n"
      ],
      "text/plain": [
       "Textdarstellung \u001b[1m(\u001b[0mq1, q0\u001b[1m)\u001b[0m: \u001b[1m[\u001b[0m\u001b[1;36m0.70710678+0.j\u001b[0m,\u001b[1;36m0\u001b[0m.        +\u001b[1;36m0.j\u001b[0m,\u001b[1;36m0\u001b[0m.        +\u001b[1;36m0.j\u001b[0m,\u001b[1;36m0.70710678+0.j\u001b[0m\u001b[1m]\u001b[0m\n"
      ]
     },
     "metadata": {},
     "output_type": "display_data"
    },
    {
     "data": {
      "text/html": [
       "<pre style=\"white-space:pre;overflow-x:auto;line-height:normal;font-family:Menlo,'DejaVu Sans Mono',consolas,'Courier New',monospace\">\n",
       "Erwartete Messwahrscheinlichkeiten:\n",
       "</pre>\n"
      ],
      "text/plain": [
       "\n",
       "Erwartete Messwahrscheinlichkeiten:\n"
      ]
     },
     "metadata": {},
     "output_type": "display_data"
    },
    {
     "data": {
      "text/html": [
       "<pre style=\"white-space:pre;overflow-x:auto;line-height:normal;font-family:Menlo,'DejaVu Sans Mono',consolas,'Courier New',monospace\"><span style=\"font-weight: bold\">{</span><span style=\"color: #800080; text-decoration-color: #800080; font-weight: bold\">np.str_</span><span style=\"font-weight: bold\">(</span><span style=\"color: #008000; text-decoration-color: #008000\">'00'</span><span style=\"font-weight: bold\">)</span>: <span style=\"color: #800080; text-decoration-color: #800080; font-weight: bold\">np.float64</span><span style=\"font-weight: bold\">(</span><span style=\"color: #008080; text-decoration-color: #008080; font-weight: bold\">0.5000000000000001</span><span style=\"font-weight: bold\">)</span>, <span style=\"color: #800080; text-decoration-color: #800080; font-weight: bold\">np.str_</span><span style=\"font-weight: bold\">(</span><span style=\"color: #008000; text-decoration-color: #008000\">'11'</span><span style=\"font-weight: bold\">)</span>: <span style=\"color: #800080; text-decoration-color: #800080; font-weight: bold\">np.float64</span><span style=\"font-weight: bold\">(</span><span style=\"color: #008080; text-decoration-color: #008080; font-weight: bold\">0.4999999999999999</span><span style=\"font-weight: bold\">)}</span>\n",
       "</pre>\n"
      ],
      "text/plain": [
       "\u001b[1m{\u001b[0m\u001b[1;35mnp.str_\u001b[0m\u001b[1m(\u001b[0m\u001b[32m'00'\u001b[0m\u001b[1m)\u001b[0m: \u001b[1;35mnp.float64\u001b[0m\u001b[1m(\u001b[0m\u001b[1;36m0.5000000000000001\u001b[0m\u001b[1m)\u001b[0m, \u001b[1;35mnp.str_\u001b[0m\u001b[1m(\u001b[0m\u001b[32m'11'\u001b[0m\u001b[1m)\u001b[0m: \u001b[1;35mnp.float64\u001b[0m\u001b[1m(\u001b[0m\u001b[1;36m0.4999999999999999\u001b[0m\u001b[1m)\u001b[0m\u001b[1m}\u001b[0m\n"
      ]
     },
     "metadata": {},
     "output_type": "display_data"
    }
   ],
   "source": [
    "# 2.2 Zustandsvektor-Berechnung\n",
    "\n",
    "print(\"\\n[bold]--- 2.2 Berechnung des Endzustandsvektors ---[/bold]\")\n",
    "\n",
    "# Kopie für Statevector-Simulation (ohne Messung)\n",
    "entanglement_sv_circuit_copy = entanglement_sv_circuit.copy(name=\"EntanglementSVCalc\")\n",
    "\n",
    "entanglement_sv_circuit_copy.remove_final_measurements(inplace=True)\n",
    "if entanglement_sv_circuit_copy.cregs:\n",
    "    entanglement_sv_circuit_copy.cregs = []\n",
    "entanglement_sv_circuit_copy.save_statevector()\n",
    "\n",
    "# Simulation ausführen\n",
    "transpiled_entanglement_sv = transpile(entanglement_sv_circuit_copy, sv_sim) # (Simulation mit der Kopie)\n",
    "job_sv = sv_sim.run(transpiled_entanglement_sv)\n",
    "result_sv = job_sv.result()\n",
    "output_statevector = Statevector(result_sv.data(0)['statevector'])\n",
    "\n",
    "print(\"\\nResultierender Zustandsvektor |Φ+>:\")\n",
    "display(array_to_latex(output_statevector.data, prefix=\"|\\\\Phi^+\\\\rangle = \"))\n",
    "print(f\"Textdarstellung (q1, q0): {output_statevector.draw('text')}\")\n",
    "\n",
    "# Theoretische Wahrscheinlichkeiten\n",
    "expected_probabilities = output_statevector.probabilities_dict()\n",
    "print(\"\\nErwartete Messwahrscheinlichkeiten:\")\n",
    "print(expected_probabilities)"
   ]
  },
  {
   "cell_type": "code",
   "execution_count": 24,
   "id": "257dce30",
   "metadata": {},
   "outputs": [
    {
     "data": {
      "text/html": [
       "<pre style=\"white-space:pre;overflow-x:auto;line-height:normal;font-family:Menlo,'DejaVu Sans Mono',consolas,'Courier New',monospace\">\n",
       "--- <span style=\"color: #008080; text-decoration-color: #008080; font-weight: bold\">2.3</span> Simulation von Messungen ---\n",
       "</pre>\n"
      ],
      "text/plain": [
       "\n",
       "--- \u001b[1;36m2.3\u001b[0m Simulation von Messungen ---\n"
      ]
     },
     "metadata": {},
     "output_type": "display_data"
    },
    {
     "data": {
      "text/html": [
       "<pre style=\"white-space:pre;overflow-x:auto;line-height:normal;font-family:Menlo,'DejaVu Sans Mono',consolas,'Courier New',monospace\">\n",
       "Schaltkreis für die Messung:\n",
       "</pre>\n"
      ],
      "text/plain": [
       "\n",
       "Schaltkreis für die Messung:\n"
      ]
     },
     "metadata": {},
     "output_type": "display_data"
    },
    {
     "data": {
      "text/html": [
       "<pre style=\"white-space:pre;overflow-x:auto;line-height:normal;font-family:Menlo,'DejaVu Sans Mono',consolas,'Courier New',monospace\">        ┌───┐      ░ ┌─┐   \n",
       "   q_0: ┤ H ├──■───░─┤M├───\n",
       "        └───┘┌─┴─┐ ░ └╥┘┌─┐\n",
       "   q_1: ─────┤ X ├─░──╫─┤M├\n",
       "             └───┘ ░  ║ └╥┘\n",
       "   c: <span style=\"color: #008080; text-decoration-color: #008080; font-weight: bold\">2</span>/══════════════╬══╬═\n",
       "                      ║  ║ \n",
       "meas: <span style=\"color: #008080; text-decoration-color: #008080; font-weight: bold\">2</span>/══════════════╩══╩═\n",
       "                      <span style=\"color: #008080; text-decoration-color: #008080; font-weight: bold\">0</span>  <span style=\"color: #008080; text-decoration-color: #008080; font-weight: bold\">1</span> \n",
       "</pre>\n"
      ],
      "text/plain": [
       "        ┌───┐      ░ ┌─┐   \n",
       "   q_0: ┤ H ├──■───░─┤M├───\n",
       "        └───┘┌─┴─┐ ░ └╥┘┌─┐\n",
       "   q_1: ─────┤ X ├─░──╫─┤M├\n",
       "             └───┘ ░  ║ └╥┘\n",
       "   c: \u001b[1;36m2\u001b[0m/══════════════╬══╬═\n",
       "                      ║  ║ \n",
       "meas: \u001b[1;36m2\u001b[0m/══════════════╩══╩═\n",
       "                      \u001b[1;36m0\u001b[0m  \u001b[1;36m1\u001b[0m \n"
      ]
     },
     "metadata": {},
     "output_type": "display_data"
    },
    {
     "data": {
      "text/html": [
       "<pre style=\"white-space:pre;overflow-x:auto;line-height:normal;font-family:Menlo,'DejaVu Sans Mono',consolas,'Courier New',monospace\">\n",
       "Durchführung der Messsimulationen:\n",
       "</pre>\n"
      ],
      "text/plain": [
       "\n",
       "Durchführung der Messsimulationen:\n"
      ]
     },
     "metadata": {},
     "output_type": "display_data"
    },
    {
     "data": {
      "text/html": [
       "<pre style=\"white-space:pre;overflow-x:auto;line-height:normal;font-family:Menlo,'DejaVu Sans Mono',consolas,'Courier New',monospace\">\n",
       "Messresultate für <span style=\"color: #008080; text-decoration-color: #008080; font-weight: bold\">50</span> Wiederholungen:\n",
       "</pre>\n"
      ],
      "text/plain": [
       "\n",
       "Messresultate für \u001b[1;36m50\u001b[0m Wiederholungen:\n"
      ]
     },
     "metadata": {},
     "output_type": "display_data"
    },
    {
     "data": {
      "text/html": [
       "<pre style=\"white-space:pre;overflow-x:auto;line-height:normal;font-family:Menlo,'DejaVu Sans Mono',consolas,'Courier New',monospace\"><span style=\"font-weight: bold\">{</span><span style=\"color: #008000; text-decoration-color: #008000\">'11 00'</span>: <span style=\"color: #008080; text-decoration-color: #008080; font-weight: bold\">25</span>, <span style=\"color: #008000; text-decoration-color: #008000\">'00 00'</span>: <span style=\"color: #008080; text-decoration-color: #008080; font-weight: bold\">25</span><span style=\"font-weight: bold\">}</span>\n",
       "</pre>\n"
      ],
      "text/plain": [
       "\u001b[1m{\u001b[0m\u001b[32m'11 00'\u001b[0m: \u001b[1;36m25\u001b[0m, \u001b[32m'00 00'\u001b[0m: \u001b[1;36m25\u001b[0m\u001b[1m}\u001b[0m\n"
      ]
     },
     "metadata": {},
     "output_type": "display_data"
    },
    {
     "data": {
      "text/html": [
       "<pre style=\"white-space:pre;overflow-x:auto;line-height:normal;font-family:Menlo,'DejaVu Sans Mono',consolas,'Courier New',monospace\">Beobachtete Häufigkeiten: <span style=\"font-weight: bold\">{</span><span style=\"color: #008000; text-decoration-color: #008000\">'00'</span>: <span style=\"color: #008080; text-decoration-color: #008080; font-weight: bold\">0.0000</span>, <span style=\"color: #008000; text-decoration-color: #008000\">'11'</span>: <span style=\"color: #008080; text-decoration-color: #008080; font-weight: bold\">0.0000</span><span style=\"font-weight: bold\">}</span>\n",
       "</pre>\n"
      ],
      "text/plain": [
       "Beobachtete Häufigkeiten: \u001b[1m{\u001b[0m\u001b[32m'00'\u001b[0m: \u001b[1;36m0.0000\u001b[0m, \u001b[32m'11'\u001b[0m: \u001b[1;36m0.0000\u001b[0m\u001b[1m}\u001b[0m\n"
      ]
     },
     "metadata": {},
     "output_type": "display_data"
    },
    {
     "data": {
      "text/html": [
       "<pre style=\"white-space:pre;overflow-x:auto;line-height:normal;font-family:Menlo,'DejaVu Sans Mono',consolas,'Courier New',monospace\">\n",
       "Messresultate für <span style=\"color: #008080; text-decoration-color: #008080; font-weight: bold\">100</span> Wiederholungen:\n",
       "</pre>\n"
      ],
      "text/plain": [
       "\n",
       "Messresultate für \u001b[1;36m100\u001b[0m Wiederholungen:\n"
      ]
     },
     "metadata": {},
     "output_type": "display_data"
    },
    {
     "data": {
      "text/html": [
       "<pre style=\"white-space:pre;overflow-x:auto;line-height:normal;font-family:Menlo,'DejaVu Sans Mono',consolas,'Courier New',monospace\"><span style=\"font-weight: bold\">{</span><span style=\"color: #008000; text-decoration-color: #008000\">'11 00'</span>: <span style=\"color: #008080; text-decoration-color: #008080; font-weight: bold\">53</span>, <span style=\"color: #008000; text-decoration-color: #008000\">'00 00'</span>: <span style=\"color: #008080; text-decoration-color: #008080; font-weight: bold\">47</span><span style=\"font-weight: bold\">}</span>\n",
       "</pre>\n"
      ],
      "text/plain": [
       "\u001b[1m{\u001b[0m\u001b[32m'11 00'\u001b[0m: \u001b[1;36m53\u001b[0m, \u001b[32m'00 00'\u001b[0m: \u001b[1;36m47\u001b[0m\u001b[1m}\u001b[0m\n"
      ]
     },
     "metadata": {},
     "output_type": "display_data"
    },
    {
     "data": {
      "text/html": [
       "<pre style=\"white-space:pre;overflow-x:auto;line-height:normal;font-family:Menlo,'DejaVu Sans Mono',consolas,'Courier New',monospace\">Beobachtete Häufigkeiten: <span style=\"font-weight: bold\">{</span><span style=\"color: #008000; text-decoration-color: #008000\">'00'</span>: <span style=\"color: #008080; text-decoration-color: #008080; font-weight: bold\">0.0000</span>, <span style=\"color: #008000; text-decoration-color: #008000\">'11'</span>: <span style=\"color: #008080; text-decoration-color: #008080; font-weight: bold\">0.0000</span><span style=\"font-weight: bold\">}</span>\n",
       "</pre>\n"
      ],
      "text/plain": [
       "Beobachtete Häufigkeiten: \u001b[1m{\u001b[0m\u001b[32m'00'\u001b[0m: \u001b[1;36m0.0000\u001b[0m, \u001b[32m'11'\u001b[0m: \u001b[1;36m0.0000\u001b[0m\u001b[1m}\u001b[0m\n"
      ]
     },
     "metadata": {},
     "output_type": "display_data"
    },
    {
     "data": {
      "text/html": [
       "<pre style=\"white-space:pre;overflow-x:auto;line-height:normal;font-family:Menlo,'DejaVu Sans Mono',consolas,'Courier New',monospace\">\n",
       "Messresultate für <span style=\"color: #008080; text-decoration-color: #008080; font-weight: bold\">200</span> Wiederholungen:\n",
       "</pre>\n"
      ],
      "text/plain": [
       "\n",
       "Messresultate für \u001b[1;36m200\u001b[0m Wiederholungen:\n"
      ]
     },
     "metadata": {},
     "output_type": "display_data"
    },
    {
     "data": {
      "text/html": [
       "<pre style=\"white-space:pre;overflow-x:auto;line-height:normal;font-family:Menlo,'DejaVu Sans Mono',consolas,'Courier New',monospace\"><span style=\"font-weight: bold\">{</span><span style=\"color: #008000; text-decoration-color: #008000\">'11 00'</span>: <span style=\"color: #008080; text-decoration-color: #008080; font-weight: bold\">94</span>, <span style=\"color: #008000; text-decoration-color: #008000\">'00 00'</span>: <span style=\"color: #008080; text-decoration-color: #008080; font-weight: bold\">106</span><span style=\"font-weight: bold\">}</span>\n",
       "</pre>\n"
      ],
      "text/plain": [
       "\u001b[1m{\u001b[0m\u001b[32m'11 00'\u001b[0m: \u001b[1;36m94\u001b[0m, \u001b[32m'00 00'\u001b[0m: \u001b[1;36m106\u001b[0m\u001b[1m}\u001b[0m\n"
      ]
     },
     "metadata": {},
     "output_type": "display_data"
    },
    {
     "data": {
      "text/html": [
       "<pre style=\"white-space:pre;overflow-x:auto;line-height:normal;font-family:Menlo,'DejaVu Sans Mono',consolas,'Courier New',monospace\">Beobachtete Häufigkeiten: <span style=\"font-weight: bold\">{</span><span style=\"color: #008000; text-decoration-color: #008000\">'00'</span>: <span style=\"color: #008080; text-decoration-color: #008080; font-weight: bold\">0.0000</span>, <span style=\"color: #008000; text-decoration-color: #008000\">'11'</span>: <span style=\"color: #008080; text-decoration-color: #008080; font-weight: bold\">0.0000</span><span style=\"font-weight: bold\">}</span>\n",
       "</pre>\n"
      ],
      "text/plain": [
       "Beobachtete Häufigkeiten: \u001b[1m{\u001b[0m\u001b[32m'00'\u001b[0m: \u001b[1;36m0.0000\u001b[0m, \u001b[32m'11'\u001b[0m: \u001b[1;36m0.0000\u001b[0m\u001b[1m}\u001b[0m\n"
      ]
     },
     "metadata": {},
     "output_type": "display_data"
    },
    {
     "data": {
      "text/html": [
       "<pre style=\"white-space:pre;overflow-x:auto;line-height:normal;font-family:Menlo,'DejaVu Sans Mono',consolas,'Courier New',monospace\">\n",
       "Messresultate für <span style=\"color: #008080; text-decoration-color: #008080; font-weight: bold\">500</span> Wiederholungen:\n",
       "</pre>\n"
      ],
      "text/plain": [
       "\n",
       "Messresultate für \u001b[1;36m500\u001b[0m Wiederholungen:\n"
      ]
     },
     "metadata": {},
     "output_type": "display_data"
    },
    {
     "data": {
      "text/html": [
       "<pre style=\"white-space:pre;overflow-x:auto;line-height:normal;font-family:Menlo,'DejaVu Sans Mono',consolas,'Courier New',monospace\"><span style=\"font-weight: bold\">{</span><span style=\"color: #008000; text-decoration-color: #008000\">'11 00'</span>: <span style=\"color: #008080; text-decoration-color: #008080; font-weight: bold\">263</span>, <span style=\"color: #008000; text-decoration-color: #008000\">'00 00'</span>: <span style=\"color: #008080; text-decoration-color: #008080; font-weight: bold\">237</span><span style=\"font-weight: bold\">}</span>\n",
       "</pre>\n"
      ],
      "text/plain": [
       "\u001b[1m{\u001b[0m\u001b[32m'11 00'\u001b[0m: \u001b[1;36m263\u001b[0m, \u001b[32m'00 00'\u001b[0m: \u001b[1;36m237\u001b[0m\u001b[1m}\u001b[0m\n"
      ]
     },
     "metadata": {},
     "output_type": "display_data"
    },
    {
     "data": {
      "text/html": [
       "<pre style=\"white-space:pre;overflow-x:auto;line-height:normal;font-family:Menlo,'DejaVu Sans Mono',consolas,'Courier New',monospace\">Beobachtete Häufigkeiten: <span style=\"font-weight: bold\">{</span><span style=\"color: #008000; text-decoration-color: #008000\">'00'</span>: <span style=\"color: #008080; text-decoration-color: #008080; font-weight: bold\">0.0000</span>, <span style=\"color: #008000; text-decoration-color: #008000\">'11'</span>: <span style=\"color: #008080; text-decoration-color: #008080; font-weight: bold\">0.0000</span><span style=\"font-weight: bold\">}</span>\n",
       "</pre>\n"
      ],
      "text/plain": [
       "Beobachtete Häufigkeiten: \u001b[1m{\u001b[0m\u001b[32m'00'\u001b[0m: \u001b[1;36m0.0000\u001b[0m, \u001b[32m'11'\u001b[0m: \u001b[1;36m0.0000\u001b[0m\u001b[1m}\u001b[0m\n"
      ]
     },
     "metadata": {},
     "output_type": "display_data"
    },
    {
     "data": {
      "text/html": [
       "<pre style=\"white-space:pre;overflow-x:auto;line-height:normal;font-family:Menlo,'DejaVu Sans Mono',consolas,'Courier New',monospace\">\n",
       "Messresultate für <span style=\"color: #008080; text-decoration-color: #008080; font-weight: bold\">1000</span> Wiederholungen:\n",
       "</pre>\n"
      ],
      "text/plain": [
       "\n",
       "Messresultate für \u001b[1;36m1000\u001b[0m Wiederholungen:\n"
      ]
     },
     "metadata": {},
     "output_type": "display_data"
    },
    {
     "data": {
      "text/html": [
       "<pre style=\"white-space:pre;overflow-x:auto;line-height:normal;font-family:Menlo,'DejaVu Sans Mono',consolas,'Courier New',monospace\"><span style=\"font-weight: bold\">{</span><span style=\"color: #008000; text-decoration-color: #008000\">'11 00'</span>: <span style=\"color: #008080; text-decoration-color: #008080; font-weight: bold\">505</span>, <span style=\"color: #008000; text-decoration-color: #008000\">'00 00'</span>: <span style=\"color: #008080; text-decoration-color: #008080; font-weight: bold\">495</span><span style=\"font-weight: bold\">}</span>\n",
       "</pre>\n"
      ],
      "text/plain": [
       "\u001b[1m{\u001b[0m\u001b[32m'11 00'\u001b[0m: \u001b[1;36m505\u001b[0m, \u001b[32m'00 00'\u001b[0m: \u001b[1;36m495\u001b[0m\u001b[1m}\u001b[0m\n"
      ]
     },
     "metadata": {},
     "output_type": "display_data"
    },
    {
     "data": {
      "text/html": [
       "<pre style=\"white-space:pre;overflow-x:auto;line-height:normal;font-family:Menlo,'DejaVu Sans Mono',consolas,'Courier New',monospace\">Beobachtete Häufigkeiten: <span style=\"font-weight: bold\">{</span><span style=\"color: #008000; text-decoration-color: #008000\">'00'</span>: <span style=\"color: #008080; text-decoration-color: #008080; font-weight: bold\">0.0000</span>, <span style=\"color: #008000; text-decoration-color: #008000\">'11'</span>: <span style=\"color: #008080; text-decoration-color: #008080; font-weight: bold\">0.0000</span><span style=\"font-weight: bold\">}</span>\n",
       "</pre>\n"
      ],
      "text/plain": [
       "Beobachtete Häufigkeiten: \u001b[1m{\u001b[0m\u001b[32m'00'\u001b[0m: \u001b[1;36m0.0000\u001b[0m, \u001b[32m'11'\u001b[0m: \u001b[1;36m0.0000\u001b[0m\u001b[1m}\u001b[0m\n"
      ]
     },
     "metadata": {},
     "output_type": "display_data"
    },
    {
     "data": {
      "text/html": [
       "<pre style=\"white-space:pre;overflow-x:auto;line-height:normal;font-family:Menlo,'DejaVu Sans Mono',consolas,'Courier New',monospace\">\n",
       "Kreisdiagramm für <span style=\"color: #008080; text-decoration-color: #008080; font-weight: bold\">1000</span> Wiederholungen:\n",
       "</pre>\n"
      ],
      "text/plain": [
       "\n",
       "Kreisdiagramm für \u001b[1;36m1000\u001b[0m Wiederholungen:\n"
      ]
     },
     "metadata": {},
     "output_type": "display_data"
    },
    {
     "data": {
      "image/png": "[encoded data removed]",
      "text/plain": [
       "<Figure size 640x480 with 1 Axes>"
      ]
     },
     "metadata": {},
     "output_type": "display_data"
    }
   ],
   "source": [
    "# 2.3 Messsimulationen\n",
    "\n",
    "print(\"\\n--- 2.3 Simulation von Messungen ---\")\n",
    "# Kopie für Messungen\n",
    "entanglement_measure_circuit = entanglement_sv_circuit.copy(name=\"EntanglementMeasure\")\n",
    "# Messungen hinzufügen (falls noch nicht vorhanden)\n",
    "if len(entanglement_measure_circuit.clbits) < entanglement_measure_circuit.num_qubits:\n",
    "     cr_m = ClassicalRegister(entanglement_measure_circuit.num_qubits, 'meas')\n",
    "     entanglement_measure_circuit.add_register(cr_m)\n",
    "if not any(instr.operation.name == 'measure' for instr in entanglement_measure_circuit.data):\n",
    "     entanglement_measure_circuit.measure_all(inplace=True)\n",
    "\n",
    "print(\"\\nSchaltkreis für die Messung:\")\n",
    "#display(entanglement_measure_circuit)\n",
    "print(entanglement_measure_circuit.draw(output='text'))\n",
    "\n",
    "# Verschiedene Anzahlen von Wiederholungen (Shots)\n",
    "shots_array = [50, 100, 200, 500, 1000]\n",
    "counts_by_shots = {}\n",
    "\n",
    "print(\"\\nDurchführung der Messsimulationen:\")\n",
    "for shots_num in shots_array:\n",
    "    transpiled_entanglement_measure = transpile(entanglement_measure_circuit, qasm_sim)\n",
    "    job_meas = qasm_sim.run(transpiled_entanglement_measure, shots=shots_num)\n",
    "    result_meas = job_meas.result()\n",
    "    counts = result_meas.get_counts()\n",
    "    counts_by_shots[shots_num] = counts\n",
    "    print(f\"\\nMessresultate für {shots_num} Wiederholungen:\")\n",
    "    print(counts)\n",
    "    # Berechne beobachtete Häufigkeiten\n",
    "    total_meas = sum(counts.values())\n",
    "    observed_freq = {state: count/total_meas for state, count in counts.items()}\n",
    "    print(f\"Beobachtete Häufigkeiten: {{'00': {observed_freq.get('00', 0.0):.4f}, '11': {observed_freq.get('11', 0.0):.4f}}}\")\n",
    "\n",
    "\n",
    "print(f\"\\nKreisdiagramm für {shots_array[-1]} Wiederholungen:\")\n",
    "counts_final_run = counts_by_shots.get(shots_array[-1], {}) # .get() für Sicherheit\n",
    "\n",
    "if counts_final_run:\n",
    "    # Daten für das Kreisdiagramm vorbereiten\n",
    "    labels = list(counts_final_run.keys())\n",
    "    sizes = list(counts_final_run.values())\n",
    "    total_shots = sum(sizes)\n",
    "\n",
    "    # Erstellung des Kreisdiagramms\n",
    "    fig_pie, ax_pie = plt.subplots()\n",
    "    ax_pie.pie(sizes, labels=labels, autopct=lambda p: f'{p:.1f}%\\n({int(p * total_shots / 100)})', startangle=90)\n",
    "    ax_pie.axis('equal')  # Stellt sicher, dass der Kreis rund ist\n",
    "\n",
    "    plt.title(f\"Bell-Zustand Messverteilung ({shots_array[-1]} Shots)\")\n",
    "    plt.show()\n",
    "    # display(fig_pie) # Für Jupyter Notebooks\n",
    "else:\n",
    "    print(\"Keine Daten zum Plotten für die finale Wiederholungszahl vorhanden.\")\n",
    "\n"
   ]
  },
  {
   "cell_type": "markdown",
   "id": "d1782404",
   "metadata": {},
   "source": [
    "**Zusammenfassung Aufgabe 2:**\n",
    "Die Simulation des Zustandsvektors bestätigt den korrekten Endzustand sowie die erwarteten 50/50-Messwahrscheinlichkeiten für die Basiszustände ∣00⟩ und ∣11⟩. Wiederholte Messsimulationen mit steigender Anzahl von \"Shots\" zeigten die Konvergenz der Messergebnisse gegen die theoretischen Wahrscheinlichkeiten und verdeutlichten somit die probabilistische Natur der Quantenmessung.\n"
   ]
  },
  {
   "cell_type": "markdown",
   "id": "a120dc2c",
   "metadata": {},
   "source": [
    "## Aufgabe 3. Algorithmus von Deutsch\n",
    "\n",
    "\n"
   ]
  },
  {
   "cell_type": "code",
   "execution_count": null,
   "id": "a78098dc",
   "metadata": {},
   "outputs": [
    {
     "name": "stdout",
     "output_type": "stream",
     "text": [
      "\n",
      "--- 3.3 Testen der vier Fälle ---\n",
      "\n",
      "--- Test für: Konstant f(0)=0, f(1)=0 ---\n",
      "Schaltkreis:\n",
      "     ┌───┐      Uf (const 0) ┌───┐┌─┐\n",
      "q_0: ┤ H ├───────────░───────┤ H ├┤M├\n",
      "     ├───┤┌───┐      ░       └───┘└╥┘\n",
      "q_1: ┤ X ├┤ H ├──────░─────────────╫─\n",
      "     └───┘└───┘      ░             ║ \n",
      "c: 1/══════════════════════════════╩═\n",
      "                                   0 \n",
      "Simulationsergebnis (1024 shots): {'0': 1024}\n",
      "Ergebnis: '0' -> Funktion ist Konstant\n",
      "\n",
      "--- Test für: Konstant f(0)=1, f(1)=1 ---\n",
      "Schaltkreis:\n",
      "     ┌───┐           Uf (const 1) ┌───┐┌─┐\n",
      "q_0: ┤ H ├────────────────░───────┤ H ├┤M├\n",
      "     ├───┤┌───┐┌───┐      ░       └───┘└╥┘\n",
      "q_1: ┤ X ├┤ H ├┤ X ├──────░─────────────╫─\n",
      "     └───┘└───┘└───┘      ░             ║ \n",
      "c: 1/═══════════════════════════════════╩═\n",
      "                                        0 \n",
      "Simulationsergebnis (1024 shots): {'0': 1024}\n",
      "Ergebnis: '0' -> Funktion ist Konstant\n",
      "\n",
      "--- Test für: Balanciert f(0)=0, f(1)=1 ---\n",
      "Schaltkreis:\n",
      "     ┌───┐           Uf (bal 0->0, 1->1) ┌───┐┌─┐\n",
      "q_0: ┤ H ├───────■────────────░──────────┤ H ├┤M├\n",
      "     ├───┤┌───┐┌─┴─┐          ░          └───┘└╥┘\n",
      "q_1: ┤ X ├┤ H ├┤ X ├──────────░────────────────╫─\n",
      "     └───┘└───┘└───┘          ░                ║ \n",
      "c: 1/══════════════════════════════════════════╩═\n",
      "                                               0 \n",
      "Simulationsergebnis (1024 shots): {'1': 1024}\n",
      "Ergebnis: '1' -> Funktion ist Balanciert\n",
      "\n",
      "--- Test für: Balanciert f(0)=1, f(1)=0 ---\n",
      "Schaltkreis:\n",
      "     ┌───┐                     Uf (bal 0->1, 1->0) ┌───┐┌─┐\n",
      "q_0: ┤ H ├────────────■─────────────────░──────────┤ H ├┤M├\n",
      "     ├───┤┌───┐┌───┐┌─┴─┐┌───┐          ░          └───┘└╥┘\n",
      "q_1: ┤ X ├┤ H ├┤ X ├┤ X ├┤ X ├──────────░────────────────╫─\n",
      "     └───┘└───┘└───┘└───┘└───┘          ░                ║ \n",
      "c: 1/════════════════════════════════════════════════════╩═\n",
      "                                                         0 \n",
      "Simulationsergebnis (1024 shots): {'1': 1024}\n",
      "Ergebnis: '1' -> Funktion ist Balanciert\n",
      "\n",
      "==============================\n",
      "Alle Tests abgeschlossen.\n",
      "==============================\n"
     ]
    }
   ],
   "source": [
    "\n",
    "\n",
    "# 3.1 Funktion für Deutsch-Schaltkreis\n",
    "def deutsch_algorithm_circuit(oracle_operation):\n",
    "    \"\"\"Konstruiert den Quantenschaltkreis für den Deutsch-Algorithmus.\"\"\"\n",
    "    # 2 Qubits (input, output/ancilla), 1 klassisches Bit\n",
    "    deutsch_qc = QuantumCircuit(2, 1, name=\"DeutschCircuit\")\n",
    "\n",
    "    deutsch_qc.x(1)\n",
    "    deutsch_qc.h(range(2))\n",
    "    oracle_operation(deutsch_qc)\n",
    "    deutsch_qc.h(0)\n",
    "\n",
    "\n",
    "    # Messung des Input-Qubits (q0)\n",
    "    deutsch_qc.measure(0, 0)\n",
    "\n",
    "    return deutsch_qc\n",
    "\n",
    "# 3.2 Orakel Implementierungen (Uf)\n",
    "\n",
    "# Fall (a): f(0)=0, f(1)=0 (Konstant 0)\n",
    "def oracle_f0_const0(qc):\n",
    "    qc.barrier(label=\"Uf (const 0)\")\n",
    "\n",
    "# Fall (b): f(0)=1, f(1)=1 (Konstant 1)\n",
    "def oracle_f1_const1(qc):\n",
    "    qc.x(1)\n",
    "    qc.barrier(label=\"Uf (const 1)\")\n",
    "# Fall (c): f(0)=0, f(1)=1 (Balanciert)\n",
    "def oracle_f2_balanced01(qc):\n",
    "    qc.cx(0, 1) # CNOT: q0 = Kontrolle, q1 = Ziel\n",
    "    qc.barrier(label=\"Uf (bal 0->0, 1->1)\")\n",
    "\n",
    "# Fall (d): f(0)=1, f(1)=0 (Balanciert)\n",
    "def oracle_f3_balanced10(qc):\n",
    "    qc.x(1) # X auf Ziel\n",
    "    qc.cx(0, 1) # CNOT\n",
    "    qc.x(1) # X auf Ziel\n",
    "    qc.barrier(label=\"Uf (bal 0->1, 1->0)\")\n",
    "\n",
    "# --- 3.3 Testen der vier Fälle mit Qiskit ---\n",
    "print(\"\\n--- 3.3 Testen der vier Fälle ---\")\n",
    "\n",
    "# Liste der Orakel-Funktionen\n",
    "oracles = [\n",
    "    (oracle_f0_const0, \"Konstant f(0)=0, f(1)=0\"),\n",
    "    (oracle_f1_const1, \"Konstant f(0)=1, f(1)=1\"),\n",
    "    (oracle_f2_balanced01, \"Balanciert f(0)=0, f(1)=1\"),\n",
    "    (oracle_f3_balanced10, \"Balanciert f(0)=1, f(1)=0\"),\n",
    "]\n",
    "\n",
    "# Simulator initialisieren\n",
    "simulator = AerSimulator()\n",
    "shots = 1024\n",
    "\n",
    "# Durch alle Orakel iterieren und testen\n",
    "for oracle_func, description in oracles:\n",
    "    print(f\"\\n--- Test für: {description} ---\")\n",
    "\n",
    "    # Schaltkreis erstellen\n",
    "    qc = deutsch_algorithm_circuit(oracle_func)\n",
    "\n",
    "    # Schaltkreis zeichnen (Textausgabe)\n",
    "    print(\"Schaltkreis:\")\n",
    "    print(qc.draw(output='text'))\n",
    "\n",
    "    # Simulation durchführen\n",
    "    compiled_circuit = transpile(qc, simulator)\n",
    "\n",
    "    job = simulator.run(compiled_circuit, shots=shots)\n",
    "    result = job.result()\n",
    "    counts = result.get_counts(qc)\n",
    "\n",
    "    # Ergebnisse ausgeben und interpretieren\n",
    "    print(f\"Simulationsergebnis ({shots} shots): {counts}\")\n",
    "\n",
    "    # Ergebnis prüfen\n",
    "    measured_value = list(counts.keys())[0] # Es sollte nur ein Ergebnis geben ('0' oder '1')\n",
    "    if measured_value == '0':\n",
    "        print(\"Ergebnis: '0' -> Funktion ist Konstant\")\n",
    "        if \"Konstant\" not in description:\n",
    "             print(\"----> Unerwartetes Ergebnis für balancierte Funktion!\")\n",
    "    elif measured_value == '1':\n",
    "        print(\"Ergebnis: '1' -> Funktion ist Balanciert\")\n",
    "        if \"Balanciert\" not in description:\n",
    "             print(\"----> Unerwartetes Ergebnis für konstante Funktion!\")\n",
    "    else:\n",
    "        print(f\"Unerwartetes Messergebnis: {measured_value}\")\n",
    "\n",
    "print(\"\\n\" + \"=\"*30)\n",
    "print(\"Alle Tests abgeschlossen.\")\n",
    "print(\"=\"*30)"
   ]
  },
  {
   "cell_type": "markdown",
   "id": "0167425a",
   "metadata": {},
   "source": [
    "**Zusammenfassung Aufgabe 3:**\n",
    " Die Funktion \"deutsch_algorithm_circuit\" wurde definiert, die den grundlegenden Quantenschaltkreis für den Deutsch-Algorithmus aufbaut. Dieser Schaltkreis nimmt eine Orakel-Funktion als variable Komponente entgegen, der zwei Qubits (Eingabe und Hilfs-Qubit/Ancilla) initialisiert.\n",
    " Dieser wird durch H-Gatter in Superposition versetzt, wendet das spezifische Orakel, ein weiteres H-Gatter auf das Eingabe-Qubit an, und misst dieses dann.\n",
    " Die Textdiagramme zeigen, dass für jeden der vier Fälle der korrekte Deutsch-Algorithmus-Schaltkreis mit dem jeweils passenden Orakel aufgebaut wurde.\n",
    "* $f(0)=0, f(1)=0$\n",
    "* $f(0)=1, f(1)=1$\n",
    "* $f(x)=x \\implies f(0)=0, f(1)=1$ (Balanciert)\n",
    "* $f(x)=\\neg x \\implies f(0)=1, f(1)=0$ (Balanciert)\n",
    "\n",
    "**-> Simulation zeigt ewrfolgreich, wie der Algorithmus konstante von balancierte Funktionen mit nur einer einzigen Auswertung der Funktion unterscheiden kann.**"
   ]
  },
  {
   "cell_type": "markdown",
   "id": "f7dd729f",
   "metadata": {},
   "source": [
    "## 5. Zusatzaufgabe: Grover Suchalgorithmus für n=3 Qubits\n",
    "\n",
    "**Problemstellung:**\n",
    "Implementieren Sie den Grover-Suchalgorithmus für $n=3$ Qubits, um den spezifischen Zustand $|111\\rangle$ zu finden.\n",
    "1.  **Orakel $U_f$:** Entwerfen Sie ein Quantenorakel, das die Amplitude des gesuchten Zustands $|111\\rangle$ mit $(-1)$ multipliziert. Der Hinweis lautet, das CCZ-Gate (Controlled-Controlled-Z) zu verwenden.\n",
    "2.  **Diffusionsoperator $U_s$:** Entwerfen Sie den Spiegelungsoperator (auch Grover-Diffusion genannt), der die Amplituden um ihren Mittelwert spiegelt.\n",
    "3.  **Simulation:** Führen Sie mit dem Simulator Messungen nach $k=1, 2, 3$ und $6$ Anwendungen der Grover-Iteration $G = U_s U_f$ durch.\n",
    "4.  **Diskussion:** Diskutieren Sie die Resultate der Simulationen.\n",
    "\n",
    "### 5.1 Theoretischer Hintergrund (Kurz)\n",
    "\n",
    "Der Grover-Algorithmus ist ein Quantenalgorithmus zur Suche in einer unsortierten Datenbank mit $N$ Einträgen. Er findet einen markierten Eintrag mit hoher Wahrscheinlichkeit in nur $O(\\sqrt{N})$ Schritten, während klassische Algorithmen im Durchschnitt $O(N)$ Schritte benötigen.\n",
    "\n",
    "**Hauptschritte:**\n",
    "1.  **Initialisierung:** Erzeugung einer gleichmäßigen Superposition aller $N=2^n$ Zustände mittels Hadamard-Gattern: $|\\psi_0\\rangle = H^{\\otimes n}|0\\rangle^{\\otimes n} = \\frac{1}{\\sqrt{N}} \\sum_{x=0}^{N-1} |x\\rangle$.\n",
    "2.  **Grover-Iteration (k-mal wiederholt):** Anwendung des Grover-Operators $G = U_s U_f$.\n",
    "    * **Orakel $U_f$:** Markiert den/die gesuchten Zustand/Zustände $|w\\rangle$ durch eine Phasenverschiebung von $-1$: $U_f|x\\rangle = (-1)^{f(x)}|x\\rangle$, wobei $f(x)=1$ wenn $x=w$ und $f(x)=0$ sonst.\n",
    "    * **Diffusion $U_s$:** Verstärkt die Amplitude des markierten Zustands. $U_s = H^{\\otimes n} (2|0\\rangle^{\\otimes n}\\langle 0|^{\\otimes n} - I) H^{\\otimes n}$. Geometrisch ist dies eine Spiegelung am Anfangszustand $|\\psi_0\\rangle$.\n",
    "3.  **Messung:** Messung des Endzustands. Die Wahrscheinlichkeit, den gesuchten Zustand zu messen, ist nach $k$ Iterationen $P_k = \\sin^2((2k+1)\\theta)$, wobei $\\sin(\\theta) = \\sqrt{M/N}$ ($M$=Anzahl gesuchter Elemente, hier M=1). Die optimale Anzahl Iterationen ist $R \\approx \\frac{\\pi}{4}\\sqrt{N/M}$.\n",
    "\n",
    "### 5.2 Implementierung des Orakels $U_f$ für $|111\\rangle$\n",
    "\n",
    "Für $n=3$ ist der gesuchte Zustand $|w\\rangle = |111\\rangle$. Das Orakel muss also nur die Phase dieses einen Zustands ändern. Das CCZ-Gate (Toffoli-Gate mit Z auf dem Target statt X) tut genau dies: $CCZ|ijk\\rangle = (-1)^{i \\cdot j \\cdot k} |ijk\\rangle$. Es wirkt nur dann mit (-1), wenn alle drei Kontroll-Qubits (hier 0, 1, 2) im Zustand $|1\\rangle$ sind.\n"
   ]
  },
  {
   "cell_type": "code",
   "execution_count": 34,
   "id": "78d9b30c",
   "metadata": {},
   "outputs": [
    {
     "name": "stdout",
     "output_type": "stream",
     "text": [
      "--- 5.2 Orakel für Grover (markiert |111>) ---\n",
      "\n",
      "Orakel Uf Circuit:\n",
      "        \n",
      "q_0: ─■─\n",
      "      │ \n",
      "q_1: ─■─\n",
      "      │ \n",
      "q_2: ─■─\n",
      "        \n"
     ]
    }
   ],
   "source": [
    "print(\"--- 5.2 Orakel für Grover (markiert |111>) ---\")\n",
    "\n",
    "def create_oracle(n=3):\n",
    "    \"\"\"Erstellt das Orakel Uf für n=3 Qubits, das |111> markiert.\"\"\"\n",
    "    if n != 3:\n",
    "        raise ValueError(\"Dieses Orakel ist spezifisch für n=3\")\n",
    "    oracle_circuit = QuantumCircuit(n, name=\"Oracle Uf\")\n",
    "    # Das CCZ Gate wendet eine Phase von -1 an, gdw. alle Kontrollqubits |1> sind.\n",
    "    # Qiskit: ccz(control1_index, control2_index, target_index)\n",
    "    # Da es nur um die Phase geht, ist die Wahl des Targets irrelevant,\n",
    "    # solange die Kontrollen 0 und 1 sind (oder jede Kombination der 3 Qubits).\n",
    "    oracle_circuit.ccz(0, 1, 2)\n",
    "    return oracle_circuit\n",
    "\n",
    "# Test des Orakels (optional)\n",
    "test_oracle = create_oracle()\n",
    "print(\"\\nOrakel Uf Circuit:\")\n",
    "print(test_oracle.draw(output='text'))"
   ]
  },
  {
   "cell_type": "markdown",
   "id": "49135777",
   "metadata": {},
   "source": [
    "### 5.3 Implementierung des Diffusionsoperators $U_s$\n",
    "\n",
    "Der Diffusionsoperator $U_s = H^{\\otimes n} (2|0\\rangle^{\\otimes n}\\langle 0|^{\\otimes n} - I) H^{\\otimes n}$ kann effizient implementiert werden, indem man die Operation $(2|0\\rangle^{\\otimes n}\\langle 0|^{\\otimes n} - I)$ im Hadamard-Raum durchführt. Diese Operation entspricht einer Phasenänderung von -1 nur für den Zustand $|0\\rangle^{\\otimes n}$. Die Implementierungsschritte sind:\n",
    "1.  Hadamard auf alle Qubits ($H^{\\otimes n}$).\n",
    "2.  Pauli-X auf alle Qubits ($X^{\\otimes n}$) - transformiert $|000\\rangle \\leftrightarrow |111\\rangle$.\n",
    "3.  Multi-Controlled-Z Gate ($C^{n-1}Z$) - wendet Phase -1 auf den Zustand an, bei dem alle Kontrollen 1 sind (hier der transformierte $|000\\rangle$, also $|111\\rangle$). Für n=3 ist dies das CCZ-Gate.\n",
    "4.  Pauli-X auf alle Qubits ($X^{\\otimes n}$) - Rücktransformation.\n",
    "5.  Hadamard auf alle Qubits ($H^{\\otimes n}$).\n"
   ]
  },
  {
   "cell_type": "code",
   "execution_count": 35,
   "id": "2cd07052",
   "metadata": {},
   "outputs": [
    {
     "name": "stdout",
     "output_type": "stream",
     "text": [
      "\n",
      "--- 5.3 Diffusionsoperator für Grover ---\n",
      "\n",
      "Diffusionsoperator Us Circuit:\n",
      "     ┌───┐┌───┐   ┌───┐┌───┐\n",
      "q_0: ┤ H ├┤ X ├─■─┤ X ├┤ H ├\n",
      "     ├───┤├───┤ │ ├───┤├───┤\n",
      "q_1: ┤ H ├┤ X ├─■─┤ X ├┤ H ├\n",
      "     ├───┤├───┤ │ ├───┤├───┤\n",
      "q_2: ┤ H ├┤ X ├─■─┤ X ├┤ H ├\n",
      "     └───┘└───┘   └───┘└───┘\n"
     ]
    }
   ],
   "source": [
    "print(\"\\n--- 5.3 Diffusionsoperator für Grover ---\")\n",
    "\n",
    "def create_diffusion_operator(n=3):\n",
    "    \"\"\"Erstellt den Diffusionsoperator Us für n Qubits.\"\"\"\n",
    "    diffusion_circuit = QuantumCircuit(n, name=\"Diffusion Us\")\n",
    "\n",
    "    # 1. Hadamard auf alle Qubits\n",
    "    diffusion_circuit.h(range(n))\n",
    "    # 2. Pauli-X auf alle Qubits\n",
    "    diffusion_circuit.x(range(n))\n",
    "    # 3. Multi-Controlled-Z (für n=3 ist das CCZ)\n",
    "    if n < 3:\n",
    "        raise ValueError(\"CCZ gate requires at least 3 qubits for this implementation\")\n",
    "    diffusion_circuit.ccz(0, 1, 2) # Markiert |111> (was |000> in H-Basis war)\n",
    "    # 4. Pauli-X auf alle Qubits\n",
    "    diffusion_circuit.x(range(n))\n",
    "    # 5. Hadamard auf alle Qubits\n",
    "    diffusion_circuit.h(range(n))\n",
    "\n",
    "    return diffusion_circuit\n",
    "\n",
    "# Test des Diffusors (optional)\n",
    "test_diffusor = create_diffusion_operator()\n",
    "print(\"\\nDiffusionsoperator Us Circuit:\")\n",
    "print(test_diffusor.draw(output='text'))"
   ]
  },
  {
   "cell_type": "markdown",
   "id": "50a48b27",
   "metadata": {},
   "source": [
    "### 5.4 Gesamter Grover-Schaltkreis und Simulation\n",
    "\n",
    "Jetzt bauen wir den vollständigen Grover-Schaltkreis zusammen:\n",
    "1.  Initialisierung $H^{\\otimes n}$.\n",
    "2.  Anwendung der Grover-Iteration $G = U_s U_f$ für $k=1, 2, 3, 6$.\n",
    "3.  Messung aller Qubits.\n",
    "\n",
    "Wir verwenden `.to_gate()`, um das Orakel und den Diffusor als kompakte Blöcke in den Hauptschaltkreis einzufügen. Dies erfordert, dass die Unter-Schaltkreise keine Nicht-Gate-Operationen wie `barrier` enthalten (was in den obigen Funktionen berücksichtigt wurde).\n"
   ]
  },
  {
   "cell_type": "code",
   "execution_count": 38,
   "id": "08a0c1c8",
   "metadata": {},
   "outputs": [
    {
     "name": "stdout",
     "output_type": "stream",
     "text": [
      "\n",
      "--- 5.4 Grover Simulation für k=1, 2, 3, 6 ---\n",
      "\n",
      "Starte Grover Simulationen:\n",
      "  Aufbau des Circuits für k=1 Iterationen...\n",
      "  Transpiliere und simuliere für k=1...\n",
      "  Ergebnisse für k=1 Iterationen (Top 5):\n",
      "  {'111': 1623, '001': 75, '011': 66, '101': 63, '100': 59}\n",
      "  Aufbau des Circuits für k=2 Iterationen...\n",
      "  Transpiliere und simuliere für k=2...\n",
      "  Ergebnisse für k=2 Iterationen (Top 5):\n",
      "  {'111': 1953, '001': 20, '010': 16, '100': 14, '011': 13}\n",
      "  Aufbau des Circuits für k=3 Iterationen...\n",
      "  Transpiliere und simuliere für k=3...\n",
      "  Ergebnisse für k=3 Iterationen (Top 5):\n",
      "  {'111': 728, '011': 205, '000': 199, '100': 194, '110': 191}\n",
      "  Aufbau des Circuits für k=6 Iterationen...\n",
      "  Transpiliere und simuliere für k=6...\n",
      "  Ergebnisse für k=6 Iterationen (Top 5):\n",
      "  {'111': 2047, '100': 1}\n"
     ]
    }
   ],
   "source": [
    "print(\"\\n--- 5.4 Grover Simulation für k=1, 2, 3, 6 ---\")\n",
    "\n",
    "n = 3 # Anzahl der Qubits\n",
    "target_state_label = '111' # Gesuchter Zustand (Qiskit-Bitreihenfolge: q2, q1, q0)\n",
    "sim_qasm = AerSimulator()\n",
    "\n",
    "# 1. Grundstruktur: Initialisierung mit H-Gates\n",
    "# Wir benötigen n Qubits und n klassische Bits für die Messung\n",
    "grover_base = QuantumCircuit(n, n, name=\"Grover Base\")\n",
    "grover_base.h(range(n))\n",
    "grover_base.barrier(label=\"Init H\")\n",
    "\n",
    "# Wandle Orakel und Diffusor in Gates um\n",
    "oracle_gate = create_oracle(n).to_gate()\n",
    "diffusion_gate = create_diffusion_operator(n).to_gate()\n",
    "\n",
    "# Liste der Iterationszahlen zum Testen\n",
    "iterations_to_run = [1, 2, 3, 6]\n",
    "results_grover = {} # Dictionary zum Speichern der Messergebnisse\n",
    "\n",
    "print(\"\\nStarte Grover Simulationen:\")\n",
    "for k in iterations_to_run:\n",
    "    # Erstelle eine Kopie der Basisschaltung für jede Iterationszahl\n",
    "    qc_grover = grover_base.copy(name=f\"Grover k={k}\")\n",
    "\n",
    "    # 2. Wende Grover-Iteration G = Us Uf k mal an\n",
    "    print(f\"  Aufbau des Circuits für k={k} Iterationen...\")\n",
    "    for i in range(k):\n",
    "        qc_grover.append(oracle_gate, range(n))    # Uf anwenden\n",
    "        qc_grover.append(diffusion_gate, range(n)) # Us anwenden\n",
    "        # Optional: Barriere zur Lesbarkeit im Hauptcircuit (beeinflusst .to_gate() hier nicht)\n",
    "        if i < k - 1:\n",
    "             qc_grover.barrier(label=f\"Iter {i+1}\")\n",
    "\n",
    "    # Barriere vor der finalen Messung\n",
    "    qc_grover.barrier(label=\"Measure\")\n",
    "    # 3. Messung aller Qubits in die klassischen Bits\n",
    "    qc_grover.measure(range(n), range(n))\n",
    "\n",
    "    # Optional: Schaltkreis zeichnen (kann bei vielen Iterationen groß werden)\n",
    "    # print(f\"\\nSchaltkreis für k={k} Iterationen:\")\n",
    "    # print(qc_grover.draw(output='text', fold=-1))\n",
    "\n",
    "    # Transpilieren und Simulation mit dem QASM Simulator\n",
    "    print(f\"  Transpiliere und simuliere für k={k}...\")\n",
    "    t_qc_grover = transpile(qc_grover, sim_qasm)\n",
    "    job = sim_qasm.run(t_qc_grover, shots=2048) # Mehr Shots für bessere Statistik\n",
    "    result = job.result()\n",
    "    counts = result.get_counts()\n",
    "    results_grover[k] = counts\n",
    "\n",
    "    print(f\"  Ergebnisse für k={k} Iterationen (Top 5):\")\n",
    "    # Sortiere Ergebnisse nach Häufigkeit und zeige die Top 5\n",
    "    sorted_counts = dict(sorted(counts.items(), key=lambda item: item[1], reverse=True))\n",
    "    top_5 = dict(list(sorted_counts.items())[:5])\n",
    "    print(f\"  {top_5}\")"
   ]
  },
  {
   "cell_type": "code",
   "execution_count": 39,
   "id": "e3ecb835",
   "metadata": {},
   "outputs": [
    {
     "name": "stdout",
     "output_type": "stream",
     "text": [
      "\n",
      "Histogramm der Messergebnisse für verschiedene k:\n"
     ]
    },
    {
     "data": {
      "image/png": "[encoded data removed]",
      "text/plain": [
       "<Figure size 1000x600 with 1 Axes>"
      ]
     },
     "metadata": {},
     "output_type": "display_data"
    },
    {
     "name": "stdout",
     "output_type": "stream",
     "text": [
      "\n",
      "Wahrscheinlichkeiten für Zielzustand |111>:\n",
      "  P(|111>) für k=1: 0.7925\n",
      "  P(|111>) für k=2: 0.9536\n",
      "  P(|111>) für k=3: 0.3555\n",
      "  P(|111>) für k=6: 0.9995\n",
      "\n",
      "Theoretisch optimale Anzahl Iterationen (gerundet): R ≈ 2 (genauer: 1.67)\n"
     ]
    }
   ],
   "source": [
    "# --- Analyse der Ergebnisse ---\n",
    "\n",
    "# Plotte die Histogramme aller Simulationen nebeneinander\n",
    "print(\"\\nHistogramm der Messergebnisse für verschiedene k:\")\n",
    "fig = plot_histogram(list(results_grover.values()),\n",
    "                     title=f'Grover Suchalgorithmus (n={n}, target=|{target_state_label}>)',\n",
    "                     legend=[f'k={k}' for k in iterations_to_run],\n",
    "                     figsize=(10, 6)) # Optional: Größe anpassen\n",
    "plt.show(fig)\n",
    "display(fig)\n",
    "\n",
    "# Berechne und drucke die Wahrscheinlichkeit, den Zielzustand zu messen\n",
    "probs_target = {}\n",
    "print(\"\\nWahrscheinlichkeiten für Zielzustand |\" + target_state_label + \">:\")\n",
    "for k in iterations_to_run:\n",
    "    counts = results_grover[k]\n",
    "    shots = sum(counts.values())\n",
    "    # counts.get(key, default) liefert 0, wenn der Key nicht existiert\n",
    "    prob = counts.get(target_state_label, 0) / shots\n",
    "    probs_target[k] = prob\n",
    "    print(f\"  P(|{target_state_label}>) für k={k}: {prob:.4f}\")\n",
    "\n",
    "# Berechne theoretisch optimale Iterationszahl\n",
    "N = 2**n\n",
    "M = 1 # Nur ein gesuchtes Element\n",
    "theta = np.arcsin(np.sqrt(M/N))\n",
    "R_opt_float = (np.pi / (4 * theta)) - 0.5\n",
    "R_opt_int = int(np.round(R_opt_float))\n",
    "print(f\"\\nTheoretisch optimale Anzahl Iterationen (gerundet): R ≈ {R_opt_int} (genauer: {R_opt_float:.2f})\")"
   ]
  },
  {
   "cell_type": "markdown",
   "id": "bc1e33b0",
   "metadata": {},
   "source": [
    "### 5.5 Diskussion der Resultate\n",
    "\n",
    "Der Grover-Algorithmus soll die Amplitude und damit die Messwahrscheinlichkeit des gesuchten Zustands $|111\\rangle$ iterativ erhöhen.\n",
    "\n",
    "* **Theoretische Erwartung:** Für $N=8$ gesamt Zustände und $M=1$ gesuchtes Element ist die optimale Anzahl an Iterationen $R \\approx \\frac{\\pi}{4}\\sqrt{N/M} \\approx \\frac{\\pi}{4}\\sqrt{8} \\approx 2.22$. Wir erwarten daher die höchste Erfolgswahrscheinlichkeit für $k=2$ Iterationen. Die Erfolgswahrscheinlichkeit nach $k$ Iterationen ist $P_k = \\sin^2((2k+1)\\theta)$, mit $\\theta = \\arcsin(1/\\sqrt{8})$.\n",
    "* **Simulationsergebnisse (k=1, 2, 3, 6):**\n",
    "    * **k=1:** Die Wahrscheinlichkeit $P_1$ für $|111\\rangle$ steigt von $1/8 = 12.5\\%$ deutlich an. Der beobachtete Wert (z.B. 0.7773) stimmt gut mit dem theoretischen Wert $\\sin^2(3\\theta) \\approx 0.777$ überein.\n",
    "    * **k=2:** Die Wahrscheinlichkeit $P_2$ erreicht ihr Maximum, nahe bei 1. Der beobachtete Wert (z.B. 0.9419) ist nahe am theoretischen Wert $\\sin^2(5\\theta) \\approx 0.947$. Dies bestätigt, dass $k=2$ die optimale ganzzahlige Iterationszahl ist.\n",
    "    * **k=3:** Die Wahrscheinlichkeit $P_3$ sinkt wieder, da der optimale Punkt überschritten wurde (\"Überrotation\"). Der beobachtete Wert (z.B. 0.3301) passt gut zum theoretischen Wert $\\sin^2(7\\theta) \\approx 0.326$.\n",
    "    * **k=6:** Nach sechs Iterationen ist die Wahrscheinlichkeit $P_6$ wieder sehr hoch. Der beobachtete Wert (z.B. 1.0000) ist nahe am theoretischen Wert $\\sin^2(13\\theta) \\approx 0.994$. Dies zeigt die periodische Natur der Amplitudenverstärkung. Obwohl $k=2$ optimal ist, führen auch höhere Iterationszahlen nahe Vielfachen von $2R$ wieder zu hohen Erfolgswahrscheinlichkeiten.\n",
    "\n",
    "* **Fazit:** Die Simulationen bestätigen die Funktionsweise des Grover-Algorithmus. Die Wahrscheinlichkeit, den gesuchten Zustand zu finden, wird durch die Iterationen signifikant erhöht und erreicht ihr Maximum nahe der theoretisch vorhergesagten optimalen Iterationszahl $k=2$. Die Ergebnisse zeigen auch das Phänomen der Überrotation und die periodische Natur des Algorithmus.\n",
    "\n",
    "## 6. Abschluss\n",
    "\n",
    "Dieses Notebook hat die gestellten Aufgaben zur Manipulation von Quantenregistern, zur Simulation von Verschränkung, zum Deutsch-Algorithmus und zum Grover-Algorithmus mithilfe von Qiskit gelöst. Die Ergebnisse der Simulationen stimmen mit den theoretischen Erwartungen der Quantenmechanik und der Quantenalgorithmen überein.\n",
    "\n"
   ]
  }
 ],
 "metadata": {
  "kernelspec": {
   "display_name": "python_kurs",
   "language": "python",
   "name": "python3"
  },
  "language_info": {
   "codemirror_mode": {
    "name": "ipython",
    "version": 3
   },
   "file_extension": ".py",
   "mimetype": "text/x-python",
   "name": "python",
   "nbconvert_exporter": "python",
   "pygments_lexer": "ipython3",
   "version": "3.10.10"
  }
 },
 "nbformat": 4,
 "nbformat_minor": 5
}
