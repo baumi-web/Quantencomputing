{
 "cells": [
  {
   "cell_type": "markdown",
   "id": "7ae5172b",
   "metadata": {},
   "source": [
    "# Hausarbeit Quantencomputing - Lösungen\n",
    "\n",
    "Dieses Notebook enthält die Lösungen für die Aufgaben der Hausarbeit Quantencomputing, implementiert mit Qiskit.\n",
    "\n",
    "**Übersicht:**\n",
    "1.  **Vorbereitung:** Importieren der notwendigen Bibliotheken und Initialisieren der Simulatoren.\n",
    "2.  **Aufgabe 1: Quantenregister:** Berechnung und Analyse einer Transformation auf einem 3-Qubit-Register.\n",
    "3.  **Aufgabe 2: Simulation der Verschränkung:** Erzeugung und Messung eines Bell-Zustands.\n",
    "4.  **Aufgabe 3: Algorithmus von Deutsch:** Implementierung und Test des Deutsch-Algorithmus zur Charakterisierung von Funktionen.\n",
    "5.  **Zusatzaufgabe: Grover-Suchalgorithmus:** Implementierung der Grover-Suche für n=3 Qubits.\n",
    "\n",
    "## 1. Vorbereitung: Importieren notwendiger Bibliotheken und Simulatoren initialisieren\n",
    "\n",
    "Zuerst importieren wir alle benötigten Pakete und Module von Python, NumPy, Matplotlib und Qiskit. Außerdem initialisieren wir die Qiskit Aer Simulatoren, die wir für die Berechnungen verwenden werden.\n"
   ]
  },
  {
   "cell_type": "code",
   "execution_count": null,
   "id": "8270cad4",
   "metadata": {},
   "outputs": [
    {
     "name": "stdout",
     "output_type": "stream",
     "text": [
      "Defaulting to user installation because normal site-packages is not writeable\n",
      "Requirement already satisfied: flask in /home/vscode/.local/lib/python3.12/site-packages (from -r requirements.txt (line 1)) (3.1.0)\n",
      "Requirement already satisfied: qiskit in /home/vscode/.local/lib/python3.12/site-packages (from -r requirements.txt (line 2)) (2.0.0)\n",
      "Requirement already satisfied: qiskit-aer in /home/vscode/.local/lib/python3.12/site-packages (from -r requirements.txt (line 3)) (0.17.0)\n",
      "Requirement already satisfied: qiskit-ibm-provider in /home/vscode/.local/lib/python3.12/site-packages (from -r requirements.txt (line 4)) (0.11.0)\n",
      "Requirement already satisfied: matplotlib in /home/vscode/.local/lib/python3.12/site-packages (from -r requirements.txt (line 5)) (3.10.1)\n",
      "Requirement already satisfied: pylatexenc in /home/vscode/.local/lib/python3.12/site-packages (from -r requirements.txt (line 6)) (2.10)\n",
      "Requirement already satisfied: numpy in /home/vscode/.local/lib/python3.12/site-packages (from -r requirements.txt (line 7)) (2.2.5)\n",
      "Requirement already satisfied: scipy in /home/vscode/.local/lib/python3.12/site-packages (from -r requirements.txt (line 8)) (1.15.2)\n",
      "Requirement already satisfied: Werkzeug>=3.1 in /home/vscode/.local/lib/python3.12/site-packages (from flask->-r requirements.txt (line 1)) (3.1.3)\n",
      "Requirement already satisfied: Jinja2>=3.1.2 in /home/vscode/.local/lib/python3.12/site-packages (from flask->-r requirements.txt (line 1)) (3.1.6)\n",
      "Requirement already satisfied: itsdangerous>=2.2 in /home/vscode/.local/lib/python3.12/site-packages (from flask->-r requirements.txt (line 1)) (2.2.0)\n",
      "Requirement already satisfied: click>=8.1.3 in /home/vscode/.local/lib/python3.12/site-packages (from flask->-r requirements.txt (line 1)) (8.1.8)\n",
      "Requirement already satisfied: blinker>=1.9 in /home/vscode/.local/lib/python3.12/site-packages (from flask->-r requirements.txt (line 1)) (1.9.0)\n",
      "Requirement already satisfied: rustworkx>=0.15.0 in /home/vscode/.local/lib/python3.12/site-packages (from qiskit->-r requirements.txt (line 2)) (0.16.0)\n",
      "Requirement already satisfied: sympy>=1.3 in /home/vscode/.local/lib/python3.12/site-packages (from qiskit->-r requirements.txt (line 2)) (1.14.0)\n",
      "Requirement already satisfied: dill>=0.3 in /home/vscode/.local/lib/python3.12/site-packages (from qiskit->-r requirements.txt (line 2)) (0.4.0)\n",
      "Requirement already satisfied: python-dateutil>=2.8.0 in /home/vscode/.local/lib/python3.12/site-packages (from qiskit->-r requirements.txt (line 2)) (2.9.0.post0)\n",
      "Requirement already satisfied: stevedore>=3.0.0 in /home/vscode/.local/lib/python3.12/site-packages (from qiskit->-r requirements.txt (line 2)) (5.4.1)\n",
      "Requirement already satisfied: typing-extensions in /home/vscode/.local/lib/python3.12/site-packages (from qiskit->-r requirements.txt (line 2)) (4.13.2)\n",
      "Requirement already satisfied: symengine<0.14,>=0.11 in /home/vscode/.local/lib/python3.12/site-packages (from qiskit->-r requirements.txt (line 2)) (0.13.0)\n",
      "Requirement already satisfied: psutil>=5 in /home/vscode/.local/lib/python3.12/site-packages (from qiskit-aer->-r requirements.txt (line 3)) (7.0.0)\n",
      "Requirement already satisfied: requests>=2.19 in /home/vscode/.local/lib/python3.12/site-packages (from qiskit-ibm-provider->-r requirements.txt (line 4)) (2.32.3)\n",
      "Requirement already satisfied: requests-ntlm>=1.1.0 in /home/vscode/.local/lib/python3.12/site-packages (from qiskit-ibm-provider->-r requirements.txt (line 4)) (1.3.0)\n",
      "Requirement already satisfied: urllib3>=1.21.1 in /home/vscode/.local/lib/python3.12/site-packages (from qiskit-ibm-provider->-r requirements.txt (line 4)) (2.4.0)\n",
      "Requirement already satisfied: websocket-client>=1.5.1 in /home/vscode/.local/lib/python3.12/site-packages (from qiskit-ibm-provider->-r requirements.txt (line 4)) (1.8.0)\n",
      "Requirement already satisfied: websockets>=10.0 in /home/vscode/.local/lib/python3.12/site-packages (from qiskit-ibm-provider->-r requirements.txt (line 4)) (15.0.1)\n",
      "Requirement already satisfied: contourpy>=1.0.1 in /home/vscode/.local/lib/python3.12/site-packages (from matplotlib->-r requirements.txt (line 5)) (1.3.2)\n",
      "Requirement already satisfied: cycler>=0.10 in /home/vscode/.local/lib/python3.12/site-packages (from matplotlib->-r requirements.txt (line 5)) (0.12.1)\n",
      "Requirement already satisfied: fonttools>=4.22.0 in /home/vscode/.local/lib/python3.12/site-packages (from matplotlib->-r requirements.txt (line 5)) (4.57.0)\n",
      "Requirement already satisfied: kiwisolver>=1.3.1 in /home/vscode/.local/lib/python3.12/site-packages (from matplotlib->-r requirements.txt (line 5)) (1.4.8)\n",
      "Requirement already satisfied: packaging>=20.0 in /home/vscode/.local/lib/python3.12/site-packages (from matplotlib->-r requirements.txt (line 5)) (25.0)\n",
      "Requirement already satisfied: pillow>=8 in /home/vscode/.local/lib/python3.12/site-packages (from matplotlib->-r requirements.txt (line 5)) (11.2.1)\n",
      "Requirement already satisfied: pyparsing>=2.3.1 in /home/vscode/.local/lib/python3.12/site-packages (from matplotlib->-r requirements.txt (line 5)) (3.2.3)\n",
      "Requirement already satisfied: MarkupSafe>=2.0 in /home/vscode/.local/lib/python3.12/site-packages (from Jinja2>=3.1.2->flask->-r requirements.txt (line 1)) (3.0.2)\n",
      "Requirement already satisfied: six>=1.5 in /home/vscode/.local/lib/python3.12/site-packages (from python-dateutil>=2.8.0->qiskit->-r requirements.txt (line 2)) (1.17.0)\n",
      "Requirement already satisfied: charset-normalizer<4,>=2 in /home/vscode/.local/lib/python3.12/site-packages (from requests>=2.19->qiskit-ibm-provider->-r requirements.txt (line 4)) (3.4.1)\n",
      "Requirement already satisfied: idna<4,>=2.5 in /home/vscode/.local/lib/python3.12/site-packages (from requests>=2.19->qiskit-ibm-provider->-r requirements.txt (line 4)) (3.10)\n",
      "Requirement already satisfied: certifi>=2017.4.17 in /home/vscode/.local/lib/python3.12/site-packages (from requests>=2.19->qiskit-ibm-provider->-r requirements.txt (line 4)) (2025.4.26)\n",
      "Requirement already satisfied: cryptography>=1.3 in /home/vscode/.local/lib/python3.12/site-packages (from requests-ntlm>=1.1.0->qiskit-ibm-provider->-r requirements.txt (line 4)) (44.0.2)\n",
      "Requirement already satisfied: pyspnego>=0.4.0 in /home/vscode/.local/lib/python3.12/site-packages (from requests-ntlm>=1.1.0->qiskit-ibm-provider->-r requirements.txt (line 4)) (0.11.2)\n",
      "Requirement already satisfied: pbr>=2.0.0 in /home/vscode/.local/lib/python3.12/site-packages (from stevedore>=3.0.0->qiskit->-r requirements.txt (line 2)) (6.1.1)\n",
      "Requirement already satisfied: mpmath<1.4,>=1.1.0 in /home/vscode/.local/lib/python3.12/site-packages (from sympy>=1.3->qiskit->-r requirements.txt (line 2)) (1.3.0)\n",
      "Requirement already satisfied: cffi>=1.12 in /home/vscode/.local/lib/python3.12/site-packages (from cryptography>=1.3->requests-ntlm>=1.1.0->qiskit-ibm-provider->-r requirements.txt (line 4)) (1.17.1)\n",
      "Requirement already satisfied: setuptools in /usr/local/lib/python3.12/site-packages (from pbr>=2.0.0->stevedore>=3.0.0->qiskit->-r requirements.txt (line 2)) (69.0.3)\n",
      "Requirement already satisfied: pycparser in /home/vscode/.local/lib/python3.12/site-packages (from cffi>=1.12->cryptography>=1.3->requests-ntlm>=1.1.0->qiskit-ibm-provider->-r requirements.txt (line 4)) (2.22)\n",
      "\n",
      "\u001b[1m[\u001b[0m\u001b[34;49mnotice\u001b[0m\u001b[1;39;49m]\u001b[0m\u001b[39;49m A new release of pip is available: \u001b[0m\u001b[31;49m24.3.1\u001b[0m\u001b[39;49m -> \u001b[0m\u001b[32;49m25.1\u001b[0m\n",
      "\u001b[1m[\u001b[0m\u001b[34;49mnotice\u001b[0m\u001b[1;39;49m]\u001b[0m\u001b[39;49m To update, run: \u001b[0m\u001b[32;49mpip install --upgrade pip\u001b[0m\n",
      "Note: you may need to restart the kernel to use updated packages.\n"
     ]
    }
   ],
   "source": [
    "pip install -r requirements.txt"
   ]
  },
  {
   "cell_type": "code",
   "execution_count": null,
   "id": "bb0fa4c5",
   "metadata": {},
   "outputs": [],
   "source": [
    "import numpy as np\n",
    "from numpy import pi\n",
    "import matplotlib.pyplot as plt # Import für Plots hinzugefügt\n",
    "\n",
    "# Qiskit imports\n",
    "from qiskit import QuantumCircuit, transpile\n",
    "# 'assemble' wurde entfernt\n",
    "# 'Aer' und 'IBMQ' sind veraltet für direkten Import hier in neueren Versionen\n",
    "\n",
    "# Importiere den AerSimulator für lokale Simulationen\n",
    "from qiskit_aer import AerSimulator\n",
    "\n",
    "# Importiere Visualisierungs- und Hilfsfunktionen\n",
    "from qiskit.visualization import plot_histogram, plot_bloch_multivector, array_to_latex\n",
    "from qiskit.quantum_info import Statevector, Operator\n",
    "# Pauli wird hier nicht mehr direkt für H benötigt\n",
    "from qiskit.quantum_info import Pauli\n",
    "\n",
    "# Importiere die benötigten Gate-Klassen\n",
    "from qiskit.circuit.library import HGate, XGate, ZGate, CCZGate # CCZGate für spätere Aufgaben hinzugefügt\n",
    "\n",
    "# Optional: Für IBM Backend Zugriff (falls benötigt)\n",
    "# from qiskit_ibm_provider import IBMProvider\n"
   ]
  },
  {
   "cell_type": "code",
   "execution_count": 3,
   "id": "49ce12c7",
   "metadata": {},
   "outputs": [],
   "source": [
    "# --- Simulatoren Initialisieren ---\n",
    "# Statevector Simulator Instanz\n",
    "sim_statevector = AerSimulator(method='statevector')\n",
    "# Qasm Simulator Instanz (für Messungen)\n",
    "sim_qasm = AerSimulator(method='automatic') # 'automatic' passt Methode an Circuit an\n",
    "# -"
   ]
  },
  {
   "cell_type": "markdown",
   "id": "d9237aa5",
   "metadata": {},
   "source": [
    "## 2. Aufgabe 1: Quantenregister\n",
    "\n",
    "**Problemstellung:**\n",
    "Gegeben sei ein 3-Qubit Register $(q_0, q_1, q_2)$. Folgende Operationen sollen auf den Qubits ausgeführt werden:\n",
    "* $q_0$: Hadamard-Transformation (H-Gate)\n",
    "* $q_1$: X-Gate (Pauli-X)\n",
    "* $q_2$: Z-Gate (Pauli-Z)\n",
    "\n",
    "**Aufgaben:**\n",
    "1. Bestimmen Sie die unitäre $8 \\times 8$ Matrix $Q$, welche diese Gesamttransformation realisiert ($Q=H_{q0} \\otimes X_{q1} \\otimes Z_{q2}$).\n",
    "2. Zeigen Sie, dass Q unitär ist.\n",
    "3. Wenden Sie Q auf die Basiszustände $|000\\rangle$ und $|111\\rangle$ an.\n",
    "\n",
    "### 2.1 Bestimmung der Matrix Q\n",
    "\n",
    "Die Gesamttransformation $Q$ ergibt sich aus dem Tensorprodukt der einzelnen Gatematrizen in der Reihenfolge der Qubits, auf die sie wirken. Die Standardnotation für das Tensorprodukt ist $Q = H_{q0} \\otimes X_{q1} \\otimes Z_{q2}$.\n",
    "\n",
    "Wir berechnen diese Matrix $Q$ zunächst mit NumPy's `kron` Funktion, da diese der mathematischen Standardreihenfolge entspricht. Anschließend erstellen wir ein Qiskit `Operator`-Objekt direkt aus dieser NumPy-Matrix, um sicherzustellen, dass der Operator exakt der Aufgabenstellung entspricht.\n"
   ]
  },
  {
   "cell_type": "code",
   "execution_count": null,
   "id": "2d3fd302",
   "metadata": {},
   "outputs": [
    {
     "name": "stdout",
     "output_type": "stream",
     "text": [
      "--- 1.1 Berechnung der Matrix Q ---\n",
      "\n",
      "Zielmatrix Q = H(q0) @ X(q1) @ Z(q2) berechnet mit NumPy:\n"
     ]
    },
    {
     "data": {
      "text/latex": [
       "$$\n",
       "Q_{np} = \n",
       "\\begin{bmatrix}\n",
       "0 & 0 & \\frac{\\sqrt{2}}{2} & 0 & 0 & 0 & \\frac{\\sqrt{2}}{2} & 0  \\\\\n",
       " 0 & 0 & 0 & - \\frac{\\sqrt{2}}{2} & 0 & 0 & 0 & - \\frac{\\sqrt{2}}{2}  \\\\\n",
       " \\frac{\\sqrt{2}}{2} & 0 & 0 & 0 & \\frac{\\sqrt{2}}{2} & 0 & 0 & 0  \\\\\n",
       " 0 & - \\frac{\\sqrt{2}}{2} & 0 & 0 & 0 & - \\frac{\\sqrt{2}}{2} & 0 & 0  \\\\\n",
       " 0 & 0 & \\frac{\\sqrt{2}}{2} & 0 & 0 & 0 & - \\frac{\\sqrt{2}}{2} & 0  \\\\\n",
       " 0 & 0 & 0 & - \\frac{\\sqrt{2}}{2} & 0 & 0 & 0 & \\frac{\\sqrt{2}}{2}  \\\\\n",
       " \\frac{\\sqrt{2}}{2} & 0 & 0 & 0 & - \\frac{\\sqrt{2}}{2} & 0 & 0 & 0  \\\\\n",
       " 0 & - \\frac{\\sqrt{2}}{2} & 0 & 0 & 0 & \\frac{\\sqrt{2}}{2} & 0 & 0  \\\\\n",
       " \\end{bmatrix}\n",
       "$$"
      ],
      "text/plain": [
       "<IPython.core.display.Latex object>"
      ]
     },
     "metadata": {},
     "output_type": "display_data"
    },
    {
     "name": "stdout",
     "output_type": "stream",
     "text": [
      "\n",
      "Matrix des erstellten Qiskit Operators op_Q (zur Kontrolle):\n"
     ]
    },
    {
     "data": {
      "text/latex": [
       "$$\n",
       "Q_{op} = \n",
       "\\begin{bmatrix}\n",
       "0 & 0 & \\frac{\\sqrt{2}}{2} & 0 & 0 & 0 & \\frac{\\sqrt{2}}{2} & 0  \\\\\n",
       " 0 & 0 & 0 & - \\frac{\\sqrt{2}}{2} & 0 & 0 & 0 & - \\frac{\\sqrt{2}}{2}  \\\\\n",
       " \\frac{\\sqrt{2}}{2} & 0 & 0 & 0 & \\frac{\\sqrt{2}}{2} & 0 & 0 & 0  \\\\\n",
       " 0 & - \\frac{\\sqrt{2}}{2} & 0 & 0 & 0 & - \\frac{\\sqrt{2}}{2} & 0 & 0  \\\\\n",
       " 0 & 0 & \\frac{\\sqrt{2}}{2} & 0 & 0 & 0 & - \\frac{\\sqrt{2}}{2} & 0  \\\\\n",
       " 0 & 0 & 0 & - \\frac{\\sqrt{2}}{2} & 0 & 0 & 0 & \\frac{\\sqrt{2}}{2}  \\\\\n",
       " \\frac{\\sqrt{2}}{2} & 0 & 0 & 0 & - \\frac{\\sqrt{2}}{2} & 0 & 0 & 0  \\\\\n",
       " 0 & - \\frac{\\sqrt{2}}{2} & 0 & 0 & 0 & \\frac{\\sqrt{2}}{2} & 0 & 0  \\\\\n",
       " \\end{bmatrix}\n",
       "$$"
      ],
      "text/plain": [
       "<IPython.core.display.Latex object>"
      ]
     },
     "metadata": {},
     "output_type": "display_data"
    },
    {
     "name": "stdout",
     "output_type": "stream",
     "text": [
      "\n",
      "--> Assertion erfolgreich: Qiskit Operator wurde korrekt aus Q_np erstellt.\n"
     ]
    }
   ],
   "source": [
    "# --- Berechnung der Zielmatrix Q mit NumPy ---\n",
    "print(\"--- 1.1 Berechnung der Matrix Q ---\")\n",
    "\n",
    "# Einzelne Gatematrizen als NumPy-Arrays\n",
    "H_matrix = 1/np.sqrt(2) * np.array([[1, 1], [1, -1]], dtype=complex)\n",
    "X_matrix = np.array([[0, 1], [1, 0]], dtype=complex)\n",
    "Z_matrix = np.array([[1, 0], [0, -1]], dtype=complex)\n",
    "\n",
    "# Berechnung des Tensorprodukts Q = H(q0) @ X(q1) @ Z(q2)\n",
    "# np.kron folgt der Reihenfolge: H auf erstem Index, X auf zweitem, Z auf drittem\n",
    "Q_np = np.kron(H_matrix, np.kron(X_matrix, Z_matrix))\n",
    "print(\"\\nZielmatrix Q = H(q0) @ X(q1) @ Z(q2) berechnet mit NumPy:\")\n",
    "# Schöne LaTeX-Ausgabe der NumPy-Matrix\n",
    "display(array_to_latex(Q_np, prefix=\"Q_{np} = \"))\n",
    "\n",
    "# --- Erstellung des Qiskit Operators aus der NumPy-Matrix ---\n",
    "# Dies stellt sicher, dass der Operator der Aufgabenstellung entspricht.\n",
    "op_Q = Operator(Q_np)\n",
    "\n",
    "print(\"\\nMatrix des erstellten Qiskit Operators op_Q (zur Kontrolle):\")\n",
    "# Schöne LaTeX-Ausgabe der Operator-Matrix\n",
    "display(array_to_latex(op_Q.data, prefix=\"Q_{op} = \"))\n",
    "\n",
    "# Überprüfung, ob die Matrizen übereinstimmen (sollte nun trivialerweise wahr sein)\n",
    "assert np.allclose(op_Q.data, Q_np), \"Matrix des Qiskit Operators stimmt nicht mit Q_np überein!\"\n",
    "print(\"\\n--> Assertion erfolgreich: Qiskit Operator wurde korrekt aus Q_np erstellt.\")\n"
   ]
  },
  {
   "cell_type": "markdown",
   "id": "b58ff096",
   "metadata": {},
   "source": [
    "### 2.2 Nachweis der Unitarität von Q\n",
    "\n",
    "Eine Matrix $U$ ist unitär, wenn ihr Produkt mit ihrer adjungierten (transponiert-konjugierten) Matrix $U^\\dagger$ die Einheitsmatrix $I$ ergibt: $U^\\dagger U = I$. Wir überprüfen dies sowohl manuell mit NumPy als auch mit der eingebauten Funktion von Qiskit.\n"
   ]
  },
  {
   "cell_type": "code",
   "execution_count": 15,
   "id": "847fa7e4",
   "metadata": {},
   "outputs": [
    {
     "name": "stdout",
     "output_type": "stream",
     "text": [
      "\n",
      "--- 1.2 Nachweis der Unitarität von Q ---\n",
      "\n",
      "Ist Q unitär (manuelle Prüfung mit np.allclose)? True\n",
      "Ist Q unitär (Qiskit-Operator-Check)? True\n",
      "\n",
      "Ergebnis von Q_dagger * Q (sollte I sein):\n"
     ]
    },
    {
     "data": {
      "text/latex": [
       "$$\n",
       "Q^\\dagger Q = \n",
       "\\begin{bmatrix}\n",
       "1 & 0 & 0 & 0 & 0 & 0 & 0 & 0  \\\\\n",
       " 0 & 1 & 0 & 0 & 0 & 0 & 0 & 0  \\\\\n",
       " 0 & 0 & 1 & 0 & 0 & 0 & 0 & 0  \\\\\n",
       " 0 & 0 & 0 & 1 & 0 & 0 & 0 & 0  \\\\\n",
       " 0 & 0 & 0 & 0 & 1 & 0 & 0 & 0  \\\\\n",
       " 0 & 0 & 0 & 0 & 0 & 1 & 0 & 0  \\\\\n",
       " 0 & 0 & 0 & 0 & 0 & 0 & 1 & 0  \\\\\n",
       " 0 & 0 & 0 & 0 & 0 & 0 & 0 & 1  \\\\\n",
       " \\end{bmatrix}\n",
       "$$"
      ],
      "text/plain": [
       "<IPython.core.display.Latex object>"
      ]
     },
     "metadata": {},
     "output_type": "display_data"
    }
   ],
   "source": [
    "print(\"\\n--- 1.2 Nachweis der Unitarität von Q ---\")\n",
    "\n",
    "# Manuelle Berechnung mit NumPy\n",
    "Q_matrix = op_Q.data # Matrix aus dem Qiskit Operator holen\n",
    "Q_dagger = Q_matrix.conj().T # Adjungierte bilden (transponiert und komplex konjugiert)\n",
    "identity_8x8 = np.identity(8, dtype=complex) # 8x8 Einheitsmatrix\n",
    "\n",
    "# Prüfe, ob Q_dagger * Q nahe der Einheitsmatrix ist (numerische Toleranz beachten)\n",
    "is_unitary_manual = np.allclose(Q_dagger @ Q_matrix, identity_8x8)\n",
    "print(f\"\\nIst Q unitär (manuelle Prüfung mit np.allclose)? {is_unitary_manual}\")\n",
    "\n",
    "# Überprüfung mit der Qiskit-Funktion\n",
    "print(f\"Ist Q unitär (Qiskit-Operator-Check)? {op_Q.is_unitary()}\")\n",
    "\n",
    "# Optional: Explizite Ausgabe von Q_dagger * Q (sollte die Einheitsmatrix sein)\n",
    "print(\"\\nErgebnis von Q_dagger * Q (sollte I sein):\")\n",
    "display(array_to_latex(Q_dagger @ Q_matrix, prefix=\"Q^\\\\dagger Q = \"))"
   ]
  },
  {
   "cell_type": "markdown",
   "id": "17f8497d",
   "metadata": {},
   "source": [
    "### 2.3 Anwendung von Q auf Basiszustände\n",
    "Nun wenden wir den Operator $Q = H_{q0} \\otimes X_{q1} \\otimes Z_{q2}$ auf die Basiszustände $|000\\rangle$ und $|111\\rangle$ an.\n",
    "\n",
    "**Wichtiger Hinweis zur Qiskit-Konvention:** Qiskit's `Statevector` und Label-Notation ('000', '111') verwendet die Reihenfolge der Qubits $q_{n-1} \\dots q_1 q_0$.\n",
    "* $|000\\rangle$ bedeutet $q_2=0, q_1=0, q_0=0$. Dies entspricht dem 0-ten Basisvektor $(1, 0, \\dots, 0)^T$.\n",
    "* $|111\\rangle$ bedeutet $q_2=1, q_1=1, q_0=1$. Dies entspricht dem $(2^3-1)=7$-ten Basisvektor $(0, \\dots, 0, 1)^T$.\n",
    "#\n",
    "Die Anwendung des Operators $Q$ auf einen Zustandsvektor $|\\psi\\rangle$ erfolgt durch Matrix-Vektor-Multiplikation: $|\\psi'\\rangle = Q |\\psi\\rangle$.\n"
   ]
  },
  {
   "cell_type": "code",
   "execution_count": 16,
   "id": "af0838d3",
   "metadata": {},
   "outputs": [
    {
     "name": "stdout",
     "output_type": "stream",
     "text": [
      "\n",
      "--- 1.3 Anwendung von Q auf Basiszustände ---\n",
      "\n",
      "Anfangszustand |000>:\n"
     ]
    },
    {
     "data": {
      "text/latex": [
       "$$\n",
       "|\\psi_{000}\\rangle = \n",
       "\\begin{bmatrix}\n",
       "1 & 0 & 0 & 0 & 0 & 0 & 0 & 0  \\\\\n",
       " \\end{bmatrix}\n",
       "$$"
      ],
      "text/plain": [
       "<IPython.core.display.Latex object>"
      ]
     },
     "metadata": {},
     "output_type": "display_data"
    },
    {
     "name": "stdout",
     "output_type": "stream",
     "text": [
      "Text-Repräsentation: [1.+0.j,0.+0.j,0.+0.j,0.+0.j,0.+0.j,0.+0.j,0.+0.j,0.+0.j]\n",
      "\n",
      "Anfangszustand |111>:\n"
     ]
    },
    {
     "data": {
      "text/latex": [
       "$$\n",
       "|\\psi_{111}\\rangle = \n",
       "\\begin{bmatrix}\n",
       "0 & 0 & 0 & 0 & 0 & 0 & 0 & 1  \\\\\n",
       " \\end{bmatrix}\n",
       "$$"
      ],
      "text/plain": [
       "<IPython.core.display.Latex object>"
      ]
     },
     "metadata": {},
     "output_type": "display_data"
    },
    {
     "name": "stdout",
     "output_type": "stream",
     "text": [
      "Text-Repräsentation: [0.+0.j,0.+0.j,0.+0.j,0.+0.j,0.+0.j,0.+0.j,0.+0.j,1.+0.j]\n",
      "\n",
      "Zustand nach Anwendung von Q = H(q0)@X(q1)@Z(q2) auf |000>:\n"
     ]
    },
    {
     "data": {
      "text/latex": [
       "$$\n",
       "Q|\\psi_{000}\\rangle = \n",
       "\\begin{bmatrix}\n",
       "0 & 0 & \\frac{\\sqrt{2}}{2} & 0 & 0 & 0 & \\frac{\\sqrt{2}}{2} & 0  \\\\\n",
       " \\end{bmatrix}\n",
       "$$"
      ],
      "text/plain": [
       "<IPython.core.display.Latex object>"
      ]
     },
     "metadata": {},
     "output_type": "display_data"
    },
    {
     "name": "stdout",
     "output_type": "stream",
     "text": [
      "Text-Repräsentation: [0.        +0.j,0.        +0.j,0.70710678+0.j,0.        +0.j,\n",
      " 0.        +0.j,0.        +0.j,0.70710678+0.j,0.        +0.j]\n",
      "\n",
      "Zustand nach Anwendung von Q = H(q0)@X(q1)@Z(q2) auf |111>:\n"
     ]
    },
    {
     "data": {
      "text/latex": [
       "$$\n",
       "Q|\\psi_{111}\\rangle = \n",
       "\\begin{bmatrix}\n",
       "0 & - \\frac{\\sqrt{2}}{2} & 0 & 0 & 0 & \\frac{\\sqrt{2}}{2} & 0 & 0  \\\\\n",
       " \\end{bmatrix}\n",
       "$$"
      ],
      "text/plain": [
       "<IPython.core.display.Latex object>"
      ]
     },
     "metadata": {},
     "output_type": "display_data"
    },
    {
     "name": "stdout",
     "output_type": "stream",
     "text": [
      "Text-Repräsentation: [ 0.        +0.j,-0.70710678+0.j, 0.        +0.j, 0.        +0.j,\n",
      "  0.        +0.j, 0.70710678+0.j, 0.        +0.j, 0.        +0.j]\n"
     ]
    }
   ],
   "source": [
    "print(\"\\n--- 1.3 Anwendung von Q auf Basiszustände ---\")\n",
    "\n",
    "# Definiere die Anfangszustände als Statevector Objekte\n",
    "# '000' -> q2=0, q1=0, q0=0\n",
    "psi_000 = Statevector.from_label('000')\n",
    "# '111' -> q2=1, q1=1, q0=1\n",
    "psi_111 = Statevector.from_label('111')\n",
    "\n",
    "print(\"\\nAnfangszustand |000>:\")\n",
    "display(array_to_latex(psi_000.data, prefix=\"|\\\\psi_{000}\\\\rangle = \"))\n",
    "print(f\"Text-Repräsentation: {psi_000.draw('text')}\")\n",
    "\n",
    "print(\"\\nAnfangszustand |111>:\")\n",
    "display(array_to_latex(psi_111.data, prefix=\"|\\\\psi_{111}\\\\rangle = \"))\n",
    "print(f\"Text-Repräsentation: {psi_111.draw('text')}\")\n",
    "\n",
    "# Wende den Operator Q an (der bereits der korrekten Matrix Q_np entspricht)\n",
    "psi_000_final = psi_000.evolve(op_Q)\n",
    "psi_111_final = psi_111.evolve(op_Q)\n",
    "\n",
    "print(\"\\nZustand nach Anwendung von Q = H(q0)@X(q1)@Z(q2) auf |000>:\")\n",
    "display(array_to_latex(psi_000_final.data, prefix=\"Q|\\\\psi_{000}\\\\rangle = \", max_size=8))\n",
    "print(f\"Text-Repräsentation: {psi_000_final.draw('text')}\")\n",
    "# Erwartetes Ergebnis: 1/sqrt(2) * (|010> + |110>)\n",
    "# Erklärung: H|0> = 1/sqrt(2)(|0>+|1>), X|0>=|1>, Z|0>=|0>.\n",
    "# Tensorprodukt: 1/sqrt(2)(|0>+|1>) @ |1> @ |0> = 1/sqrt(2)(|010> + |110>)\n",
    "\n",
    "print(\"\\nZustand nach Anwendung von Q = H(q0)@X(q1)@Z(q2) auf |111>:\")\n",
    "display(array_to_latex(psi_111_final.data, prefix=\"Q|\\\\psi_{111}\\\\rangle = \", max_size=8))\n",
    "print(f\"Text-Repräsentation: {psi_111_final.draw('text')}\")\n",
    "# Erwartetes Ergebnis: 1/sqrt(2) * (-|001> + |101>)\n",
    "# Erklärung: H|1> = 1/sqrt(2)(|0>-|1>), X|1>=|0>, Z|1>=-|1>.\n",
    "# Tensorprodukt: 1/sqrt(2)(|0>-|1>) @ |0> @ (-|1>) = -1/sqrt(2)(|001> - |101>) = 1/sqrt(2)(-|001> + |101>)"
   ]
  },
  {
   "cell_type": "markdown",
   "id": "c0c6eed1",
   "metadata": {},
   "source": [
    "**Zusammenfassung Aufgabe 1:**\n",
    "Wir haben die $8 \\times 8$ Matrix $Q$ für die gegebene Transformation $H_{q0} \\otimes X_{q1} \\otimes Z_{q2}$ berechnet und ihre Unitarität bestätigt. Die Anwendung des Operators $Q$ auf die Basiszustände $|000\\rangle$ und $|111\\rangle$ lieferte die erwarteten Superpositionszustände $\\frac{1}{\\sqrt{2}}(|010\\rangle + |110\\rangle)$ bzw. $\\frac{1}{\\sqrt{2}}(-|001\\rangle + |101\\rangle)$.\n"
   ]
  },
  {
   "cell_type": "markdown",
   "id": "1bce4b38",
   "metadata": {},
   "source": [
    "## 3. Aufgabe 2: Simulation der Verschränkung\n",
    "\n",
    "**Problemstellung (Original):**\n",
    "Schreiben Sie ein Python-Programm, welches das einfache Problem der Verschränkung simuliert, *ohne* auf spezielle Pakete wie zB qiskit zurückzugreifen.\n",
    "\n",
    "**Angepasste Aufgabe (wie gewünscht):**\n",
    "Wir implementieren die Simulation der Verschränkung (Erzeugung des Bell-Zustands $\\Phi^+ = \\frac{1}{\\sqrt{2}}(|00\\rangle + |11\\rangle)$) nun *mit* Qiskit.\n",
    "\n",
    "**Schritte:**\n",
    "(a) Bereitstellung des 2-QBit-Anfangszustands $|00\\rangle$.\n",
    "(b) Veränderung der QBits durch Anwendung eines Hadamard-Gates auf Qubit 0 und eines CNOT-Gates (Kontrolle: Qubit 0, Ziel: Qubit 1).\n",
    "(c) Berechnung des Endzustands (Superposition) und Bestimmung der theoretischen Messwahrscheinlichkeiten.\n",
    "(d) Simulation von Messungen in der Standardbasis.\n",
    "(e) Nachweis der Wahrscheinlichkeitsverteilung durch Simulation mit 50, 100, 200, 500 und 1000 Messungen (`shots`).\n",
    "\n",
    "### 3.1 Erstellung des Verschränkungs-Schaltkreises\n",
    "\n",
    "Wir erstellen einen `QuantumCircuit` mit zwei Qubits (q0, q1) und zwei klassischen Bits (c0, c1) für die Messergebnisse. Der Anfangszustand ist standardmäßig $|00\\rangle$. Dann wenden wir die Gates H(q0) und CNOT(q0, q1) an.\n"
   ]
  },
  {
   "cell_type": "code",
   "execution_count": 17,
   "id": "6d3a0231",
   "metadata": {},
   "outputs": [
    {
     "name": "stdout",
     "output_type": "stream",
     "text": [
      "--- 2.1 Erstellung des Bell-Zustand Circuits ---\n",
      "\n",
      "Schaltkreis zur Erzeugung des Bell-Zustands |Φ+>:\n",
      "     ┌───┐     \n",
      "q_0: ┤ H ├──■──\n",
      "     └───┘┌─┴─┐\n",
      "q_1: ─────┤ X ├\n",
      "          └───┘\n",
      "c: 2/══════════\n",
      "               \n"
     ]
    }
   ],
   "source": [
    "print(\"--- 2.1 Erstellung des Bell-Zustand Circuits ---\")\n",
    "\n",
    "# (a) & (b) Erstelle einen Quantenschaltkreis mit 2 Qubits und 2 klassischen Bits\n",
    "# Qiskit-Reihenfolge: q1, q0\n",
    "qc_bell = QuantumCircuit(2, 2, name=\"Bell State\")\n",
    "\n",
    "# Anfangszustand ist |00> per Default\n",
    "\n",
    "# H-Gate auf Qubit 0 (das erste Qubit in Qiskits Indexierung)\n",
    "qc_bell.h(0)\n",
    "\n",
    "# CNOT-Gate mit Qubit 0 als Kontrolle und Qubit 1 als Ziel\n",
    "qc_bell.cx(0, 1)\n",
    "\n",
    "# Zeichne den Schaltkreis zur Visualisierung\n",
    "print(\"\\nSchaltkreis zur Erzeugung des Bell-Zustands |Φ+>:\")\n",
    "print(qc_bell.draw(output='text'))"
   ]
  },
  {
   "cell_type": "markdown",
   "id": "a6f72aa5",
   "metadata": {},
   "source": [
    "### 3.2 Berechnung des Endzustands (Statevector)\n",
    "\n",
    " Um den exakten quantenmechanischen Zustand nach Anwendung der Gates zu sehen, verwenden wir den `StatevectorSimulator`. Wichtig ist, dass der Circuit für diese Simulation *keine* Messoperationen enthalten darf. Wir erstellen eine Kopie des Circuits und entfernen ggf. Messungen und klassische Register. Wir fügen außerdem `save_statevector()` hinzu, damit der Simulator das Ergebnis speichert.\n"
   ]
  },
  {
   "cell_type": "code",
   "execution_count": 18,
   "id": "fc4a39a2",
   "metadata": {},
   "outputs": [
    {
     "name": "stdout",
     "output_type": "stream",
     "text": [
      "\n",
      "--- 2.2 Berechnung des Endzustands (Statevector) ---\n",
      "\n",
      "Endzustand |Φ+> als Statevector:\n"
     ]
    },
    {
     "data": {
      "text/latex": [
       "$$\n",
       "|\\Phi^+\\rangle = \n",
       "\\begin{bmatrix}\n",
       "\\frac{\\sqrt{2}}{2} & 0 & 0 & \\frac{\\sqrt{2}}{2}  \\\\\n",
       " \\end{bmatrix}\n",
       "$$"
      ],
      "text/plain": [
       "<IPython.core.display.Latex object>"
      ]
     },
     "metadata": {},
     "output_type": "display_data"
    },
    {
     "name": "stdout",
     "output_type": "stream",
     "text": [
      "Text-Repräsentation (q1,q0): [0.70710678+0.j,0.        +0.j,0.        +0.j,0.70710678+0.j]\n",
      "\n",
      "Theoretische Messwahrscheinlichkeiten:\n",
      "{np.str_('00'): np.float64(0.5000000000000001), np.str_('11'): np.float64(0.4999999999999999)}\n"
     ]
    }
   ],
   "source": [
    "print(\"\\n--- 2.2 Berechnung des Endzustands (Statevector) ---\")\n",
    "\n",
    "# (c) Berechne den Endzustand\n",
    "# Kopie des Circuits ohne Messungen erstellen\n",
    "qc_bell_no_measure = qc_bell.copy(name=\"Bell State No Measure\")\n",
    "qc_bell_no_measure.remove_final_measurements(inplace=True) # Entfernt Mess-Operationen\n",
    "if qc_bell_no_measure.cregs: # Prüfe ob klassische Register existieren\n",
    "    qc_bell_no_measure.cregs = [] # Entferne klassische Register\n",
    "\n",
    "# Anweisung zum Speichern des Endzustandsvektors hinzufügen\n",
    "qc_bell_no_measure.save_statevector()\n",
    "\n",
    "# Führe die Statevector-Simulation aus\n",
    "# Transpilieren ist für ideale Simulatoren oft nicht nötig, aber gute Praxis\n",
    "t_qc_bell_sv = transpile(qc_bell_no_measure, sim_statevector)\n",
    "job_state = sim_statevector.run(t_qc_bell_sv)\n",
    "result_state = job_state.result()\n",
    "\n",
    "# Extrahiere den Zustandsvektor aus den Ergebnisdaten\n",
    "# Methode über Ergebnisdaten ist oft robuster\n",
    "final_statevector = Statevector(result_state.data(0)['statevector'])\n",
    "\n",
    "print(\"\\nEndzustand |Φ+> als Statevector:\")\n",
    "display(array_to_latex(final_statevector.data, prefix=\"|\\\\Phi^+\\\\rangle = \"))\n",
    "# Qiskit-Reihenfolge der Basisvektoren: |00>, |01>, |10>, |11> (entspricht q1, q0)\n",
    "# Erwartet: 1/sqrt(2) * (|00> + |11>) --> [1/sqrt(2), 0, 0, 1/sqrt(2)]\n",
    "print(f\"Text-Repräsentation (q1,q0): {final_statevector.draw('text')}\")\n",
    "\n",
    "# Berechne die theoretischen Wahrscheinlichkeiten (|Amplitude|^2)\n",
    "probabilities_theory = final_statevector.probabilities_dict()\n",
    "print(\"\\nTheoretische Messwahrscheinlichkeiten:\")\n",
    "print(probabilities_theory)\n",
    "# Erwartet: {'00': 0.5, '11': 0.5} (gerundet)"
   ]
  },
  {
   "cell_type": "markdown",
   "id": "605d3899",
   "metadata": {},
   "source": [
    "### 3.3 Simulation von Messungen\n",
    "\n",
    "Nun simulieren wir den Prozess der Messung des verschränkten Zustands in der Standardbasis (|0>, |1>). Wir verwenden den `QasmSimulator` (`sim_qasm`) und führen den ursprünglichen Circuit `qc_bell` (oder eine Kopie mit Messungen) mit unterschiedlicher Anzahl von `shots` aus. Die Ergebnisse (`counts`) zeigen, wie oft jeder Basiszustand gemessen wurde.\n"
   ]
  },
  {
   "cell_type": "code",
   "execution_count": 20,
   "id": "257dce30",
   "metadata": {},
   "outputs": [
    {
     "name": "stdout",
     "output_type": "stream",
     "text": [
      "\n",
      "--- 2.3 Simulation von Messungen ---\n",
      "\n",
      "Schaltkreis mit Messung:\n",
      "        ┌───┐      ░ ┌─┐   \n",
      "   q_0: ┤ H ├──■───░─┤M├───\n",
      "        └───┘┌─┴─┐ ░ └╥┘┌─┐\n",
      "   q_1: ─────┤ X ├─░──╫─┤M├\n",
      "             └───┘ ░  ║ └╥┘\n",
      "   c: 2/══════════════╬══╬═\n",
      "                      ║  ║ \n",
      "meas: 2/══════════════╩══╩═\n",
      "                      0  1 \n",
      "\n",
      "Simuliere Messungen mit unterschiedlicher Anzahl von Shots:\n",
      "\n",
      "Ergebnisse für 50 Messungen:\n",
      "{'00 00': 23, '11 00': 27}\n",
      "Relative Häufigkeiten: {'00': 0.000, '11': 0.000}\n",
      "\n",
      "Ergebnisse für 100 Messungen:\n",
      "{'00 00': 46, '11 00': 54}\n",
      "Relative Häufigkeiten: {'00': 0.000, '11': 0.000}\n",
      "\n",
      "Ergebnisse für 200 Messungen:\n",
      "{'11 00': 102, '00 00': 98}\n",
      "Relative Häufigkeiten: {'00': 0.000, '11': 0.000}\n",
      "\n",
      "Ergebnisse für 500 Messungen:\n",
      "{'00 00': 246, '11 00': 254}\n",
      "Relative Häufigkeiten: {'00': 0.000, '11': 0.000}\n",
      "\n",
      "Ergebnisse für 1000 Messungen:\n",
      "{'11 00': 503, '00 00': 497}\n",
      "Relative Häufigkeiten: {'00': 0.000, '11': 0.000}\n",
      "\n",
      "Histogramm für 1000 Messungen:\n"
     ]
    },
    {
     "data": {
      "image/png": "[encoded data removed]",
      "text/plain": [
       "<Figure size 640x480 with 1 Axes>"
      ]
     },
     "metadata": {},
     "output_type": "display_data"
    }
   ],
   "source": [
    "print(\"\\n--- 2.3 Simulation von Messungen ---\")\n",
    "\n",
    "# (d) & (e) Führe Messungen durch\n",
    "# Stelle sicher, dass der Circuit klassische Bits hat und Messungen durchführt\n",
    "qc_bell_measure = qc_bell.copy(name=\"Bell Measure\")\n",
    "# Überprüfe, ob klassische Bits für alle Qubits vorhanden sind\n",
    "if len(qc_bell_measure.clbits) < qc_bell_measure.num_qubits:\n",
    "     # Füge fehlende klassische Bits hinzu\n",
    "     cr = ClassicalRegister(qc_bell_measure.num_qubits, 'c')\n",
    "     qc_bell_measure.add_register(cr)\n",
    "# Überprüfe, ob eine Messung aller Qubits vorhanden ist\n",
    "has_measure_all = any(instr.operation.name == 'measure' and len(instr.qubits) == qc_bell_measure.num_qubits for instr in qc_bell_measure.data)\n",
    "if not has_measure_all:\n",
    "     qc_bell_measure.measure_all(inplace=True) # Fügt measure_all hinzu\n",
    "\n",
    "print(\"\\nSchaltkreis mit Messung:\")\n",
    "print(qc_bell_measure.draw(output='text'))\n",
    "\n",
    "# Definiere die Anzahl der Messungen (Shots)\n",
    "num_shots_list = [50, 100, 200, 500, 1000]\n",
    "measurement_results = {}\n",
    "\n",
    "print(\"\\nSimuliere Messungen mit unterschiedlicher Anzahl von Shots:\")\n",
    "for shots in num_shots_list:\n",
    "    # Transpiliere für den QASM Simulator (optimiert den Circuit für das Backend)\n",
    "    t_qc_bell_measure = transpile(qc_bell_measure, sim_qasm)\n",
    "    # Führe die Simulation aus\n",
    "    job_qasm = sim_qasm.run(t_qc_bell_measure, shots=shots)\n",
    "    result_qasm = job_qasm.result()\n",
    "    counts = result_qasm.get_counts() # Extrahiere die Zählergebnisse\n",
    "    measurement_results[shots] = counts\n",
    "    print(f\"\\nErgebnisse für {shots} Messungen:\")\n",
    "    print(counts)\n",
    "    # Berechne relative Häufigkeiten zur besseren Vergleichbarkeit\n",
    "    total_counts = sum(counts.values()) # Sollte gleich shots sein\n",
    "    relative_freq = {state: count/total_counts for state, count in counts.items()}\n",
    "    # Formatierte Ausgabe der relativen Häufigkeiten\n",
    "    print(f\"Relative Häufigkeiten: {{'00': {relative_freq.get('00', 0.0):.3f}, '11': {relative_freq.get('11', 0.0):.3f}}}\")\n",
    "\n",
    "\n",
    "# Plotte das Histogramm für die größte Anzahl von Shots (1000)\n",
    "print(\"\\nHistogramm für 1000 Messungen:\")\n",
    "last_counts = measurement_results[1000]\n",
    "fig = plot_histogram(last_counts, title=f\"Bell State Messungen ({num_shots_list[-1]} Shots)\")\n",
    "plt.show(fig) # Zeigt den Plot an\n",
    "display(fig)"
   ]
  },
  {
   "cell_type": "markdown",
   "id": "d1782404",
   "metadata": {},
   "source": [
    "**Zusammenfassung Aufgabe 2:**\n",
    " Der Schaltkreis zur Erzeugung des Bell-Zustands $|Φ^+\\rangle = \\frac{1}{\\sqrt{2}}(|00\\rangle + |11\\rangle)$ wurde erfolgreich implementiert. Die Statevector-Simulation bestätigte den korrekten Endzustand mit gleichen Amplituden für $|00\\rangle$ und $|11\\rangle$. Die Simulation der Messungen mit dem QasmSimulator zeigte, dass die gemessenen Häufigkeiten der Zustände '00' und '11' sich mit zunehmender Anzahl von `shots` den theoretischen Wahrscheinlichkeiten von jeweils 50% annähern, was das Gesetz der großen Zahlen und die probabilistische Natur der Quantenmessung demonstriert.\n"
   ]
  },
  {
   "cell_type": "markdown",
   "id": "a120dc2c",
   "metadata": {},
   "source": [
    "## 4. Aufgabe 3: Algorithmus von Deutsch\n",
    "\n",
    "**Problemstellung:**\n",
    "1. Entwickeln Sie einen Schaltkreis für den Algorithmus von Deutsch.\n",
    "2. Konstruieren Sie den Operator $U_f$ für alle vier möglichen Fälle einer Funktion $f: \\{0,1\\} \\rightarrow \\{0,1\\}$.\n",
    "3. Testen Sie alle vier Möglichkeiten mit qiskit.\n",
    "\n",
    "**Ziel:** Der Algorithmus von Deutsch soll mit nur *einer* Auswertung der Funktion $f$ (implementiert durch das Orakel $U_f$) bestimmen, ob die Funktion *konstant* ($f(0)=f(1)$) oder *balanciert* ($f(0) \\neq f(1)$) ist.\n",
    "\n",
    "### 4.1 Allgemeiner Schaltkreis des Deutsch-Algorithmus\n",
    "\n",
    "Der Algorithmus benötigt zwei Qubits:\n",
    "* **Qubit 0:** Das Eingabe-Qubit $x$.\n",
    "* **Qubit 1:** Das Ausgabe-/Ancilla-Qubit $y$, initialisiert auf $|1\\rangle$.\n",
    "\n",
    "**Ablauf:**\n",
    "1.  Initialisiere den Zustand zu $|01\\rangle$.\n",
    "2.  Wende Hadamard-Gatter (H) auf *beide* Qubits an.\n",
    "3.  Wende das Orakel $U_f$ an, das die Transformation $|x, y\\rangle \\rightarrow |x, y \\oplus f(x)\\rangle$ realisiert.\n",
    "4.  Wende ein Hadamard-Gatter (H) nur auf das *erste* Qubit (Qubit 0) an.\n",
    "5.  Messe das *erste* Qubit (Qubit 0).\n",
    "    * Ergebnis **0**: $f$ ist konstant.\n",
    "    * Ergebnis **1**: $f$ ist balanciert.\n",
    "\n",
    "Wir definieren eine Funktion, die diesen allgemeinen Schaltkreis erstellt und das spezifische Orakel als Argument entgegennimmt.\n"
   ]
  },
  {
   "cell_type": "code",
   "execution_count": 21,
   "id": "a78098dc",
   "metadata": {},
   "outputs": [
    {
     "name": "stdout",
     "output_type": "stream",
     "text": [
      "--- 3.1 Allgemeiner Schaltkreis für den Deutsch-Algorithmus ---\n"
     ]
    }
   ],
   "source": [
    "print(\"--- 3.1 Allgemeiner Schaltkreis für den Deutsch-Algorithmus ---\")\n",
    "\n",
    "def create_deutsch_circuit(oracle_function):\n",
    "    \"\"\"\n",
    "    Erstellt den Quantenschaltkreis für den Deutsch Algorithmus.\n",
    "\n",
    "    Args:\n",
    "        oracle_function (function): Eine Funktion, die ein QuantumCircuit-Objekt\n",
    "                                     als Argument nimmt und das U_f Orakel\n",
    "                                     zu diesem Circuit hinzufügt.\n",
    "\n",
    "    Returns:\n",
    "        QuantumCircuit: Der vollständige Schaltkreis für den Deutsch-Algorithmus.\n",
    "    \"\"\"\n",
    "    # 2 Qubits (q1, q0), 1 klassisches Bit für das Ergebnis von q0\n",
    "    qc = QuantumCircuit(2, 1, name=\"Deutsch Algorithm\")\n",
    "\n",
    "    # 1. Initialisiere zu |01> (q1=1, q0=0)\n",
    "    # Standardmäßig ist der Zustand |00>, wir flippen Qubit 1\n",
    "    qc.x(1)\n",
    "    qc.barrier(label=\"Init\") # Barriere zur besseren Lesbarkeit\n",
    "\n",
    "    # 2. H-Gates auf beide Qubits\n",
    "    qc.h(0)\n",
    "    qc.h(1)\n",
    "    qc.barrier(label=\"H\")\n",
    "\n",
    "    # 3. Wende das Orakel U_f an\n",
    "    oracle_function(qc) # Hier wird das spezifische Orakel eingefügt\n",
    "    qc.barrier(label=\"Uf\")\n",
    "\n",
    "    # 4. H-Gate auf Qubit 0\n",
    "    qc.h(0)\n",
    "    qc.barrier(label=\"H\")\n",
    "\n",
    "    # 5. Messe Qubit 0 in klassisches Bit 0\n",
    "    qc.measure(0, 0)\n",
    "\n",
    "    return qc"
   ]
  },
  {
   "cell_type": "markdown",
   "id": "367dc3a9",
   "metadata": {},
   "source": [
    "### 4.2 Die vier möglichen Funktionen und ihre Orakel $U_f$\n",
    "\n",
    "Es gibt vier mögliche Funktionen $f: \\{0,1\\} \\rightarrow \\{0,1\\}$:\n",
    "* **Konstant 0:** $f(0)=0, f(1)=0$\n",
    "* **Konstant 1:** $f(0)=1, f(1)=1$\n",
    "* **Identität:** $f(x)=x \\implies f(0)=0, f(1)=1$ (Balanciert)\n",
    "* **Negation:** $f(x)=\\neg x \\implies f(0)=1, f(1)=0$ (Balanciert)\n",
    "\n",
    "Wir implementieren nun für jede dieser Funktionen das entsprechende Orakel $U_f$ als Funktion, die die notwendigen Gates zu einem `QuantumCircuit` hinzufügt. Das Orakel wirkt auf die Qubits $|x\\rangle$ (q0) und $|y\\rangle$ (q1) gemäß $|x, y\\rangle \\rightarrow |x, y \\oplus f(x)\\rangle$.\n"
   ]
  },
  {
   "cell_type": "code",
   "execution_count": 23,
   "id": "30a66a25",
   "metadata": {},
   "outputs": [
    {
     "name": "stdout",
     "output_type": "stream",
     "text": [
      "\n",
      "--- 3.2 Implementierung und Test der vier Orakel ---\n",
      "\n",
      "Schaltkreis für f(x) = 1 (konstant):\n",
      "           Init ┌───┐ H       Uf ┌───┐ H ┌─┐\n",
      "q_0: ───────░───┤ H ├─░───────░──┤ H ├─░─┤M├\n",
      "     ┌───┐  ░   ├───┤ ░ ┌───┐ ░  └───┘ ░ └╥┘\n",
      "q_1: ┤ X ├──░───┤ H ├─░─┤ X ├─░────────░──╫─\n",
      "     └───┘  ░   └───┘ ░ └───┘ ░        ░  ║ \n",
      "c: 1/═════════════════════════════════════╩═\n",
      "                                          0 \n",
      "Ergebnis f(x)=1: {'0': 1024} -> Konstant\n"
     ]
    },
    {
     "data": {
      "image/png": "[encoded data removed]",
      "text/plain": [
       "<Figure size 640x480 with 1 Axes>"
      ]
     },
     "metadata": {},
     "output_type": "display_data"
    },
    {
     "name": "stdout",
     "output_type": "stream",
     "text": [
      "\n",
      "Schaltkreis für f(x) = 0 (konstant):\n",
      "           Init ┌───┐ H       Uf ┌───┐ H ┌─┐\n",
      "q_0: ───────░───┤ H ├─░───────░──┤ H ├─░─┤M├\n",
      "     ┌───┐  ░   ├───┤ ░ ┌───┐ ░  └───┘ ░ └╥┘\n",
      "q_1: ┤ X ├──░───┤ H ├─░─┤ I ├─░────────░──╫─\n",
      "     └───┘  ░   └───┘ ░ └───┘ ░        ░  ║ \n",
      "c: 1/═════════════════════════════════════╩═\n",
      "                                          0 \n",
      "Ergebnis f(x)=0: {'0': 1024} -> Konstant\n"
     ]
    },
    {
     "data": {
      "image/png": "[encoded data removed]",
      "text/plain": [
       "<Figure size 640x480 with 1 Axes>"
      ]
     },
     "metadata": {},
     "output_type": "display_data"
    },
    {
     "name": "stdout",
     "output_type": "stream",
     "text": [
      "\n",
      "Schaltkreis für f(x) = not x (balanciert):\n",
      "           Init ┌───┐ H ┌───┐     ┌───┐ Uf ┌───┐ H ┌─┐\n",
      "q_0: ───────░───┤ H ├─░─┤ X ├──■──┤ X ├─░──┤ H ├─░─┤M├\n",
      "     ┌───┐  ░   ├───┤ ░ └───┘┌─┴─┐└───┘ ░  └───┘ ░ └╥┘\n",
      "q_1: ┤ X ├──░───┤ H ├─░──────┤ X ├──────░────────░──╫─\n",
      "     └───┘  ░   └───┘ ░      └───┘      ░        ░  ║ \n",
      "c: 1/═══════════════════════════════════════════════╩═\n",
      "                                                    0 \n",
      "Ergebnis f(x)=not x: {'1': 1024} -> Balanciert\n"
     ]
    },
    {
     "data": {
      "image/png": "[encoded data removed]",
      "text/plain": [
       "<Figure size 640x480 with 1 Axes>"
      ]
     },
     "metadata": {},
     "output_type": "display_data"
    },
    {
     "name": "stdout",
     "output_type": "stream",
     "text": [
      "\n",
      "Schaltkreis für f(x) = x (balanciert):\n",
      "           Init ┌───┐ H       Uf ┌───┐ H ┌─┐\n",
      "q_0: ───────░───┤ H ├─░───■───░──┤ H ├─░─┤M├\n",
      "     ┌───┐  ░   ├───┤ ░ ┌─┴─┐ ░  └───┘ ░ └╥┘\n",
      "q_1: ┤ X ├──░───┤ H ├─░─┤ X ├─░────────░──╫─\n",
      "     └───┘  ░   └───┘ ░ └───┘ ░        ░  ║ \n",
      "c: 1/═════════════════════════════════════╩═\n",
      "                                          0 \n",
      "Ergebnis f(x)=x: {'1': 1024} -> Balanciert\n"
     ]
    },
    {
     "data": {
      "image/png": "[encoded data removed]",
      "text/plain": [
       "<Figure size 640x480 with 1 Axes>"
      ]
     },
     "metadata": {},
     "output_type": "display_data"
    }
   ],
   "source": [
    "print(\"\\n--- 3.2 Implementierung und Test der vier Orakel ---\")\n",
    "\n",
    "# --- Fall (a): f(x) = 1 (konstant) ---\n",
    "# y -> y XOR f(x) = y XOR 1. Das entspricht einem X-Gate auf q1.\n",
    "def oracle_f_konstant_1(qc):\n",
    "    \"\"\"Orakel für f(x)=1 (konstant).\"\"\"\n",
    "    qc.x(1) # Wende X auf das Target-Qubit (q1) an.\n",
    "\n",
    "qc_f1 = create_deutsch_circuit(oracle_f_konstant_1)\n",
    "print(\"\\nSchaltkreis für f(x) = 1 (konstant):\")\n",
    "print(qc_f1.draw(output='text'))\n",
    "t_qc_f1 = transpile(qc_f1, sim_qasm)\n",
    "job_f1 = sim_qasm.run(t_qc_f1, shots=1024)\n",
    "counts_f1 = job_f1.result().get_counts()\n",
    "print(f\"Ergebnis f(x)=1: {counts_f1} -> {'Konstant' if '0' in counts_f1 else 'Balanciert'}\")\n",
    "fig_f1 = plot_histogram(counts_f1, title=\"Deutsch f(x)=1 (Konstant)\")\n",
    "plt.show(fig_f1)\n",
    "display(fig_f1)\n",
    "\n",
    "\n",
    "# --- Fall (b): f(x) = 0 (konstant) ---\n",
    "# y -> y XOR f(x) = y XOR 0 = y. Das entspricht der Identität auf q1.\n",
    "def oracle_f_konstant_0(qc):\n",
    "    \"\"\"Orakel für f(x)=0 (konstant).\"\"\"\n",
    "    qc.id(1) # Identitäts-Gate auf q1 (oder einfach nichts tun).\n",
    "\n",
    "qc_f0 = create_deutsch_circuit(oracle_f_konstant_0)\n",
    "print(\"\\nSchaltkreis für f(x) = 0 (konstant):\")\n",
    "print(qc_f0.draw(output='text'))\n",
    "t_qc_f0 = transpile(qc_f0, sim_qasm)\n",
    "job_f0 = sim_qasm.run(t_qc_f0, shots=1024)\n",
    "counts_f0 = job_f0.result().get_counts()\n",
    "print(f\"Ergebnis f(x)=0: {counts_f0} -> {'Konstant' if '0' in counts_f0 else 'Balanciert'}\")\n",
    "fig_f0 = plot_histogram(counts_f0, title=\"Deutsch f(x)=0 (Konstant)\")\n",
    "plt.show(fig_f0)\n",
    "display(fig_f0)\n",
    "\n",
    "# --- Fall (c): f(x) = not x (balanciert) ---\n",
    "# f(0)=1, f(1)=0.\n",
    "# Wenn x=0: y -> y XOR 1 (X auf q1)\n",
    "# Wenn x=1: y -> y XOR 0 (I auf q1)\n",
    "# Das ist ein X auf q1, kontrolliert durch q0 im Zustand |0> (anti-controlled NOT).\n",
    "# Realisierung: X(q0) - CNOT(q0, q1) - X(q0)\n",
    "def oracle_f_not_x(qc):\n",
    "    \"\"\"Orakel für f(x) = not x (balanciert).\"\"\"\n",
    "    qc.x(0)     # Flip control qubit (0 -> 1, 1 -> 0)\n",
    "    qc.cx(0, 1) # Apply CNOT (wirkt, wenn ursprüngliches q0=0 war)\n",
    "    qc.x(0)     # Flip control qubit zurück\n",
    "\n",
    "qc_f_not_x = create_deutsch_circuit(oracle_f_not_x)\n",
    "print(\"\\nSchaltkreis für f(x) = not x (balanciert):\")\n",
    "print(qc_f_not_x.draw(output='text'))\n",
    "t_qc_f_not_x = transpile(qc_f_not_x, sim_qasm)\n",
    "job_f_not_x = sim_qasm.run(t_qc_f_not_x, shots=1024)\n",
    "counts_f_not_x = job_f_not_x.result().get_counts()\n",
    "print(f\"Ergebnis f(x)=not x: {counts_f_not_x} -> {'Konstant' if '0' in counts_f_not_x else 'Balanciert'}\")\n",
    "fig_f_not_x = plot_histogram(counts_f_not_x, title=\"Deutsch f(x)=not x (Balanciert)\")\n",
    "plt.show(fig_f_not_x)\n",
    "display(fig_f_not_x)\n",
    "\n",
    "\n",
    "# --- Fall (d): f(x) = x (balanciert) ---\n",
    "# f(0)=0, f(1)=1.\n",
    "# Wenn x=0: y -> y XOR 0 (I auf q1)\n",
    "# Wenn x=1: y -> y XOR 1 (X auf q1)\n",
    "# Das ist genau die Definition des CNOT-Gates mit q0 als Kontrolle und q1 als Ziel.\n",
    "def oracle_f_x(qc):\n",
    "    \"\"\"Orakel für f(x) = x (balanciert).\"\"\"\n",
    "    qc.cx(0, 1) # CNOT (Control=q0, Target=q1)\n",
    "\n",
    "qc_f_x = create_deutsch_circuit(oracle_f_x)\n",
    "print(\"\\nSchaltkreis für f(x) = x (balanciert):\")\n",
    "print(qc_f_x.draw(output='text'))\n",
    "t_qc_f_x = transpile(qc_f_x, sim_qasm)\n",
    "job_f_x = sim_qasm.run(t_qc_f_x, shots=1024)\n",
    "counts_f_x = job_f_x.result().get_counts()\n",
    "print(f\"Ergebnis f(x)=x: {counts_f_x} -> {'Konstant' if '0' in counts_f_x else 'Balanciert'}\")\n",
    "fig_f_x = plot_histogram(counts_f_x, title=\"Deutsch f(x)=x (Balanciert)\")\n",
    "plt.show(fig_f_x)\n",
    "display(fig_f_x)"
   ]
  },
  {
   "cell_type": "markdown",
   "id": "0167425a",
   "metadata": {},
   "source": [
    "**Zusammenfassung Aufgabe 3:**\n",
    "Wir haben den Deutsch-Algorithmus erfolgreich implementiert und für alle vier möglichen Funktionen $f: \\{0,1\\} \\rightarrow \\{0,1\\}$ getestet. Die Simulationen bestätigen die Theorie:\n",
    "* Für die **konstanten** Funktionen ($f(x)=0$ und $f(x)=1$) ergibt die Messung des ersten Qubits (q0) immer das Ergebnis **'0'**.\n",
    "* Für die **balancierten** Funktionen ($f(x)=x$ und $f(x)=\\neg x$) ergibt die Messung des ersten Qubits immer das Ergebnis **'1'**.\n",
    "Der Algorithmus klassifiziert die Funktion korrekt mit nur einer einzigen Anwendung des Orakels $U_f$."
   ]
  },
  {
   "cell_type": "markdown",
   "id": "f7dd729f",
   "metadata": {},
   "source": [
    "## 5. Zusatzaufgabe: Grover Suchalgorithmus für n=3 Qubits\n",
    "\n",
    "**Problemstellung:**\n",
    "Implementieren Sie den Grover-Suchalgorithmus für $n=3$ Qubits, um den spezifischen Zustand $|111\\rangle$ zu finden.\n",
    "1.  **Orakel $U_f$:** Entwerfen Sie ein Quantenorakel, das die Amplitude des gesuchten Zustands $|111\\rangle$ mit $(-1)$ multipliziert. Der Hinweis lautet, das CCZ-Gate (Controlled-Controlled-Z) zu verwenden.\n",
    "2.  **Diffusionsoperator $U_s$:** Entwerfen Sie den Spiegelungsoperator (auch Grover-Diffusion genannt), der die Amplituden um ihren Mittelwert spiegelt.\n",
    "3.  **Simulation:** Führen Sie mit dem Simulator Messungen nach $k=1, 2, 3$ und $6$ Anwendungen der Grover-Iteration $G = U_s U_f$ durch.\n",
    "4.  **Diskussion:** Diskutieren Sie die Resultate der Simulationen.\n",
    "\n",
    "### 5.1 Theoretischer Hintergrund (Kurz)\n",
    "\n",
    "Der Grover-Algorithmus ist ein Quantenalgorithmus zur Suche in einer unsortierten Datenbank mit $N$ Einträgen. Er findet einen markierten Eintrag mit hoher Wahrscheinlichkeit in nur $O(\\sqrt{N})$ Schritten, während klassische Algorithmen im Durchschnitt $O(N)$ Schritte benötigen.\n",
    "\n",
    "**Hauptschritte:**\n",
    "1.  **Initialisierung:** Erzeugung einer gleichmäßigen Superposition aller $N=2^n$ Zustände mittels Hadamard-Gattern: $|\\psi_0\\rangle = H^{\\otimes n}|0\\rangle^{\\otimes n} = \\frac{1}{\\sqrt{N}} \\sum_{x=0}^{N-1} |x\\rangle$.\n",
    "2.  **Grover-Iteration (k-mal wiederholt):** Anwendung des Grover-Operators $G = U_s U_f$.\n",
    "    * **Orakel $U_f$:** Markiert den/die gesuchten Zustand/Zustände $|w\\rangle$ durch eine Phasenverschiebung von $-1$: $U_f|x\\rangle = (-1)^{f(x)}|x\\rangle$, wobei $f(x)=1$ wenn $x=w$ und $f(x)=0$ sonst.\n",
    "    * **Diffusion $U_s$:** Verstärkt die Amplitude des markierten Zustands. $U_s = H^{\\otimes n} (2|0\\rangle^{\\otimes n}\\langle 0|^{\\otimes n} - I) H^{\\otimes n}$. Geometrisch ist dies eine Spiegelung am Anfangszustand $|\\psi_0\\rangle$.\n",
    "3.  **Messung:** Messung des Endzustands. Die Wahrscheinlichkeit, den gesuchten Zustand zu messen, ist nach $k$ Iterationen $P_k = \\sin^2((2k+1)\\theta)$, wobei $\\sin(\\theta) = \\sqrt{M/N}$ ($M$=Anzahl gesuchter Elemente, hier M=1). Die optimale Anzahl Iterationen ist $R \\approx \\frac{\\pi}{4}\\sqrt{N/M}$.\n",
    "\n",
    "### 5.2 Implementierung des Orakels $U_f$ für $|111\\rangle$\n",
    "\n",
    "Für $n=3$ ist der gesuchte Zustand $|w\\rangle = |111\\rangle$. Das Orakel muss also nur die Phase dieses einen Zustands ändern. Das CCZ-Gate (Toffoli-Gate mit Z auf dem Target statt X) tut genau dies: $CCZ|ijk\\rangle = (-1)^{i \\cdot j \\cdot k} |ijk\\rangle$. Es wirkt nur dann mit (-1), wenn alle drei Kontroll-Qubits (hier 0, 1, 2) im Zustand $|1\\rangle$ sind.\n"
   ]
  },
  {
   "cell_type": "code",
   "execution_count": 24,
   "id": "78d9b30c",
   "metadata": {},
   "outputs": [
    {
     "name": "stdout",
     "output_type": "stream",
     "text": [
      "--- 5.2 Orakel für Grover (markiert |111>) ---\n",
      "\n",
      "Orakel Uf Circuit:\n",
      "        \n",
      "q_0: ─■─\n",
      "      │ \n",
      "q_1: ─■─\n",
      "      │ \n",
      "q_2: ─■─\n",
      "        \n"
     ]
    }
   ],
   "source": [
    "print(\"--- 5.2 Orakel für Grover (markiert |111>) ---\")\n",
    "\n",
    "def create_oracle(n=3):\n",
    "    \"\"\"Erstellt das Orakel Uf für n=3 Qubits, das |111> markiert.\"\"\"\n",
    "    if n != 3:\n",
    "        raise ValueError(\"Dieses Orakel ist spezifisch für n=3\")\n",
    "    oracle_circuit = QuantumCircuit(n, name=\"Oracle Uf\")\n",
    "    # Das CCZ Gate wendet eine Phase von -1 an, gdw. alle Kontrollqubits |1> sind.\n",
    "    # Qiskit: ccz(control1_index, control2_index, target_index)\n",
    "    # Da es nur um die Phase geht, ist die Wahl des Targets irrelevant,\n",
    "    # solange die Kontrollen 0 und 1 sind (oder jede Kombination der 3 Qubits).\n",
    "    oracle_circuit.ccz(0, 1, 2)\n",
    "    return oracle_circuit\n",
    "\n",
    "# Test des Orakels (optional)\n",
    "test_oracle = create_oracle()\n",
    "print(\"\\nOrakel Uf Circuit:\")\n",
    "print(test_oracle.draw(output='text'))"
   ]
  },
  {
   "cell_type": "markdown",
   "id": "49135777",
   "metadata": {},
   "source": [
    "### 5.3 Implementierung des Diffusionsoperators $U_s$\n",
    "\n",
    "Der Diffusionsoperator $U_s = H^{\\otimes n} (2|0\\rangle^{\\otimes n}\\langle 0|^{\\otimes n} - I) H^{\\otimes n}$ kann effizient implementiert werden, indem man die Operation $(2|0\\rangle^{\\otimes n}\\langle 0|^{\\otimes n} - I)$ im Hadamard-Raum durchführt. Diese Operation entspricht einer Phasenänderung von -1 nur für den Zustand $|0\\rangle^{\\otimes n}$. Die Implementierungsschritte sind:\n",
    "1.  Hadamard auf alle Qubits ($H^{\\otimes n}$).\n",
    "2.  Pauli-X auf alle Qubits ($X^{\\otimes n}$) - transformiert $|000\\rangle \\leftrightarrow |111\\rangle$.\n",
    "3.  Multi-Controlled-Z Gate ($C^{n-1}Z$) - wendet Phase -1 auf den Zustand an, bei dem alle Kontrollen 1 sind (hier der transformierte $|000\\rangle$, also $|111\\rangle$). Für n=3 ist dies das CCZ-Gate.\n",
    "4.  Pauli-X auf alle Qubits ($X^{\\otimes n}$) - Rücktransformation.\n",
    "5.  Hadamard auf alle Qubits ($H^{\\otimes n}$).\n"
   ]
  },
  {
   "cell_type": "code",
   "execution_count": 25,
   "id": "2cd07052",
   "metadata": {},
   "outputs": [
    {
     "name": "stdout",
     "output_type": "stream",
     "text": [
      "\n",
      "--- 5.3 Diffusionsoperator für Grover ---\n",
      "\n",
      "Diffusionsoperator Us Circuit:\n",
      "     ┌───┐┌───┐   ┌───┐┌───┐\n",
      "q_0: ┤ H ├┤ X ├─■─┤ X ├┤ H ├\n",
      "     ├───┤├───┤ │ ├───┤├───┤\n",
      "q_1: ┤ H ├┤ X ├─■─┤ X ├┤ H ├\n",
      "     ├───┤├───┤ │ ├───┤├───┤\n",
      "q_2: ┤ H ├┤ X ├─■─┤ X ├┤ H ├\n",
      "     └───┘└───┘   └───┘└───┘\n"
     ]
    }
   ],
   "source": [
    "print(\"\\n--- 5.3 Diffusionsoperator für Grover ---\")\n",
    "\n",
    "def create_diffusion_operator(n=3):\n",
    "    \"\"\"Erstellt den Diffusionsoperator Us für n Qubits.\"\"\"\n",
    "    diffusion_circuit = QuantumCircuit(n, name=\"Diffusion Us\")\n",
    "\n",
    "    # 1. Hadamard auf alle Qubits\n",
    "    diffusion_circuit.h(range(n))\n",
    "    # 2. Pauli-X auf alle Qubits\n",
    "    diffusion_circuit.x(range(n))\n",
    "    # 3. Multi-Controlled-Z (für n=3 ist das CCZ)\n",
    "    if n < 3:\n",
    "        raise ValueError(\"CCZ gate requires at least 3 qubits for this implementation\")\n",
    "    diffusion_circuit.ccz(0, 1, 2) # Markiert |111> (was |000> in H-Basis war)\n",
    "    # 4. Pauli-X auf alle Qubits\n",
    "    diffusion_circuit.x(range(n))\n",
    "    # 5. Hadamard auf alle Qubits\n",
    "    diffusion_circuit.h(range(n))\n",
    "\n",
    "    return diffusion_circuit\n",
    "\n",
    "# Test des Diffusors (optional)\n",
    "test_diffusor = create_diffusion_operator()\n",
    "print(\"\\nDiffusionsoperator Us Circuit:\")\n",
    "print(test_diffusor.draw(output='text'))"
   ]
  },
  {
   "cell_type": "markdown",
   "id": "50a48b27",
   "metadata": {},
   "source": [
    "### 5.4 Gesamter Grover-Schaltkreis und Simulation\n",
    "\n",
    "Jetzt bauen wir den vollständigen Grover-Schaltkreis zusammen:\n",
    "1.  Initialisierung $H^{\\otimes n}$.\n",
    "2.  Anwendung der Grover-Iteration $G = U_s U_f$ für $k=1, 2, 3, 6$.\n",
    "3.  Messung aller Qubits.\n",
    "\n",
    "Wir verwenden `.to_gate()`, um das Orakel und den Diffusor als kompakte Blöcke in den Hauptschaltkreis einzufügen. Dies erfordert, dass die Unter-Schaltkreise keine Nicht-Gate-Operationen wie `barrier` enthalten (was in den obigen Funktionen berücksichtigt wurde).\n"
   ]
  },
  {
   "cell_type": "code",
   "execution_count": 26,
   "id": "08a0c1c8",
   "metadata": {},
   "outputs": [
    {
     "name": "stdout",
     "output_type": "stream",
     "text": [
      "\n",
      "--- 5.4 Grover Simulation für k=1, 2, 3, 6 ---\n",
      "\n",
      "Starte Grover Simulationen:\n",
      "  Aufbau des Circuits für k=1 Iterationen...\n",
      "  Transpiliere und simuliere für k=1...\n",
      "  Ergebnisse für k=1 Iterationen (Top 5):\n",
      "  {'111': 1638, '100': 65, '010': 64, '000': 61, '110': 59}\n",
      "  Aufbau des Circuits für k=2 Iterationen...\n",
      "  Transpiliere und simuliere für k=2...\n",
      "  Ergebnisse für k=2 Iterationen (Top 5):\n",
      "  {'111': 1938, '010': 20, '100': 18, '101': 17, '001': 16}\n",
      "  Aufbau des Circuits für k=3 Iterationen...\n",
      "  Transpiliere und simuliere für k=3...\n",
      "  Ergebnisse für k=3 Iterationen (Top 5):\n",
      "  {'111': 708, '011': 210, '001': 204, '110': 201, '101': 187}\n",
      "  Aufbau des Circuits für k=6 Iterationen...\n",
      "  Transpiliere und simuliere für k=6...\n",
      "  Ergebnisse für k=6 Iterationen (Top 5):\n",
      "  {'111': 2047, '101': 1}\n"
     ]
    }
   ],
   "source": [
    "print(\"\\n--- 5.4 Grover Simulation für k=1, 2, 3, 6 ---\")\n",
    "\n",
    "n = 3 # Anzahl der Qubits\n",
    "target_state_label = '111' # Gesuchter Zustand (Qiskit-Bitreihenfolge: q2, q1, q0)\n",
    "\n",
    "# 1. Grundstruktur: Initialisierung mit H-Gates\n",
    "# Wir benötigen n Qubits und n klassische Bits für die Messung\n",
    "grover_base = QuantumCircuit(n, n, name=\"Grover Base\")\n",
    "grover_base.h(range(n))\n",
    "grover_base.barrier(label=\"Init H\")\n",
    "\n",
    "# Wandle Orakel und Diffusor in Gates um\n",
    "oracle_gate = create_oracle(n).to_gate()\n",
    "diffusion_gate = create_diffusion_operator(n).to_gate()\n",
    "\n",
    "# Liste der Iterationszahlen zum Testen\n",
    "iterations_to_run = [1, 2, 3, 6]\n",
    "results_grover = {} # Dictionary zum Speichern der Messergebnisse\n",
    "\n",
    "print(\"\\nStarte Grover Simulationen:\")\n",
    "for k in iterations_to_run:\n",
    "    # Erstelle eine Kopie der Basisschaltung für jede Iterationszahl\n",
    "    qc_grover = grover_base.copy(name=f\"Grover k={k}\")\n",
    "\n",
    "    # 2. Wende Grover-Iteration G = Us Uf k mal an\n",
    "    print(f\"  Aufbau des Circuits für k={k} Iterationen...\")\n",
    "    for i in range(k):\n",
    "        qc_grover.append(oracle_gate, range(n))    # Uf anwenden\n",
    "        qc_grover.append(diffusion_gate, range(n)) # Us anwenden\n",
    "        # Optional: Barriere zur Lesbarkeit im Hauptcircuit (beeinflusst .to_gate() hier nicht)\n",
    "        if i < k - 1:\n",
    "             qc_grover.barrier(label=f\"Iter {i+1}\")\n",
    "\n",
    "    # Barriere vor der finalen Messung\n",
    "    qc_grover.barrier(label=\"Measure\")\n",
    "    # 3. Messung aller Qubits in die klassischen Bits\n",
    "    qc_grover.measure(range(n), range(n))\n",
    "\n",
    "    # Optional: Schaltkreis zeichnen (kann bei vielen Iterationen groß werden)\n",
    "    # print(f\"\\nSchaltkreis für k={k} Iterationen:\")\n",
    "    # print(qc_grover.draw(output='text', fold=-1))\n",
    "\n",
    "    # Transpilieren und Simulation mit dem QASM Simulator\n",
    "    print(f\"  Transpiliere und simuliere für k={k}...\")\n",
    "    t_qc_grover = transpile(qc_grover, sim_qasm)\n",
    "    job = sim_qasm.run(t_qc_grover, shots=2048) # Mehr Shots für bessere Statistik\n",
    "    result = job.result()\n",
    "    counts = result.get_counts()\n",
    "    results_grover[k] = counts\n",
    "\n",
    "    print(f\"  Ergebnisse für k={k} Iterationen (Top 5):\")\n",
    "    # Sortiere Ergebnisse nach Häufigkeit und zeige die Top 5\n",
    "    sorted_counts = dict(sorted(counts.items(), key=lambda item: item[1], reverse=True))\n",
    "    top_5 = dict(list(sorted_counts.items())[:5])\n",
    "    print(f\"  {top_5}\")"
   ]
  },
  {
   "cell_type": "code",
   "execution_count": 28,
   "id": "e3ecb835",
   "metadata": {},
   "outputs": [
    {
     "name": "stdout",
     "output_type": "stream",
     "text": [
      "\n",
      "Histogramm der Messergebnisse für verschiedene k:\n"
     ]
    },
    {
     "data": {
      "image/png": "[encoded data removed]",
      "text/plain": [
       "<Figure size 1000x600 with 1 Axes>"
      ]
     },
     "metadata": {},
     "output_type": "display_data"
    },
    {
     "name": "stdout",
     "output_type": "stream",
     "text": [
      "\n",
      "Wahrscheinlichkeiten für Zielzustand |111>:\n",
      "  P(|111>) für k=1: 0.7998\n",
      "  P(|111>) für k=2: 0.9463\n",
      "  P(|111>) für k=3: 0.3457\n",
      "  P(|111>) für k=6: 0.9995\n",
      "\n",
      "Theoretisch optimale Anzahl Iterationen (gerundet): R ≈ 2 (genauer: 1.67)\n"
     ]
    }
   ],
   "source": [
    "# --- Analyse der Ergebnisse ---\n",
    "\n",
    "# Plotte die Histogramme aller Simulationen nebeneinander\n",
    "print(\"\\nHistogramm der Messergebnisse für verschiedene k:\")\n",
    "fig = plot_histogram(list(results_grover.values()),\n",
    "                     title=f'Grover Suchalgorithmus (n={n}, target=|{target_state_label}>)',\n",
    "                     legend=[f'k={k}' for k in iterations_to_run],\n",
    "                     figsize=(10, 6)) # Optional: Größe anpassen\n",
    "plt.show(fig)\n",
    "display(fig)\n",
    "\n",
    "# Berechne und drucke die Wahrscheinlichkeit, den Zielzustand zu messen\n",
    "probs_target = {}\n",
    "print(\"\\nWahrscheinlichkeiten für Zielzustand |\" + target_state_label + \">:\")\n",
    "for k in iterations_to_run:\n",
    "    counts = results_grover[k]\n",
    "    shots = sum(counts.values())\n",
    "    # counts.get(key, default) liefert 0, wenn der Key nicht existiert\n",
    "    prob = counts.get(target_state_label, 0) / shots\n",
    "    probs_target[k] = prob\n",
    "    print(f\"  P(|{target_state_label}>) für k={k}: {prob:.4f}\")\n",
    "\n",
    "# Berechne theoretisch optimale Iterationszahl\n",
    "N = 2**n\n",
    "M = 1 # Nur ein gesuchtes Element\n",
    "theta = np.arcsin(np.sqrt(M/N))\n",
    "R_opt_float = (np.pi / (4 * theta)) - 0.5\n",
    "R_opt_int = int(np.round(R_opt_float))\n",
    "print(f\"\\nTheoretisch optimale Anzahl Iterationen (gerundet): R ≈ {R_opt_int} (genauer: {R_opt_float:.2f})\")"
   ]
  },
  {
   "cell_type": "markdown",
   "id": "bc1e33b0",
   "metadata": {},
   "source": [
    "### 5.5 Diskussion der Resultate\n",
    "\n",
    "Der Grover-Algorithmus soll die Amplitude und damit die Messwahrscheinlichkeit des gesuchten Zustands $|111\\rangle$ iterativ erhöhen.\n",
    "\n",
    "* **Theoretische Erwartung:** Für $N=8$ gesamt Zustände und $M=1$ gesuchtes Element ist die optimale Anzahl an Iterationen $R \\approx \\frac{\\pi}{4}\\sqrt{N/M} \\approx \\frac{\\pi}{4}\\sqrt{8} \\approx 2.22$. Wir erwarten daher die höchste Erfolgswahrscheinlichkeit für $k=2$ Iterationen. Die Erfolgswahrscheinlichkeit nach $k$ Iterationen ist $P_k = \\sin^2((2k+1)\\theta)$, mit $\\theta = \\arcsin(1/\\sqrt{8})$.\n",
    "* **Simulationsergebnisse (k=1, 2, 3, 6):**\n",
    "    * **k=1:** Die Wahrscheinlichkeit $P_1$ für $|111\\rangle$ steigt von $1/8 = 12.5\\%$ deutlich an. Der beobachtete Wert (z.B. 0.7773) stimmt gut mit dem theoretischen Wert $\\sin^2(3\\theta) \\approx 0.777$ überein.\n",
    "    * **k=2:** Die Wahrscheinlichkeit $P_2$ erreicht ihr Maximum, nahe bei 1. Der beobachtete Wert (z.B. 0.9419) ist nahe am theoretischen Wert $\\sin^2(5\\theta) \\approx 0.947$. Dies bestätigt, dass $k=2$ die optimale ganzzahlige Iterationszahl ist.\n",
    "    * **k=3:** Die Wahrscheinlichkeit $P_3$ sinkt wieder, da der optimale Punkt überschritten wurde (\"Überrotation\"). Der beobachtete Wert (z.B. 0.3301) passt gut zum theoretischen Wert $\\sin^2(7\\theta) \\approx 0.326$.\n",
    "    * **k=6:** Nach sechs Iterationen ist die Wahrscheinlichkeit $P_6$ wieder sehr hoch. Der beobachtete Wert (z.B. 1.0000) ist nahe am theoretischen Wert $\\sin^2(13\\theta) \\approx 0.994$. Dies zeigt die periodische Natur der Amplitudenverstärkung. Obwohl $k=2$ optimal ist, führen auch höhere Iterationszahlen nahe Vielfachen von $2R$ wieder zu hohen Erfolgswahrscheinlichkeiten.\n",
    "\n",
    "* **Fazit:** Die Simulationen bestätigen die Funktionsweise des Grover-Algorithmus. Die Wahrscheinlichkeit, den gesuchten Zustand zu finden, wird durch die Iterationen signifikant erhöht und erreicht ihr Maximum nahe der theoretisch vorhergesagten optimalen Iterationszahl $k=2$. Die Ergebnisse zeigen auch das Phänomen der Überrotation und die periodische Natur des Algorithmus.\n",
    "\n",
    "## 6. Abschluss\n",
    "\n",
    "Dieses Notebook hat die gestellten Aufgaben zur Manipulation von Quantenregistern, zur Simulation von Verschränkung, zum Deutsch-Algorithmus und zum Grover-Algorithmus mithilfe von Qiskit gelöst. Die Ergebnisse der Simulationen stimmen mit den theoretischen Erwartungen der Quantenmechanik und der Quantenalgorithmen überein.\n",
    "\n"
   ]
  }
 ],
 "metadata": {
  "kernelspec": {
   "display_name": "Python 3",
   "language": "python",
   "name": "python3"
  },
  "language_info": {
   "codemirror_mode": {
    "name": "ipython",
    "version": 3
   },
   "file_extension": ".py",
   "mimetype": "text/x-python",
   "name": "python",
   "nbconvert_exporter": "python",
   "pygments_lexer": "ipython3",
   "version": "3.12.8"
  }
 },
 "nbformat": 4,
 "nbformat_minor": 5
}
